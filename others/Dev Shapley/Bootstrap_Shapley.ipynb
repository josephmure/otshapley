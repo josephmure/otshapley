{
 "cells": [
  {
   "cell_type": "code",
   "execution_count": 1,
   "metadata": {
    "collapsed": true
   },
   "outputs": [],
   "source": [
    "import openturns as ot\n",
    "import numpy as np\n",
    "import pandas as pd\n",
    "import matplotlib.pyplot as plt"
   ]
  },
  {
   "cell_type": "markdown",
   "metadata": {},
   "source": [
    "## Function for conditional gaussian vector"
   ]
  },
  {
   "cell_type": "markdown",
   "metadata": {},
   "source": [
    "#### Calcul of conditional mean and variance"
   ]
  },
  {
   "cell_type": "code",
   "execution_count": 2,
   "metadata": {
    "collapsed": true
   },
   "outputs": [],
   "source": [
    "def condMVN(mean, cov, dependent_ind, given_ind, X_given):\n",
    "    \n",
    "    \"\"\" Returns conditional mean and variance of X[dependent.ind] | X[given.ind] = X.given\n",
    "    where X is multivariateNormal(mean = mean, covariance = cov)\"\"\"\n",
    "    \n",
    "    cov = np.array(cov)\n",
    "    \n",
    "    B = cov.take(dependent_ind, axis = 1)\n",
    "    B = B[dependent_ind]\n",
    "    \n",
    "    C = cov.take(dependent_ind, axis = 1)\n",
    "    C = C[given_ind]\n",
    "    \n",
    "    D = cov.take(given_ind, axis = 1)\n",
    "    D = D[given_ind]\n",
    "    \n",
    "    CDinv = np.dot(np.transpose(C),np.linalg.inv(D))\n",
    "    \n",
    "    condMean = mean[dependent_ind] + np.dot(CDinv,(X_given - mean[given_ind]))\n",
    "    condVar = B - np.dot(CDinv,C)\n",
    "    condVar = ot.CovarianceMatrix(condVar)\n",
    "    \n",
    "    return condMean,condVar"
   ]
  },
  {
   "cell_type": "markdown",
   "metadata": {},
   "source": [
    "#### Generate conditional law"
   ]
  },
  {
   "cell_type": "code",
   "execution_count": 3,
   "metadata": {
    "collapsed": true
   },
   "outputs": [],
   "source": [
    "def r_condMVN(n, mean, cov, dependent_ind, given_ind, X_given):\n",
    "    \n",
    "    \"\"\" Function to simulate conditional gaussian distribution of X[dependent.ind] | X[given.ind] = X.given\n",
    "    where X is multivariateNormal(mean = mean, covariance = cov)\"\"\"\n",
    "    \n",
    "    cond_mean,cond_var = condMVN(mean, cov, dependent_ind, given_ind, X_given)\n",
    "    distribution = ot.Normal(cond_mean,cond_var)\n",
    "    return distribution.getSample(n)"
   ]
  },
  {
   "cell_type": "markdown",
   "metadata": {},
   "source": [
    "#### Shapley effects of gaussian linear model with three inputs"
   ]
  },
  {
   "cell_type": "code",
   "execution_count": 4,
   "metadata": {
    "collapsed": false
   },
   "outputs": [],
   "source": [
    "def Sh_effects_gaussian_linear_model(coeff_model, cov_matrix, corr):\n",
    "    \n",
    "    \"\"\" Function to calculate the Shapley effects on a gaussian linear model with three inputs\n",
    "    \n",
    "    We assume X1 is independent from both X2 and X3, and that X2 and X3 may be correlated\n",
    "    \"\"\"\n",
    "\n",
    "    Var_inputs = np.diagonal(cov).copy()\n",
    "    Sd_inputs = np.sqrt(Var_inputs)\n",
    "\n",
    "    Var_model = (coeff_model**2*Var_inputs).sum() + 2*corr*coeff_model[1]*coeff_model[2]*Sd_inputs[1]*Sd_inputs[2]\n",
    "    \n",
    "    Sh = np.zeros(3)\n",
    "\n",
    "    Sh[0] = (coeff_model[0]**2*Var_inputs[0])/Var_model\n",
    "\n",
    "    Effect_2 = coeff_model[1]**2*Var_inputs[1]\n",
    "    Effect_3 = coeff_model[2]**2*Var_inputs[2]\n",
    "    Effect_23 = corr*coeff_model[1]*coeff_model[2]*Sd_inputs[1]*Sd_inputs[2]\n",
    "\n",
    "    Sh[1] = (Effect_2 + Effect_23 + corr**2*(Effect_3 - Effect_2)/2)/Var_model\n",
    "    Sh[2] = (Effect_3 + Effect_23 + corr**2*(Effect_2 - Effect_3)/2)/Var_model\n",
    "    \n",
    "    return Sh"
   ]
  },
  {
   "cell_type": "markdown",
   "metadata": {},
   "source": [
    "## Shapley function"
   ]
  },
  {
   "cell_type": "markdown",
   "metadata": {},
   "source": [
    "#### Conceive the design matrix and calculate the output"
   ]
  },
  {
   "cell_type": "code",
   "execution_count": 5,
   "metadata": {
    "collapsed": true
   },
   "outputs": [],
   "source": [
    "def design_output(method, m, model, Xall, Xcond, d, Nv, No, Ni = 3):\n",
    "    \n",
    "    \"\"\"Function to design the design matrix and calculate  the output\"\"\"\n",
    "    \n",
    "    if (method == 'exact'):\n",
    "        perms_tool = ot.KPermutations(d, d)\n",
    "        perms = perms_tool.generate()\n",
    "\n",
    "        m = perms.getSize() # number of permutation\n",
    "    else:\n",
    "        perms = np.zeros((m,d), dtype = np.int64)\n",
    "        for i in range(m):\n",
    "            perms[i] = np.random.permutation(d) # random permutation\n",
    "    \n",
    "    #------------------------------\n",
    "    # Creation of the design matrix\n",
    "    #------------------------------\n",
    "    \n",
    "    X = np.zeros((Nv+m*(d-1)*No*Ni, d)) \n",
    "    X[:Nv,:] = Xall(Nv)\n",
    "\n",
    "    for p in range(m):\n",
    "    \n",
    "        pi = perms[p]\n",
    "        pi_sorted = np.argsort(pi)\n",
    "    \n",
    "        for j in range(1,d):\n",
    "        \n",
    "            Sj = pi[:j] # set of the 0st-(j-1)th elements in pi      \n",
    "            Sjc = pi[j:] # set of the jth-dth elements in pi\n",
    "        \n",
    "            xjcM = Xcond(No,Sjc,None,None)# sampled values of the inputs in Sjc\n",
    "\n",
    "            for l in range(No):\n",
    "                \n",
    "                xjc = xjcM[l,:]\n",
    "            \n",
    "                # sample values of inputs in Sj conditional on xjc\n",
    "                xj = Xcond(Ni, Sj, Sjc, xjc)\n",
    "                xx = np.concatenate((xj, np.ones((Ni,1))*xjc), axis = 1)\n",
    "                ind_inner = Nv + p*(d-1)*No*Ni + (j-1)*No*Ni + l*Ni\n",
    "                X[ind_inner:(ind_inner + Ni),:] = xx[:,pi_sorted]\n",
    "    \n",
    "    #-----------------------\n",
    "    # Calcul of the response\n",
    "    #-----------------------\n",
    "    \n",
    "    y = model(X)\n",
    "    \n",
    "    return perms,y\n"
   ]
  },
  {
   "cell_type": "markdown",
   "metadata": {},
   "source": [
    "#### Caculate the Shapley effetcs and make bootstrap"
   ]
  },
  {
   "cell_type": "code",
   "execution_count": 6,
   "metadata": {
    "collapsed": false
   },
   "outputs": [],
   "source": [
    "def ShapleyPerm_index1(method,bootstrap, perms, y, d, Nv, No, Ni=3):\n",
    "    \n",
    "    \"\"\" Function to calculate the Shapley effects and confidence interval of the values \"\"\"\n",
    "    \n",
    "    if (method == 'exact'):\n",
    "        m = perms.getSize()\n",
    "    else:\n",
    "        m = np.int(perms.shape[0])\n",
    "    \n",
    "    #-----------------------------------------------------------------\n",
    "    # Initialize Shapley, main and total Sobol effects for all players\n",
    "    #-----------------------------------------------------------------\n",
    "    \n",
    "    Sh = np.zeros((bootstrap,d))\n",
    "    Vsob = np.zeros((bootstrap,d))\n",
    "    Tsob = np.zeros((bootstrap,d))\n",
    "    \n",
    "    nV = np.zeros((bootstrap,d)) # number of samples used to estimate V1,...,Vd\n",
    "    nT = np.zeros((bootstrap,d)) # number of samples used to estimate T1,...,Td\n",
    "    \n",
    "    #----------------\n",
    "    # Estimate Var[Y]\n",
    "    #----------------\n",
    "    \n",
    "    Y = y[:Nv]\n",
    "    EY = np.mean(Y)\n",
    "    VarY = np.var(Y, ddof = 1)\n",
    "\n",
    "    y_for_boot = y[Nv:]\n",
    "    \n",
    "    #-----------------------------------------------\n",
    "    # Estimate Shapley, main and total Sobol effects\n",
    "    #-----------------------------------------------\n",
    "    \n",
    "    cVar = np.zeros(No)\n",
    "\n",
    "    for b in range(bootstrap):\n",
    "        \n",
    "        if (b == 0):\n",
    "            y = y_for_boot.copy()\n",
    "        else:\n",
    "            discrete_index_array = np.arange(0, m*(d-1)*No*Ni).reshape(m*(d-1)*No,Ni)\n",
    "            random_boot_1 = np.random.randint(low = 0, high = No, size=(m*(d-1),No))\n",
    "            discrete_No =  np.repeat(np.arange(0,m*(d-1)*No,No)[:,np.newaxis], No, 1)\n",
    "            boot_1_index_to_select = (random_boot_1 + discrete_No).ravel()\n",
    "            boot_1 = discrete_index_array[boot_1_index_to_select].ravel()\n",
    "            y = y_for_boot[boot_1]\n",
    "            \n",
    "            random_boot_2 = np.random.randint(low = 0, high = Ni, size=(m*(d-1)*No,Ni))\n",
    "            discrete_Ni = np.repeat(np.arange(0,m*(d-1)*No*Ni,Ni)[:,np.newaxis], Ni, 1)\n",
    "            boot_2 = (random_boot_2 + discrete_Ni).ravel()\n",
    "            y = y[boot_2]\n",
    "            #y = y_for_boot[boot_2]\n",
    "             \n",
    "        for p in range(m):\n",
    "    \n",
    "            pi = perms[p]\n",
    "            prevC = 0\n",
    "    \n",
    "            for j in range(d):\n",
    "                if (j == (d-1)):\n",
    "                    Chat = VarY\n",
    "                    delta = Chat - prevC\n",
    "                    Vsob[b,pi[j]] = Vsob[b,pi[j]] + prevC # first order effect\n",
    "                    nV[b,pi[j]] = nV[b,pi[j]] + 1\n",
    "                else:\n",
    "                    for l in range(No):\n",
    "                        Y = y[:Ni]\n",
    "                        y = y[Ni:]\n",
    "                        cVar[l] = np.var(Y, ddof = 1)\n",
    "                    Chat = np.mean(cVar)\n",
    "                    delta = Chat - prevC\n",
    "      \n",
    "                Sh[b,pi[j]] = Sh[b,pi[j]] + delta\n",
    "        \n",
    "                prevC = Chat\n",
    "        \n",
    "                if (j == 0):\n",
    "                    Tsob[b,pi[j]] = Tsob[b,pi[j]] + Chat # Total effect\n",
    "                    nT[b,pi[j]] = nT[b,pi[j]] + 1\n",
    "    \n",
    "    Sh = Sh / m / VarY\n",
    "    \n",
    "    if (method == 'exact'):\n",
    "        Vsob = Vsob / (m/d) / VarY # averaging by number of permutations with j=d-1\n",
    "        Vsob = 1 - Vsob \n",
    "        Tsob = Tsob / (m/d) / VarY # averaging by number of permutations with j=1 \n",
    "    else:\n",
    "        Vsob = Vsob / nV / VarY # averaging by number of permutations with j=d-1\n",
    "        Vsob = 1 - Vsob \n",
    "        Tsob = Tsob / nT / VarY # averaging by number of permutations with j=1 \n",
    "    \n",
    "    col = ['X' + str(i) for i in np.arange(d)+1]\n",
    "    percentiles = [0.025,0.975]\n",
    "    \n",
    "    Sh_effects = pd.DataFrame(Sh, columns = col)\n",
    "    Sh_describe = Sh_effects.iloc[1:,:].describe(percentiles=[0.025,0.975])\n",
    "    \n",
    "    Sh_ref = (Sh_effects.iloc[0].values)[:,np.newaxis]\n",
    "    CI_min = 2*Sh_ref - (Sh_describe.iloc[6].values)[:,np.newaxis]\n",
    "    CI_max = 2*Sh_ref - (Sh_describe.iloc[4].values)[:,np.newaxis]\n",
    "\n",
    "    Sh_out = np.concatenate((Sh_ref,CI_min,CI_max),axis=1)\n",
    "\n",
    "#     Vsob_effects = pd.DataFrame(Vsob, columns = col)\n",
    "#     Vsob_describe = Vsob_effects.describe(percentiles=[0.025,0.975])\n",
    "    \n",
    "#     Tsob_effects = pd.DataFrame(Tsob, columns = col)\n",
    "#     Tsob_describe = Tsob_effects.describe(percentiles=[0.025,0.975])\n",
    "    \n",
    "\n",
    "#     return Sh_describe, Vsob_describe, Tsob_describe\n",
    "    return Sh_out"
   ]
  },
  {
   "cell_type": "code",
   "execution_count": 7,
   "metadata": {
    "collapsed": true
   },
   "outputs": [],
   "source": [
    "def ShapleyPerm_index2(method,bootstrap, perms, y, d, Nv, No, Ni=3):\n",
    "    \n",
    "    \"\"\" Function to calculate the Shapley effects and confidence interval of the values \"\"\"\n",
    "    \n",
    "    if (method == 'exact'):\n",
    "        m = perms.getSize()\n",
    "    else:\n",
    "        m = np.int(perms.shape[0])\n",
    "    \n",
    "    #-----------------------------------------------------------------\n",
    "    # Initialize Shapley, main and total Sobol effects for all players\n",
    "    #-----------------------------------------------------------------\n",
    "    \n",
    "    Sh = np.zeros((bootstrap,d))\n",
    "    Vsob = np.zeros((bootstrap,d))\n",
    "    Tsob = np.zeros((bootstrap,d))\n",
    "    \n",
    "    nV = np.zeros((bootstrap,d)) # number of samples used to estimate V1,...,Vd\n",
    "    nT = np.zeros((bootstrap,d)) # number of samples used to estimate T1,...,Td\n",
    "    \n",
    "    #----------------\n",
    "    # Estimate Var[Y]\n",
    "    #----------------\n",
    "    \n",
    "    Y = y[:Nv]\n",
    "    EY = np.mean(Y)\n",
    "    VarY = np.var(Y, ddof = 1)\n",
    "\n",
    "    y_for_boot = y[Nv:]\n",
    "    \n",
    "    #-----------------------------------------------\n",
    "    # Estimate Shapley, main and total Sobol effects\n",
    "    #-----------------------------------------------\n",
    "    \n",
    "    cVar = np.zeros(No)\n",
    "\n",
    "    for b in range(bootstrap):\n",
    "        \n",
    "        if (b == 0):\n",
    "            y = y_for_boot.copy()\n",
    "        else:\n",
    "            random_boot_2 = np.random.randint(low = 0, high = Ni, size=(m*(d-1)*No,Ni))\n",
    "            discrete_Ni = np.repeat(np.arange(0,m*(d-1)*No*Ni,Ni)[:,np.newaxis], Ni, 1)\n",
    "            boot_2 = (random_boot_2 + discrete_Ni).ravel()\n",
    "            y = y_for_boot[boot_2]\n",
    "             \n",
    "        for p in range(m):\n",
    "    \n",
    "            pi = perms[p]\n",
    "            prevC = 0\n",
    "    \n",
    "            for j in range(d):\n",
    "                if (j == (d-1)):\n",
    "                    Chat = VarY\n",
    "                    delta = Chat - prevC\n",
    "                    Vsob[b,pi[j]] = Vsob[b,pi[j]] + prevC # first order effect\n",
    "                    nV[b,pi[j]] = nV[b,pi[j]] + 1\n",
    "                else:\n",
    "                    for l in range(No):\n",
    "                        Y = y[:Ni]\n",
    "                        y = y[Ni:]\n",
    "                        cVar[l] = np.var(Y, ddof = 1)\n",
    "                    Chat = np.mean(cVar)\n",
    "                    delta = Chat - prevC\n",
    "      \n",
    "                Sh[b,pi[j]] = Sh[b,pi[j]] + delta\n",
    "        \n",
    "                prevC = Chat\n",
    "        \n",
    "                if (j == 0):\n",
    "                    Tsob[b,pi[j]] = Tsob[b,pi[j]] + Chat # Total effect\n",
    "                    nT[b,pi[j]] = nT[b,pi[j]] + 1\n",
    "    \n",
    "    Sh = Sh / m / VarY\n",
    "    \n",
    "    if (method == 'exact'):\n",
    "        Vsob = Vsob / (m/d) / VarY # averaging by number of permutations with j=d-1\n",
    "        Vsob = 1 - Vsob \n",
    "        Tsob = Tsob / (m/d) / VarY # averaging by number of permutations with j=1 \n",
    "    else:\n",
    "        Vsob = Vsob / nV / VarY # averaging by number of permutations with j=d-1\n",
    "        Vsob = 1 - Vsob \n",
    "        Tsob = Tsob / nT / VarY # averaging by number of permutations with j=1 \n",
    "    \n",
    "    col = ['X' + str(i) for i in np.arange(d)+1]\n",
    "    percentiles = [0.025,0.975]\n",
    "    \n",
    "    Sh_effects = pd.DataFrame(Sh, columns = col)\n",
    "    Sh_describe = Sh_effects.iloc[1:,:].describe(percentiles=[0.025,0.975])\n",
    "    \n",
    "    Sh_ref = (Sh_effects.iloc[0].values)[:,np.newaxis]\n",
    "    CI_min = 2*Sh_ref - (Sh_describe.iloc[6].values)[:,np.newaxis]\n",
    "    CI_max = 2*Sh_ref - (Sh_describe.iloc[4].values)[:,np.newaxis]\n",
    "\n",
    "    Sh_out = np.concatenate((Sh_ref,CI_min,CI_max),axis=1)\n",
    "\n",
    "#     Vsob_effects = pd.DataFrame(Vsob, columns = col)\n",
    "#     Vsob_describe = Vsob_effects.describe(percentiles=[0.025,0.975])\n",
    "    \n",
    "#     Tsob_effects = pd.DataFrame(Tsob, columns = col)\n",
    "#     Tsob_describe = Tsob_effects.describe(percentiles=[0.025,0.975])\n",
    "    \n",
    "\n",
    "#     return Sh_describe, Vsob_describe, Tsob_describe\n",
    "    return Sh_out"
   ]
  },
  {
   "cell_type": "markdown",
   "metadata": {},
   "source": [
    "## Evaluation Shapley effects on linear gaussian model"
   ]
  },
  {
   "cell_type": "markdown",
   "metadata": {},
   "source": [
    "#### Parameters of the model"
   ]
  },
  {
   "cell_type": "code",
   "execution_count": 8,
   "metadata": {
    "collapsed": true
   },
   "outputs": [],
   "source": [
    "d = 3\n",
    "coeff_model = np.array([1,1,1])\n",
    "\n",
    "moyenne = np.zeros(3)\n",
    "corr = 0.9\n",
    "cov = np.array([[1.0, 0, 0], [0, 1.0, 1.8], [0, 1.8, 4.0]])\n",
    "cov = ot.CovarianceMatrix(cov)\n",
    "\n",
    "def gaussian_model(X):\n",
    "    return np.sum(X,1)"
   ]
  },
  {
   "cell_type": "markdown",
   "metadata": {},
   "source": [
    "#### Function to estimate Shapley effects"
   ]
  },
  {
   "cell_type": "code",
   "execution_count": 9,
   "metadata": {
    "collapsed": true
   },
   "outputs": [],
   "source": [
    "def Xall(n):\n",
    "    distribution = ot.Normal(moyenne,cov)\n",
    "    return distribution.getSample(n)\n",
    "\n",
    "def Xcond(n, Sj, Sjc, xjc):\n",
    "    if Sjc is None:\n",
    "        cov_int = np.array(cov)\n",
    "        cov_int = cov_int.take(Sj, axis = 1)\n",
    "        cov_int = cov_int[Sj]        \n",
    "        cov_int = ot.CovarianceMatrix(cov_int)\n",
    "        distribution = ot.Normal(moyenne[Sj],cov_int)\n",
    "        return distribution.getSample(n)\n",
    "    else:\n",
    "        return r_condMVN(n,mean = moyenne, cov = cov, dependent_ind = Sj, given_ind = Sjc, X_given = xjc)"
   ]
  },
  {
   "cell_type": "markdown",
   "metadata": {},
   "source": [
    "#### Calculate true values of the Shapley effects"
   ]
  },
  {
   "cell_type": "code",
   "execution_count": 10,
   "metadata": {
    "collapsed": true
   },
   "outputs": [],
   "source": [
    "True_Sh = Sh_effects_gaussian_linear_model(coeff_model, cov, corr)"
   ]
  },
  {
   "cell_type": "markdown",
   "metadata": {},
   "source": [
    "#### Estimate Shapley effects with Exact method of permutations"
   ]
  },
  {
   "cell_type": "markdown",
   "metadata": {},
   "source": [
    "##### Test de différents configurations sur le bootstrap"
   ]
  },
  {
   "cell_type": "markdown",
   "metadata": {},
   "source": [
    "###### Config 1"
   ]
  },
  {
   "cell_type": "code",
   "execution_count": null,
   "metadata": {
    "collapsed": true
   },
   "outputs": [],
   "source": [
    "col = ['Sh','ICmin','ICmax']\n",
    "writer = pd.ExcelWriter('index.xlsx', engine='xlsxwriter')"
   ]
  },
  {
   "cell_type": "code",
   "execution_count": 11,
   "metadata": {
    "collapsed": false
   },
   "outputs": [
    {
     "name": "stdout",
     "output_type": "stream",
     "text": [
      "[[ 0.10320884  0.01992395  0.03439846]\n",
      " [ 0.42364169  0.44349462  0.45698183]\n",
      " [ 0.47314947  0.51521642  0.52653977]]\n"
     ]
    }
   ],
   "source": [
    "method = 'exact'\n",
    "m = None\n",
    "Nv = 10**4\n",
    "No = 10**3\n",
    "Ni = 3\n",
    "\n",
    "perms, y = design_output(method, m, gaussian_model, Xall, Xcond, d, Nv, No, Ni)\n",
    "\n",
    "bootstrap = 10**3\n",
    "Sh = ShapleyPerm_index1(method, bootstrap, perms, y, d, Nv, No, Ni)\n",
    "\n",
    "pd.DataFrame(Sh, columns=col).to_excel(writer,sheet_name='Ni_3_boot_3_index1')"
   ]
  },
  {
   "cell_type": "code",
   "execution_count": null,
   "metadata": {
    "collapsed": true
   },
   "outputs": [],
   "source": [
    "bootstrap = 10**4\n",
    "Sh = ShapleyPerm_index1(method, bootstrap, perms, y, d, Nv, No, Ni)\n",
    "\n",
    "pd.DataFrame(Sh, columns=col).to_excel(writer,sheet_name='Ni_3_boot_4_index1')"
   ]
  },
  {
   "cell_type": "code",
   "execution_count": 14,
   "metadata": {
    "collapsed": false
   },
   "outputs": [
    {
     "name": "stdout",
     "output_type": "stream",
     "text": [
      "[[ 0.10320884  0.01659464  0.0358185 ]\n",
      " [ 0.42364169  0.44642907  0.4610345 ]\n",
      " [ 0.47314947  0.51481009  0.52320737]]\n"
     ]
    }
   ],
   "source": [
    "bootstrap = 10**3\n",
    "Sh = ShapleyPerm_index2(method, bootstrap, perms, y, d, Nv, No, Ni)\n",
    "\n",
    "pd.DataFrame(Sh, columns=col).to_excel(writer,sheet_name='Ni_3_boot_3_index2')"
   ]
  },
  {
   "cell_type": "code",
   "execution_count": null,
   "metadata": {
    "collapsed": true
   },
   "outputs": [],
   "source": [
    "bootstrap = 10**4\n",
    "Sh = ShapleyPerm_index2(method, bootstrap, perms, y, d, Nv, No, Ni)\n",
    "\n",
    "pd.DataFrame(Sh, columns=col).to_excel(writer,sheet_name='Ni_3_boot_4_index2')"
   ]
  },
  {
   "cell_type": "markdown",
   "metadata": {},
   "source": [
    "###### Config 2"
   ]
  },
  {
   "cell_type": "code",
   "execution_count": null,
   "metadata": {
    "collapsed": true
   },
   "outputs": [],
   "source": [
    "method = 'exact'\n",
    "m = None\n",
    "Nv = 10**4\n",
    "No = 10**3\n",
    "Ni = 10**2\n",
    "\n",
    "perms, y = design_output(method, m, gaussian_model, Xall, Xcond, d, Nv, No, Ni)\n",
    "\n",
    "bootstrap = 10**3\n",
    "Sh = ShapleyPerm_index1(method, bootstrap, perms, y, d, Nv, No, Ni)\n",
    "\n",
    "pd.DataFrame(Sh, columns=col).to_excel(writer,sheet_name='Ni_100_boot_3_index1')"
   ]
  },
  {
   "cell_type": "code",
   "execution_count": null,
   "metadata": {
    "collapsed": true
   },
   "outputs": [],
   "source": [
    "bootstrap = 10**4\n",
    "Sh = ShapleyPerm_index1(method, bootstrap, perms, y, d, Nv, No, Ni)\n",
    "\n",
    "pd.DataFrame(Sh, columns=col).to_excel(writer,sheet_name='Ni_100_boot_4_index1')"
   ]
  },
  {
   "cell_type": "code",
   "execution_count": null,
   "metadata": {
    "collapsed": true
   },
   "outputs": [],
   "source": [
    "bootstrap = 10**3\n",
    "Sh = ShapleyPerm_index2(method, bootstrap, perms, y, d, Nv, No, Ni)\n",
    "\n",
    "pd.DataFrame(Sh, columns=col).to_excel(writer,sheet_name='Ni_100_boot_3_index2')"
   ]
  },
  {
   "cell_type": "code",
   "execution_count": null,
   "metadata": {
    "collapsed": true
   },
   "outputs": [],
   "source": [
    "bootstrap = 10**4\n",
    "Sh = ShapleyPerm_index2(method, bootstrap, perms, y, d, Nv, No, Ni)\n",
    "\n",
    "pd.DataFrame(Sh, columns=col).to_excel(writer,sheet_name='Ni_100_boot_4_index2')"
   ]
  },
  {
   "cell_type": "code",
   "execution_count": null,
   "metadata": {
    "collapsed": true
   },
   "outputs": [],
   "source": [
    "# Close the Pandas Excel writer and output the Excel file.\n",
    "writer.save()"
   ]
  },
  {
   "cell_type": "code",
   "execution_count": null,
   "metadata": {
    "collapsed": true
   },
   "outputs": [],
   "source": [
    "method = 'exact'\n",
    "m = None\n",
    "Nv = 10**4\n",
    "No = 10**3\n",
    "Ni = 10**2\n",
    "\n",
    "perms, y = design_output(method, m, gaussian_model, Xall, Xcond, d, Nv, No, Ni)\n",
    "\n",
    "bootstrap = 10writer = pd.ExcelWriter('pandas_simple.xlsx', engine='xlsxwriter')\n",
    "\n",
    "# Convert the dataframe to an XlsxWriter Excel object.\n",
    "df.to_excel(writer, sheet_name='Sheet1')\n",
    "\n",
    "# Close the Pandas Excel writer and output the Excel file.\n",
    "writer.save()\n",
    "Sh = ShapleyPerm_index1(method, bootstrap, perms, y, d, Nv, No, Ni)\n",
    "\n",
    "print(Sh)"
   ]
  },
  {
   "cell_type": "code",
   "execution_count": null,
   "metadata": {
    "collapsed": true
   },
   "outputs": [],
   "source": [
    "bootstrap = 10\n",
    "Sh = ShapleyPerm_index1(method, bootstrap, perms, y, d, Nv, No, Ni)\n",
    "\n",
    "print(Sh)"
   ]
  },
  {
   "cell_type": "code",
   "execution_count": 18,
   "metadata": {
    "collapsed": false
   },
   "outputs": [
    {
     "data": {
      "text/html": [
       "<div>\n",
       "<style>\n",
       "    .dataframe thead tr:only-child th {\n",
       "        text-align: right;\n",
       "    }\n",
       "\n",
       "    .dataframe thead th {\n",
       "        text-align: left;\n",
       "    }\n",
       "\n",
       "    .dataframe tbody tr th {\n",
       "        vertical-align: top;\n",
       "    }\n",
       "</style>\n",
       "<table border=\"1\" class=\"dataframe\">\n",
       "  <thead>\n",
       "    <tr style=\"text-align: right;\">\n",
       "      <th></th>\n",
       "      <th>Sh</th>\n",
       "      <th>ICmin</th>\n",
       "      <th>ICmax</th>\n",
       "    </tr>\n",
       "  </thead>\n",
       "  <tbody>\n",
       "    <tr>\n",
       "      <th>0</th>\n",
       "      <td>0.103209</td>\n",
       "      <td>0.016595</td>\n",
       "      <td>0.035818</td>\n",
       "    </tr>\n",
       "    <tr>\n",
       "      <th>1</th>\n",
       "      <td>0.423642</td>\n",
       "      <td>0.446429</td>\n",
       "      <td>0.461035</td>\n",
       "    </tr>\n",
       "    <tr>\n",
       "      <th>2</th>\n",
       "      <td>0.473149</td>\n",
       "      <td>0.514810</td>\n",
       "      <td>0.523207</td>\n",
       "    </tr>\n",
       "  </tbody>\n",
       "</table>\n",
       "</div>"
      ],
      "text/plain": [
       "         Sh     ICmin     ICmax\n",
       "0  0.103209  0.016595  0.035818\n",
       "1  0.423642  0.446429  0.461035\n",
       "2  0.473149  0.514810  0.523207"
      ]
     },
     "execution_count": 18,
     "metadata": {},
     "output_type": "execute_result"
    }
   ],
   "source": [
    "col = ['Sh','ICmin','ICmax']\n",
    "pd.DataFrame(Sh, columns=col)"
   ]
  },
  {
   "cell_type": "code",
   "execution_count": null,
   "metadata": {
    "collapsed": false
   },
   "outputs": [],
   "source": [
    "method = 'exact'\n",
    "m = None\n",
    "Nv = 10**4\n",
    "No = 10**3\n",
    "Ni = 3\n",
    "\n",
    "perms, y = design_output(method, m, gaussian_model, Xall, Xcond, d, Nv, No, Ni)\n",
    "\n",
    "bootstrap = 10\n",
    "Sh = ShapleyPerm_index1(method, bootstrap, perms, y, d, Nv, No, Ni)\n",
    "\n",
    "# print('Exact method \\n\\n')\n",
    "# print('True Shapley \\n' + str(True_Sh) + '\\n\\n')\n",
    "# print('Shapley effects \\n' + str(Sh) + '\\n\\n')\n",
    "# print('First order Sobol \\n' + str(Vsob) + '\\n\\n')\n",
    "# print('Total Sobol \\n' + str(Tsob) + '\\n\\n')\n",
    "\n",
    "# # Create a Pandas Excel writer using XlsxWriter as the engine.\n",
    "# writer = pd.ExcelWriter('index.xlsx')\n",
    "\n",
    "# # Convert the dataframe to an XlsxWriter Excel object.\n",
    "# Sh.to_excel(writer, sheet_name='Shapley')\n",
    "# Vsob.to_excel(writer, sheet_name='First_sobol')\n",
    "# Tsob.to_excel(writer, sheet_name='Total_sobol')\n",
    "\n",
    "# # Close the Pandas Excel writer and output the Excel file.\n",
    "# writer.save()"
   ]
  },
  {
   "cell_type": "code",
   "execution_count": null,
   "metadata": {
    "collapsed": false
   },
   "outputs": [],
   "source": [
    "# # Random method\n",
    "# method = 'random'\n",
    "# m = 6000\n",
    "# Nv = 10**4\n",
    "# No = 1\n",
    "# Ni = 3\n",
    "\n",
    "# index = ShapleyPerm(method,m,gaussian_model, Xall, Xcond, d, Nv, No, Ni)\n",
    "# print('Random method \\n' + str(index) + '\\n')c"
   ]
  }
 ],
 "metadata": {
  "kernelspec": {
   "display_name": "Python 2",
   "language": "python",
   "name": "python2"
  },
  "language_info": {
   "codemirror_mode": {
    "name": "ipython",
    "version": 2
   },
   "file_extension": ".py",
   "mimetype": "text/x-python",
   "name": "python",
   "nbconvert_exporter": "python",
   "pygments_lexer": "ipython2",
   "version": "2.7.13"
  }
 },
 "nbformat": 4,
 "nbformat_minor": 0
}
