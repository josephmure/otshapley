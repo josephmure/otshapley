{
 "cells": [
  {
   "cell_type": "code",
   "execution_count": 1,
   "metadata": {
    "collapsed": true
   },
   "outputs": [],
   "source": [
    "import openturns as ot\n",
    "import numpy as np\n",
    "import pandas as pd\n",
    "import matplotlib.pyplot as plt"
   ]
  },
  {
   "cell_type": "markdown",
   "metadata": {},
   "source": [
    "## Function for conditional gaussian vector"
   ]
  },
  {
   "cell_type": "markdown",
   "metadata": {},
   "source": [
    "#### Calcul of conditional mean and variance"
   ]
  },
  {
   "cell_type": "code",
   "execution_count": 2,
   "metadata": {
    "collapsed": true
   },
   "outputs": [],
   "source": [
    "def condMVN(mean, cov, dependent_ind, given_ind, X_given):\n",
    "    \n",
    "    \"\"\" Returns conditional mean and variance of X[dependent.ind] | X[given.ind] = X.given\n",
    "    where X is multivariateNormal(mean = mean, covariance = cov)\"\"\"\n",
    "    \n",
    "    cov = np.array(cov)\n",
    "    \n",
    "    B = cov.take(dependent_ind, axis = 1)\n",
    "    B = B[dependent_ind]\n",
    "    \n",
    "    C = cov.take(dependent_ind, axis = 1)\n",
    "    C = C[given_ind]\n",
    "    \n",
    "    D = cov.take(given_ind, axis = 1)\n",
    "    D = D[given_ind]\n",
    "    \n",
    "    CDinv = np.dot(np.transpose(C),np.linalg.inv(D))\n",
    "    \n",
    "    condMean = mean[dependent_ind] + np.dot(CDinv,(X_given - mean[given_ind]))\n",
    "    condVar = B - np.dot(CDinv,C)\n",
    "    condVar = ot.CovarianceMatrix(condVar)\n",
    "    \n",
    "    return condMean,condVar"
   ]
  },
  {
   "cell_type": "markdown",
   "metadata": {},
   "source": [
    "#### Generate conditional law"
   ]
  },
  {
   "cell_type": "code",
   "execution_count": 3,
   "metadata": {
    "collapsed": true
   },
   "outputs": [],
   "source": [
    "def r_condMVN(n, mean, cov, dependent_ind, given_ind, X_given):\n",
    "    \n",
    "    \"\"\" Function to simulate conditional gaussian distribution of X[dependent.ind] | X[given.ind] = X.given\n",
    "    where X is multivariateNormal(mean = mean, covariance = cov)\"\"\"\n",
    "    \n",
    "    cond_mean,cond_var = condMVN(mean, cov, dependent_ind, given_ind, X_given)\n",
    "    distribution = ot.Normal(cond_mean,cond_var)\n",
    "    return distribution.getSample(n)"
   ]
  },
  {
   "cell_type": "markdown",
   "metadata": {},
   "source": [
    "#### Shapley effects of gaussian linear model with three inputs"
   ]
  },
  {
   "cell_type": "code",
   "execution_count": 4,
   "metadata": {
    "collapsed": false
   },
   "outputs": [],
   "source": [
    "def Sh_effects_gaussian_linear_model(coeff_model, cov_matrix, corr):\n",
    "    \n",
    "    \"\"\" Function to calculate the Shapley effects on a gaussian linear model with three inputs\n",
    "    \n",
    "    We assume X1 is independent from both X2 and X3, and that X2 and X3 may be correlated\n",
    "    \"\"\"\n",
    "\n",
    "    Var_inputs = np.diagonal(cov).copy()\n",
    "    Sd_inputs = np.sqrt(Var_inputs)\n",
    "\n",
    "    Var_model = (coeff_model**2*Var_inputs).sum() + 2*corr*coeff_model[1]*coeff_model[2]*Sd_inputs[1]*Sd_inputs[2]\n",
    "    \n",
    "    Sh = np.zeros(3)\n",
    "\n",
    "    Sh[0] = (coeff_model[0]**2*Var_inputs[0])/Var_model\n",
    "\n",
    "    Effect_2 = coeff_model[1]**2*Var_inputs[1]\n",
    "    Effect_3 = coeff_model[2]**2*Var_inputs[2]\n",
    "    Effect_23 = corr*coeff_model[1]*coeff_model[2]*Sd_inputs[1]*Sd_inputs[2]\n",
    "\n",
    "    Sh[1] = (Effect_2 + Effect_23 + corr**2*(Effect_3 - Effect_2)/2)/Var_model\n",
    "    Sh[2] = (Effect_3 + Effect_23 + corr**2*(Effect_2 - Effect_3)/2)/Var_model\n",
    "    \n",
    "    return Sh"
   ]
  },
  {
   "cell_type": "markdown",
   "metadata": {},
   "source": [
    "## Shapley function"
   ]
  },
  {
   "cell_type": "markdown",
   "metadata": {},
   "source": [
    "#### Conceive the design matrix and calculate the output"
   ]
  },
  {
   "cell_type": "code",
   "execution_count": 5,
   "metadata": {
    "collapsed": true
   },
   "outputs": [],
   "source": [
    "def design_output(method, m, model, Xall, Xcond, d, Nv, No, Ni = 3):\n",
    "    \n",
    "    \"\"\"Function to design the design matrix and calculate  the output\"\"\"\n",
    "    \n",
    "    if (method == 'exact'):\n",
    "        perms_tool = ot.KPermutations(d, d)\n",
    "        perms = perms_tool.generate()\n",
    "\n",
    "        m = perms.getSize() # number of permutation\n",
    "    else:\n",
    "        perms = np.zeros((m,d), dtype = np.int64)\n",
    "        for i in range(m):\n",
    "            perms[i] = np.random.permutation(d) # random permutation\n",
    "    \n",
    "    #------------------------------\n",
    "    # Creation of the design matrix\n",
    "    #------------------------------\n",
    "    \n",
    "    X = np.zeros((Nv+m*(d-1)*No*Ni, d)) \n",
    "    X[:Nv,:] = Xall(Nv)\n",
    "\n",
    "    for p in range(m):\n",
    "    \n",
    "        pi = perms[p]\n",
    "        pi_sorted = np.argsort(pi)\n",
    "    \n",
    "        for j in range(1,d):\n",
    "        \n",
    "            Sj = pi[:j] # set of the 0st-(j-1)th elements in pi      \n",
    "            Sjc = pi[j:] # set of the jth-dth elements in pi\n",
    "        \n",
    "            xjcM = Xcond(No,Sjc,None,None)# sampled values of the inputs in Sjc\n",
    "\n",
    "            for l in range(No):\n",
    "                \n",
    "                xjc = xjcM[l,:]\n",
    "            \n",
    "                # sample values of inputs in Sj conditional on xjc\n",
    "                xj = Xcond(Ni, Sj, Sjc, xjc)\n",
    "                xx = np.concatenate((xj, np.ones((Ni,1))*xjc), axis = 1)\n",
    "                ind_inner = Nv + p*(d-1)*No*Ni + (j-1)*No*Ni + l*Ni\n",
    "                X[ind_inner:(ind_inner + Ni),:] = xx[:,pi_sorted]\n",
    "    \n",
    "    #-----------------------\n",
    "    # Calcul of the response\n",
    "    #-----------------------\n",
    "    \n",
    "    y = model(X)\n",
    "    \n",
    "    return perms,y\n"
   ]
  },
  {
   "cell_type": "markdown",
   "metadata": {},
   "source": [
    "#### Caculate the Shapley effetcs and make bootstrap"
   ]
  },
  {
   "cell_type": "code",
   "execution_count": 6,
   "metadata": {
    "collapsed": false
   },
   "outputs": [],
   "source": [
    "def ShapleyPerm(method,bootstrap, perms, y, d, Nv, No, Ni=3):\n",
    "    \n",
    "    \"\"\" Function to calculate the Shapley effects and confidence interval of the values \"\"\"\n",
    "    \n",
    "    if (method == 'exact'):\n",
    "        m = perms.getSize()\n",
    "    else:\n",
    "        m = np.int(perms.shape[0])\n",
    "    \n",
    "    #-----------------------------------------------------------------\n",
    "    # Initialize Shapley, main and total Sobol effects for all players\n",
    "    #-----------------------------------------------------------------\n",
    "    \n",
    "    Sh = np.zeros((bootstrap,d))\n",
    "    Vsob = np.zeros((bootstrap,d))\n",
    "    Tsob = np.zeros((bootstrap,d))\n",
    "    \n",
    "    nV = np.zeros((bootstrap,d)) # number of samples used to estimate V1,...,Vd\n",
    "    nT = np.zeros((bootstrap,d)) # number of samples used to estimate T1,...,Td\n",
    "    \n",
    "    #----------------\n",
    "    # Estimate Var[Y]\n",
    "    #----------------\n",
    "    \n",
    "    Y = y[:Nv]\n",
    "    EY = np.mean(Y)\n",
    "    VarY = np.var(Y, ddof = 1)\n",
    "\n",
    "    y_for_boot = y[Nv:]\n",
    "    \n",
    "    #-----------------------------------------------\n",
    "    # Estimate Shapley, main and total Sobol effects\n",
    "    #-----------------------------------------------\n",
    "    \n",
    "    cVar = np.zeros(No)\n",
    "\n",
    "    for b in range(bootstrap):\n",
    "        \n",
    "        if (b == 0):\n",
    "            y = y_for_boot.copy()\n",
    "        else:\n",
    "            boot_idx = np.random.randint(low = 0, high = Ni, size=(m*(d-1)*No,Ni))\n",
    "            temp = np.repeat(np.arange(0,m*(d-1)*No*Ni,Ni)[:,np.newaxis], Ni, 1)\n",
    "            boot_idx = boot_idx + temp\n",
    "            boot_idx = boot_idx.reshape(m*(d-1)*No*Ni,1)\n",
    "            y = y_for_boot[boot_idx]\n",
    "             \n",
    "        for p in range(m):\n",
    "    \n",
    "            pi = perms[p]\n",
    "            prevC = 0\n",
    "    \n",
    "            for j in range(d):\n",
    "                if (j == (d-1)):\n",
    "                    Chat = VarY\n",
    "                    delta = Chat - prevC\n",
    "                    Vsob[b,pi[j]] = Vsob[b,pi[j]] + prevC # first order effect\n",
    "                    nV[b,pi[j]] = nV[b,pi[j]] + 1\n",
    "                else:\n",
    "                    for l in range(No):\n",
    "                        Y = y[:Ni]\n",
    "                        y = y[Ni:]\n",
    "                        cVar[l] = np.var(Y, ddof = 1)\n",
    "                    Chat = np.mean(cVar)\n",
    "                    delta = Chat - prevC\n",
    "      \n",
    "                Sh[b,pi[j]] = Sh[b,pi[j]] + delta\n",
    "        \n",
    "                prevC = Chat\n",
    "        \n",
    "                if (j == 0):\n",
    "                    Tsob[b,pi[j]] = Tsob[b,pi[j]] + Chat # Total effect\n",
    "                    nT[b,pi[j]] = nT[b,pi[j]] + 1\n",
    "    \n",
    "    Sh = Sh / m / VarY\n",
    "    \n",
    "    if (method == 'exact'):\n",
    "        Vsob = Vsob / (m/d) / VarY # averaging by number of permutations with j=d-1\n",
    "        Vsob = 1 - Vsob \n",
    "        Tsob = Tsob / (m/d) / VarY # averaging by number of permutations with j=1 \n",
    "    else:\n",
    "        Vsob = Vsob / nV / VarY # averaging by number of permutations with j=d-1\n",
    "        Vsob = 1 - Vsob \n",
    "        Tsob = Tsob / nT / VarY # averaging by number of permutations with j=1 \n",
    "    \n",
    "    col = ['X' + str(i) for i in np.arange(d)+1]\n",
    "    percentiles = [0.025,0.975]\n",
    "    \n",
    "    Sh_effects = pd.DataFrame(Sh, columns = col)\n",
    "    Sh_describe = Sh_effects.describe(percentiles=[0.025,0.975])\n",
    "\n",
    "    Vsob_effects = pd.DataFrame(Vsob, columns = col)\n",
    "    Vsob_describe = Vsob_effects.describe(percentiles=[0.025,0.975])\n",
    "    \n",
    "    Tsob_effects = pd.DataFrame(Tsob, columns = col)\n",
    "    Tsob_describe = Tsob_effects.describe(percentiles=[0.025,0.975])\n",
    "    \n",
    "\n",
    "    return Sh_describe, Vsob_describe, Tsob_describe"
   ]
  },
  {
   "cell_type": "markdown",
   "metadata": {},
   "source": [
    "## Evaluation Shapley effects on linear gaussian model"
   ]
  },
  {
   "cell_type": "markdown",
   "metadata": {},
   "source": [
    "#### Parameters of the model"
   ]
  },
  {
   "cell_type": "code",
   "execution_count": null,
   "metadata": {
    "collapsed": true
   },
   "outputs": [],
   "source": [
    "d = 3\n",
    "coeff_model = np.array([1,1,1])\n",
    "\n",
    "moyenne = np.zeros(3)\n",
    "corr = 0.9\n",
    "cov = np.array([[1.0, 0, 0], [0, 1.0, 1.8], [0, 1.8, 4.0]])\n",
    "cov = ot.CovarianceMatrix(cov)\n",
    "\n",
    "def gaussian_model(X):\n",
    "    return np.sum(X,1)"
   ]
  },
  {
   "cell_type": "markdown",
   "metadata": {},
   "source": [
    "#### Function to estimate Shapley effects"
   ]
  },
  {
   "cell_type": "code",
   "execution_count": null,
   "metadata": {
    "collapsed": true
   },
   "outputs": [],
   "source": [
    "def Xall(n):\n",
    "    distribution = ot.Normal(moyenne,cov)\n",
    "    return distribution.getSample(n)\n",
    "\n",
    "def Xcond(n, Sj, Sjc, xjc):\n",
    "    if Sjc is None:\n",
    "        cov_int = np.array(cov)\n",
    "        cov_int = cov_int.take(Sj, axis = 1)\n",
    "        cov_int = cov_int[Sj]        \n",
    "        cov_int = ot.CovarianceMatrix(cov_int)\n",
    "        distribution = ot.Normal(moyenne[Sj],cov_int)\n",
    "        return distribution.getSample(n)\n",
    "    else:\n",
    "        return r_condMVN(n,mean = moyenne, cov = cov, dependent_ind = Sj, given_ind = Sjc, X_given = xjc)"
   ]
  },
  {
   "cell_type": "markdown",
   "metadata": {},
   "source": [
    "#### Calculate true values of the Shapley effects"
   ]
  },
  {
   "cell_type": "code",
   "execution_count": null,
   "metadata": {
    "collapsed": true
   },
   "outputs": [],
   "source": [
    "True_Sh = Sh_effects_gaussian_linear_model(coeff_model, cov, corr)\n"
   ]
  },
  {
   "cell_type": "markdown",
   "metadata": {},
   "source": [
    "#### Estimate Shapley effects with Exact method of permutations"
   ]
  },
  {
   "cell_type": "code",
   "execution_count": null,
   "metadata": {
    "collapsed": true
   },
   "outputs": [],
   "source": [
    "method = 'exact'\n",
    "bootstrap = 5\n",
    "m = None\n",
    "Nv = 10**4\n",
    "No = 10**3\n",
    "Ni = 10\n",
    "\n",
    "perms, y = design_output(method, m, gaussian_model, Xall, Xcond, d, Nv, No, Ni)\n",
    "\n",
    "Sh, Vsob, Tsob = ShapleyPerm(method, bootstrap, perms, y, d, Nv, No, Ni)\n",
    "\n",
    "print('Exact method \\n\\n')\n",
    "\n",
    "print('Shapley effects \\n' + str(Sh) + '\\n\\n')\n",
    "print('First order Sobol \\n' + str(Vsob) + '\\n\\n')\n",
    "print('Total Sobol \\n' + str(Tsob) + '\\n\\n')\n",
    "\n",
    "# Create a Pandas Excel writer using XlsxWriter as the engine.\n",
    "writer = pd.ExcelWriter('index.xlsx', engine='xlsxwriter')\n",
    "\n",
    "# Convert the dataframe to an XlsxWriter Excel object.\n",
    "Sh.to_excel(writer, sheet_name='Shapley')\n",
    "Vsob.to_excel(writer, sheet_name='First_sobol')\n",
    "Tsob.to_excel(writer, sheet_name='Total_sobol')\n",
    "\n",
    "# Close the Pandas Excel writer and output the Excel file.\n",
    "writer.save()"
   ]
  },
  {
   "cell_type": "code",
   "execution_count": 8,
   "metadata": {
    "collapsed": false
   },
   "outputs": [
    {
     "name": "stdout",
     "output_type": "stream",
     "text": [
      "Exact method \n",
      "\n",
      "\n",
      "Shapley effects \n",
      "             X1        X2        X3\n",
      "count  5.000000  5.000000  5.000000\n",
      "mean   0.113804  0.414713  0.471483\n",
      "std    0.011302  0.004613  0.007216\n",
      "min    0.093994  0.409261  0.466433\n",
      "2.5%   0.096104  0.409732  0.466454\n",
      "50%    0.119094  0.414001  0.469504\n",
      "97.5%  0.121072  0.421290  0.482632\n",
      "max    0.121235  0.422071  0.483936\n",
      "\n",
      "\n",
      "First order Sobol \n",
      "             X1        X2        X3\n",
      "count  5.000000  5.000000  5.000000\n",
      "mean   0.147742  0.829454  0.883383\n",
      "std    0.042990  0.008071  0.005620\n",
      "min    0.071671  0.815149  0.873346\n",
      "2.5%   0.080254  0.816850  0.874559\n",
      "50%    0.166529  0.832354  0.885676\n",
      "97.5%  0.174509  0.834676  0.886269\n",
      "max    0.175260  0.834894  0.886284\n",
      "\n",
      "\n",
      "Total Sobol \n",
      "             X1        X2        X3\n",
      "count  5.000000  5.000000  5.000000\n",
      "mean   0.097191  0.018824  0.074441\n",
      "std    0.004784  0.000932  0.003908\n",
      "min    0.094528  0.018204  0.070961\n",
      "2.5%   0.094582  0.018217  0.071151\n",
      "50%    0.095089  0.018495  0.073391\n",
      "97.5%  0.104707  0.020282  0.080420\n",
      "max    0.105725  0.020468  0.081151\n",
      "\n",
      "\n"
     ]
    }
   ],
   "source": [
    "# # Random method\n",
    "# method = 'random'\n",
    "# m = 6000\n",
    "# Nv = 10**4\n",
    "# No = 1\n",
    "# Ni = 3\n",
    "\n",
    "# index = ShapleyPerm(method,m,gaussian_model, Xall, Xcond, d, Nv, No, Ni)\n",
    "# print('Random method \\n' + str(index) + '\\n')c"
   ]
  },
  {
   "cell_type": "code",
   "execution_count": null,
   "metadata": {
    "collapsed": false
   },
   "outputs": [],
   "source": []
  },
  {
   "cell_type": "code",
   "execution_count": null,
   "metadata": {
    "collapsed": false
   },
   "outputs": [],
   "source": []
  }
 ],
 "metadata": {
  "kernelspec": {
   "display_name": "Python 2",
   "language": "python",
   "name": "python2"
  },
  "language_info": {
   "codemirror_mode": {
    "name": "ipython",
    "version": 2
   },
   "file_extension": ".py",
   "mimetype": "text/x-python",
   "name": "python",
   "nbconvert_exporter": "python",
   "pygments_lexer": "ipython2",
   "version": "2.7.13"
  }
 },
 "nbformat": 4,
 "nbformat_minor": 0
}
