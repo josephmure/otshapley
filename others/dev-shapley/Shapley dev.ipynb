{
 "cells": [
  {
   "cell_type": "code",
   "execution_count": 63,
   "metadata": {
    "collapsed": true
   },
   "outputs": [],
   "source": [
    "import numpy as np\n",
    "import openturns as ot"
   ]
  },
  {
   "cell_type": "markdown",
   "metadata": {},
   "source": [
    "## Test conditionnement avec OT mais comportement similaire à Vraisemblance"
   ]
  },
  {
   "cell_type": "code",
   "execution_count": 64,
   "metadata": {
    "scrolled": true
   },
   "outputs": [],
   "source": [
    "#     conditionedDist = ot.Normal()\n",
    "\n",
    "#     mu = np.zeros(2)\n",
    "#     cov = ot.CovarianceMatrix(np.array([[1.0 , 1.8], [1.8 , 4.0]]))\n",
    "#     conditioningDist = ot.Normal(mu,cov)\n",
    "\n",
    "\n",
    "#     finalDist = ot.ConditionalDistribution(conditionedDist, conditioningDist)\n",
    "#     #finalDist.getSample(3)"
   ]
  },
  {
   "cell_type": "markdown",
   "metadata": {},
   "source": [
    "## Modèle gaussien avec 3 entrées"
   ]
  },
  {
   "cell_type": "markdown",
   "metadata": {},
   "source": [
    "#### Définition du modèle"
   ]
  },
  {
   "cell_type": "code",
   "execution_count": 65,
   "metadata": {
    "collapsed": true
   },
   "outputs": [],
   "source": [
    "def model(X):\n",
    "    return np.sum(X,1)\n",
    "\n",
    "moyenne = np.zeros(3)\n",
    "cov = np.array([[1.0, 0, 0], [0, 1.0, 1.8], [0, 1.8, 4.0]])\n",
    "cov = ot.CovarianceMatrix(cov)\n",
    "\n",
    "#dependent_ind = np.array([0,1])\n",
    "#given_ind = np.array([2])"
   ]
  },
  {
   "cell_type": "markdown",
   "metadata": {},
   "source": [
    "#### Calculs moyenne et variance conditionnelle pour vecteur gaussien"
   ]
  },
  {
   "cell_type": "markdown",
   "metadata": {},
   "source": [
    "###### Formule poly Roman"
   ]
  },
  {
   "cell_type": "code",
   "execution_count": 66,
   "metadata": {
    "scrolled": true
   },
   "outputs": [],
   "source": [
    "def condMVN(mean, cov, dependent_ind, given_ind, X_given):\n",
    "    \"\"\" Returns conditional mean and variance of X[dependent.ind] | X[given.ind] = X.given\n",
    "    where X is multivariateNormal(mean = mean, covariance = cov)\"\"\"\n",
    "    \n",
    "    cov = np.array(cov)\n",
    "    \n",
    "    B = cov.take(dependent_ind, axis = 1)\n",
    "    B = B[dependent_ind]\n",
    "    \n",
    "    C = cov.take(dependent_ind, axis = 1)\n",
    "    C = C[given_ind]\n",
    "    \n",
    "    D = cov.take(given_ind, axis = 1)\n",
    "    D = D[given_ind]\n",
    "    \n",
    "    CDinv = np.dot(np.transpose(C),np.linalg.inv(D))\n",
    "    \n",
    "    condMean = mean[dependent_ind] + np.dot(CDinv,(X_given - mean[given_ind]))\n",
    "    condVar = B - np.dot(CDinv,C)\n",
    "    condVar = ot.CovarianceMatrix(condVar)\n",
    "    \n",
    "    return condMean,condVar\n",
    "\n",
    "#condMVN(moyenne, cov, dependent_ind = np.array([1,0]), given_ind= np.array([2]), X_given= np.array([10]))"
   ]
  },
  {
   "cell_type": "markdown",
   "metadata": {},
   "source": [
    "###### Formule package condMVNorm"
   ]
  },
  {
   "cell_type": "code",
   "execution_count": 67,
   "metadata": {
    "scrolled": true
   },
   "outputs": [],
   "source": [
    "# def condMVN(mean, cov, dependent_ind, given_ind, X_given):\n",
    "#     \"\"\" Returns conditional mean and variance of X[dependent.ind] | X[given.ind] = X.given\n",
    "#     where X is multivariateNormal(mean = mean, covariance = cov)\"\"\"\n",
    "    \n",
    "#     cov = np.array(cov)\n",
    "    \n",
    "#     B = cov.take(dependent_ind, axis = 1)\n",
    "#     B = B[dependent_ind]\n",
    "    \n",
    "#     C = cov.take(given_ind, axis = 1)\n",
    "#     C = C[dependent_ind]\n",
    "    \n",
    "#     D = cov.take(given_ind, axis = 1)\n",
    "#     D = D[given_ind]\n",
    "    \n",
    "#     CDinv = np.dot(C,np.linalg.inv(D))\n",
    "    \n",
    "#     condMean = mean[dependent_ind] + np.dot(CDinv,(X_given - mean[given_ind]))\n",
    "#     condVar = B - np.dot(CDinv,np.transpose(C))\n",
    "#     condVar = ot.CovarianceMatrix(condVar)\n",
    "    \n",
    "#     return condMean,condVar\n",
    "\n",
    "# condMVN(moyenne, cov, dependent_ind = np.array([1,0]), given_ind= np.array([2]), X_given= np.array([10]))"
   ]
  },
  {
   "cell_type": "markdown",
   "metadata": {},
   "source": [
    "#### Génération loi conditionnelle"
   ]
  },
  {
   "cell_type": "code",
   "execution_count": 68,
   "metadata": {},
   "outputs": [],
   "source": [
    "def r_condMVN(n, mean, cov, dependent_ind, given_ind, X_given):\n",
    "    \"\"\" Function to simulate conditional gaussian distribution of X[dependent.ind] | X[given.ind] = X.given\n",
    "    where X is multivariateNormal(mean = mean, covariance = cov)\"\"\"\n",
    "    \n",
    "    cond_mean,cond_var = condMVN(mean, cov, dependent_ind, given_ind, X_given)\n",
    "    distribution = ot.Normal(cond_mean,cond_var)\n",
    "    return distribution.getSample(n)\n",
    "    \n",
    "#r_condMVN(5,moyenne, cov, dependent_ind, given_ind, X_given)"
   ]
  },
  {
   "cell_type": "markdown",
   "metadata": {},
   "source": [
    "## Définition des indices de Shapley"
   ]
  },
  {
   "cell_type": "code",
   "execution_count": 69,
   "metadata": {},
   "outputs": [],
   "source": [
    "Nv = 10**4\n",
    "No = 10**3\n",
    "Ni = 3\n",
    "\n",
    "d = 3\n",
    "perms_tool = ot.KPermutations(d, d)\n",
    "perms = perms_tool.generate()\n",
    "\n",
    "m = perms.getSize() # nombre de permutation\n",
    "\n",
    "def Xall(n):\n",
    "    distribution = ot.Normal(moyenne,cov)\n",
    "    return distribution.getSample(n)\n",
    "\n",
    "def Xcond(n, Sj, Sjc, xjc):\n",
    "    if Sjc is None:\n",
    "        cov_int = np.array(cov)\n",
    "        cov_int = cov_int.take(Sj, axis = 1)\n",
    "        cov_int = cov_int[Sj]        \n",
    "        cov_int = ot.CovarianceMatrix(cov_int)\n",
    "        distribution = ot.Normal(moyenne[Sj],cov_int)\n",
    "        return distribution.getSample(n)\n",
    "    else:\n",
    "        return r_condMVN(n,mean = moyenne, cov = cov, dependent_ind = Sj, given_ind = Sjc, X_given = xjc)"
   ]
  },
  {
   "cell_type": "markdown",
   "metadata": {},
   "source": [
    "#### Conception de la matrice de design"
   ]
  },
  {
   "cell_type": "code",
   "execution_count": 71,
   "metadata": {
    "scrolled": false
   },
   "outputs": [],
   "source": [
    "X = np.zeros((Nv+m*(d-1)*No*Ni, d)) \n",
    "X[:Nv,:] = Xall(Nv)\n",
    "\n",
    "for p in range(m):\n",
    "    \n",
    "    pi = perms[p]\n",
    "    pi_sorted = np.argsort(pi)\n",
    "    \n",
    "    for j in range(1,d):\n",
    "        \n",
    "        Sj = pi[:j] # set of the 1st-jth elements in pi      \n",
    "        Sjc = pi[j:] # set of the (j+1)th-dth elements in pi\n",
    "        \n",
    "        xjcM = Xcond(No,Sjc,None,None)# sampled values of the inputs in Sjc\n",
    "\n",
    "        for l in range(No):\n",
    "\n",
    "            xjc = xjcM[l,:]\n",
    "            \n",
    "            # sample values of inputs in Sj conditional on xjc\n",
    "            xj = Xcond(Ni, Sj, Sjc, xjc)\n",
    "            xx = np.concatenate((xj, np.ones((Ni,1))*xjc), axis = 1)\n",
    "            ind_inner = Nv + p*(d-1)*No*Ni + (j-1)*No*Ni + l*Ni\n",
    "            X[ind_inner:(ind_inner + Ni),:] = xx[:,pi_sorted]"
   ]
  },
  {
   "cell_type": "code",
   "execution_count": 83,
   "metadata": {},
   "outputs": [],
   "source": [
    "# Calcul de la réponse\n",
    "y = model(X)\n",
    "\n",
    "# Initialize Shapley value for all players\n",
    "Sh = np.zeros(d)\n",
    "  \n",
    "# Initialize main and total (Sobol) effects for all players\n",
    "Vsob = np.zeros(d)\n",
    "Tsob = np.zeros(d)\n",
    "  \n",
    "# Estimate Var[Y] \n",
    "Y = y[:Nv]\n",
    "y = y[Nv:]\n",
    "EY = np.mean(Y)\n",
    "VarY = np.var(Y)"
   ]
  },
  {
   "cell_type": "code",
   "execution_count": 84,
   "metadata": {},
   "outputs": [],
   "source": [
    "# Estimate Shapley effects\n",
    "cVar = np.zeros(No)\n",
    "count = 0\n",
    "\n",
    "for p in range(m):\n",
    "    \n",
    "    pi = perms[p]\n",
    "    prevC = 0\n",
    "    \n",
    "    for j in range(d):\n",
    "        if (j == (d-1)):\n",
    "            Chat = VarY\n",
    "            delta = Chat - prevC\n",
    "            Vsob[pi[j]] = Vsob[pi[j]] + prevC # first order effect\n",
    "        else:\n",
    "            for l in range(No):\n",
    "                Y = y[:Ni]\n",
    "                count = count + len(Y)\n",
    "                y = y[Ni:]\n",
    "                cVar[l] = np.var(Y)\n",
    "            Chat = np.mean(cVar)\n",
    "            delta = Chat - prevC\n",
    "      \n",
    "        Sh[pi[j]] = Sh[pi[j]] + delta\n",
    "        \n",
    "        prevC = Chat\n",
    "        \n",
    "        if (j == 0):\n",
    "            Tsob[pi[j]] = Tsob[pi[j]] + Chat # Total effect"
   ]
  },
  {
   "cell_type": "code",
   "execution_count": 87,
   "metadata": {},
   "outputs": [
    {
     "name": "stdout",
     "output_type": "stream",
     "text": [
      "[ 0.00306428  0.00683989  0.00758187]\n",
      "[ 0.97986012  0.95404604  0.95193617]\n",
      "[ 0.00378352  0.00069101  0.00281548]\n"
     ]
    }
   ],
   "source": [
    "Sh = Sh / m / VarY\n",
    "\n",
    "Vsob = Vsob / (m/d) / VarY # averaging by number of permutations with j=d-1\n",
    "Vsob = 1 - Vsob \n",
    "\n",
    "Tsob = Tsob / (m/d) / VarY # averaging by number of permutations with j=1 \n",
    "\n",
    "print(Sh)\n",
    "print(Vsob)\n",
    "print(Tsob)"
   ]
  },
  {
   "cell_type": "code",
   "execution_count": 122,
   "metadata": {},
   "outputs": [
    {
     "data": {
      "text/plain": [
       "array([1, 2, 2], dtype=int64)"
      ]
     },
     "execution_count": 122,
     "metadata": {},
     "output_type": "execute_result"
    }
   ],
   "source": [
    "np.array([1,2,2],dtype=np.int64)"
   ]
  }
 ],
 "metadata": {
  "kernelspec": {
   "display_name": "Python 3",
   "language": "python",
   "name": "python3"
  },
  "language_info": {
   "codemirror_mode": {
    "name": "ipython",
    "version": 3
   },
   "file_extension": ".py",
   "mimetype": "text/x-python",
   "name": "python",
   "nbconvert_exporter": "python",
   "pygments_lexer": "ipython3",
   "version": "3.6.2"
  }
 },
 "nbformat": 4,
 "nbformat_minor": 1
}
