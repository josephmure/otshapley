{
 "cells": [
  {
   "cell_type": "code",
   "execution_count": 3,
   "metadata": {},
   "outputs": [
    {
     "name": "stdout",
     "output_type": "stream",
     "text": [
      "The autoreload extension is already loaded. To reload it, use:\n",
      "  %reload_ext autoreload\n"
     ]
    }
   ],
   "source": [
    "import openturns as ot\n",
    "import numpy as np\n",
    "import pandas as pd\n",
    "import seaborn as sns\n",
    "import matplotlib.pyplot as plt\n",
    "\n",
    "from shapley import ShapleyIndices, ShapleyKrigingIndices\n",
    "from shapley.tests import Ishigami, AdditiveGaussian\n",
    "from shapley.plots import set_style_paper, plot_sensitivity_results\n",
    "from shapley.base import ProbabilisticModel \n",
    "from shapley.kriging import KrigingModel\n",
    "\n",
    "%load_ext autoreload\n",
    "%autoreload 2\n",
    "\n",
    "%matplotlib inline\n",
    "\n",
    "set_style_paper()\n",
    "\n",
    "savefigs = True\n",
    "ylim = [0., 1.]"
   ]
  },
  {
   "cell_type": "code",
   "execution_count": 52,
   "metadata": {},
   "outputs": [],
   "source": [
    "mu_betas = [247, 218, 148, 105]\n",
    "sigma_betas = [6, 5, 4, 3]\n",
    "mu_normal = [35, 18, 14, 11, 8, 1, -31]\n",
    "sigma_normal = [5, 5, 5, 5, 5, 5, 5]\n",
    "bounds_low = [235, 207, 141, 100]\n",
    "bounds_up = [259, 229, 155, 110]\n",
    "\n",
    "margins = []\n",
    "for mu, sigma, a, b in zip(mu_betas, sigma_betas, bounds_low, bounds_up):\n",
    "    dist = ot.Beta()\n",
    "    dist.setParameter(ot.BetaMuSigma()([mu, sigma, a, b]))\n",
    "    margins.append(dist)\n",
    "    \n",
    "for mu, sigma in zip(mu_normal, sigma_normal):\n",
    "    margins.append(ot.Normal(mu, sigma))\n",
    "    \n",
    "mu = np.asarray(mu_betas + mu_normal)\n",
    "sigma = np.asarray(sigma_betas + sigma_normal)"
   ]
  },
  {
   "cell_type": "code",
   "execution_count": 53,
   "metadata": {},
   "outputs": [],
   "source": [
    "correlation = ot.CorrelationMatrix(pd.read_csv('./data/correlation.csv', sep=',', header=None).values)\n",
    "copula = ot.NormalCopula(correlation)\n",
    "input_distribution = ot.ComposedDistribution(margins, copula)"
   ]
  },
  {
   "cell_type": "code",
   "execution_count": 90,
   "metadata": {},
   "outputs": [],
   "source": [
    "data = pd.read_csv('./data/results_unif.txt', sep=' ', header=None, usecols=range(12))\n",
    "X = data.values[:, :11]\n",
    "y = data.values[:, 11]\n",
    "#X = (X - mu) / sigma\n",
    "#y = (y - y.mean()) / y.std()"
   ]
  },
  {
   "cell_type": "code",
   "execution_count": 109,
   "metadata": {},
   "outputs": [],
   "source": [
    "library = 'sklearn'\n",
    "\n",
    "meta_model = KrigingModel(model=lambda x: None, input_distribution=input_distribution)\n",
    "meta_model.input_sample = X\n",
    "meta_model.output_sample = y\n",
    "meta_model.build(library=library)"
   ]
  },
  {
   "cell_type": "code",
   "execution_count": null,
   "metadata": {},
   "outputs": [],
   "source": [
    "score_q2_loo = meta_model.compute_score_q2_loo()\n",
    "print('Leave One Out Q2 score:', score_q2_loo)"
   ]
  },
  {
   "cell_type": "code",
   "execution_count": null,
   "metadata": {
    "collapsed": true
   },
   "outputs": [],
   "source": [
    "Krigi"
   ]
  }
 ],
 "metadata": {
  "kernelspec": {
   "display_name": "Python 3",
   "language": "python",
   "name": "python3"
  },
  "language_info": {
   "codemirror_mode": {
    "name": "ipython",
    "version": 3
   },
   "file_extension": ".py",
   "mimetype": "text/x-python",
   "name": "python",
   "nbconvert_exporter": "python",
   "pygments_lexer": "ipython3",
   "version": "3.6.2"
  }
 },
 "nbformat": 4,
 "nbformat_minor": 2
}
