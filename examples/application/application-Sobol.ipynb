{
 "cells": [
  {
   "cell_type": "code",
   "execution_count": 1,
   "metadata": {},
   "outputs": [],
   "source": [
    "import openturns as ot\n",
    "import numpy as np\n",
    "import pandas as pd\n",
    "import seaborn as sns\n",
    "import matplotlib.pyplot as plt\n",
    "\n",
    "from shapley import ShapleyIndices, ShapleyKrigingIndices, SobolKrigingIndices\n",
    "from shapley.tests import Ishigami, AdditiveGaussian\n",
    "from shapley.plots import set_style_paper, plot_sensitivity_results\n",
    "from shapley.base import ProbabilisticModel \n",
    "from shapley.kriging import KrigingModel\n",
    "\n",
    "%load_ext autoreload\n",
    "%autoreload 2\n",
    "\n",
    "%matplotlib inline\n",
    "\n",
    "set_style_paper()\n",
    "\n",
    "savefigs = True\n",
    "ylim = [-0.1, 1.]"
   ]
  },
  {
   "cell_type": "code",
   "execution_count": 2,
   "metadata": {
    "collapsed": true
   },
   "outputs": [],
   "source": [
    "mu_betas = [247, 218, 148, 105]\n",
    "sigma_betas = [6, 5, 4, 3]\n",
    "mu_normal = [35, 18, 14, 11, 8, 1, -31]\n",
    "sigma_normal = [5, 5, 5, 5, 5, 5, 5]\n",
    "bounds_low = [235, 207, 141, 100]\n",
    "bounds_up = [259, 229, 155, 110]\n",
    "\n",
    "margins = []\n",
    "for mu, sigma, a, b in zip(mu_betas, sigma_betas, bounds_low, bounds_up):\n",
    "    dist = ot.Beta()\n",
    "    dist.setParameter(ot.BetaMuSigma()([mu, sigma, a, b]))\n",
    "    margins.append(dist)\n",
    "    \n",
    "for mu, sigma in zip(mu_normal, sigma_normal):\n",
    "    margins.append(ot.Normal(mu, sigma))\n",
    "    \n",
    "mu = np.asarray(mu_betas + mu_normal)\n",
    "sigma = np.asarray(sigma_betas + sigma_normal)\n",
    "dim = len(mu)"
   ]
  },
  {
   "cell_type": "code",
   "execution_count": 3,
   "metadata": {
    "collapsed": true
   },
   "outputs": [],
   "source": [
    "correlation = ot.CorrelationMatrix(pd.read_csv('./data/correlation.csv', sep=',', header=None).values)\n",
    "copula = ot.NormalCopula(correlation)\n",
    "input_distribution = ot.ComposedDistribution(margins, copula)"
   ]
  },
  {
   "cell_type": "code",
   "execution_count": 4,
   "metadata": {
    "collapsed": true
   },
   "outputs": [],
   "source": [
    "data = pd.read_csv('./data/results_unif.txt', sep=' ', header=None, usecols=range(dim+1))\n",
    "X = data.values[:, :dim]\n",
    "y = data.values[:, 11]\n",
    "X = (X - mu) / sigma\n",
    "y = (y - y.mean()) / y.std()"
   ]
  },
  {
   "cell_type": "code",
   "execution_count": 7,
   "metadata": {
    "collapsed": true
   },
   "outputs": [],
   "source": [
    "library = 'sklearn'\n",
    "basis = 'quadratic'\n",
    "kernel = 'matern'\n",
    "\n",
    "meta_model = KrigingModel(model=lambda x: None, input_distribution=input_distribution)\n",
    "meta_model.input_sample = X\n",
    "meta_model.output_sample = y\n",
    "meta_model.build(library=library, basis_type=basis, kernel=kernel)\n",
    "score_q2_loo = meta_model.compute_score_q2_loo()\n",
    "print('Leave One Out Q2 score:', score_q2_loo)"
   ]
  },
  {
   "cell_type": "code",
   "execution_count": 9,
   "metadata": {
    "collapsed": true
   },
   "outputs": [],
   "source": [
    "sobol_kriging = SobolKrigingIndices(meta_model.input_distribution)\n"
   ]
  },
  {
   "cell_type": "code",
   "execution_count": 19,
   "metadata": {},
   "outputs": [
    {
     "ename": "TypeError",
     "evalue": "InvalidArgumentException : The correlation matrix must be definite positive R=class=CorrelationMatrix dimension=11 implementation=class=MatrixImplementation name=Unnamed rows=11 columns=11 values=[1,0.949053,0,0,0,0,0.799513,0.641382,0.247935,-0.253111,0.957044,0.949053,1,0,0,0,0,0,0,0,0,0,0,0,1,0,0,0,0,0,0,0,0,0,0,0,1,0,0,0,0,0,0,0,0,0,0,0,1,0,0,0,0,0,0,0,0,0,0,0,1,0.738845,0.692445,0.310764,0.226803,0.196703,0.799513,0,0,0,0,0.738845,1,0.531112,0.593523,0.509915,0.458519,0.641382,0,0,0,0,0.692445,0.531112,1,0.599338,0.571526,0.543489,0.247935,0,0,0,0,0.310764,0.593523,0.599338,1,-0.346391,-0.332602,-0.253111,0,0,0,0,0.226803,0.509915,0.571526,-0.346391,1,0.840811,0.957044,0,0,0,0,0.196703,0.458519,0.543489,-0.332602,0.840811,1]",
     "output_type": "error",
     "traceback": [
      "\u001b[1;31m---------------------------------------------------------------------------\u001b[0m",
      "\u001b[1;31mTypeError\u001b[0m                                 Traceback (most recent call last)",
      "\u001b[1;32m<timed exec>\u001b[0m in \u001b[0;36m<module>\u001b[1;34m()\u001b[0m\n",
      "\u001b[1;32mc:\\users\\naz-probook\\onedrive\\git-repo\\shapley-indices\\shapley\\sobol.py\u001b[0m in \u001b[0;36mbuild_uncorrelated_mc_sample\u001b[1;34m(self, model, n_sample, n_realization)\u001b[0m\n\u001b[0;32m     98\u001b[0m             \u001b[0mThe\u001b[0m \u001b[0msampling\u001b[0m \u001b[0msize\u001b[0m \u001b[0mof\u001b[0m \u001b[0mMonte\u001b[0m\u001b[1;33m-\u001b[0m\u001b[0mCarlo\u001b[0m\u001b[1;33m\u001b[0m\u001b[0m\n\u001b[0;32m     99\u001b[0m         \"\"\"\n\u001b[1;32m--> 100\u001b[1;33m         \u001b[0mIndices\u001b[0m\u001b[1;33m.\u001b[0m\u001b[0mbuild_uncorrelated_mc_sample\u001b[0m\u001b[1;33m(\u001b[0m\u001b[0mself\u001b[0m\u001b[1;33m,\u001b[0m \u001b[0mmodel\u001b[0m\u001b[1;33m=\u001b[0m\u001b[0mmodel\u001b[0m\u001b[1;33m,\u001b[0m \u001b[0mn_sample\u001b[0m\u001b[1;33m=\u001b[0m\u001b[0mn_sample\u001b[0m\u001b[1;33m,\u001b[0m \u001b[0mn_realization\u001b[0m\u001b[1;33m=\u001b[0m\u001b[0mn_realization\u001b[0m\u001b[1;33m)\u001b[0m\u001b[1;33m\u001b[0m\u001b[0m\n\u001b[0m\u001b[0;32m    101\u001b[0m \u001b[1;33m\u001b[0m\u001b[0m\n\u001b[0;32m    102\u001b[0m     \u001b[1;32mdef\u001b[0m \u001b[0mcompute_indices\u001b[0m\u001b[1;33m(\u001b[0m\u001b[0mself\u001b[0m\u001b[1;33m,\u001b[0m \u001b[0mn_boot\u001b[0m\u001b[1;33m=\u001b[0m\u001b[1;36m100\u001b[0m\u001b[1;33m,\u001b[0m \u001b[0mestimator\u001b[0m\u001b[1;33m=\u001b[0m\u001b[1;34m'soboleff2'\u001b[0m\u001b[1;33m)\u001b[0m\u001b[1;33m:\u001b[0m\u001b[1;33m\u001b[0m\u001b[0m\n",
      "\u001b[1;32mc:\\users\\naz-probook\\onedrive\\git-repo\\shapley-indices\\shapley\\indices.py\u001b[0m in \u001b[0;36mbuild_uncorrelated_mc_sample\u001b[1;34m(self, model, n_sample, n_realization)\u001b[0m\n\u001b[0;32m     97\u001b[0m             \u001b[0mparams_i\u001b[0m \u001b[1;33m=\u001b[0m \u001b[0mnp\u001b[0m\u001b[1;33m.\u001b[0m\u001b[0masarray\u001b[0m\u001b[1;33m(\u001b[0m\u001b[0mcopula\u001b[0m\u001b[1;33m.\u001b[0m\u001b[0mgetParameter\u001b[0m\u001b[1;33m(\u001b[0m\u001b[1;33m)\u001b[0m\u001b[1;33m)\u001b[0m\u001b[1;33m[\u001b[0m\u001b[0morder_cop\u001b[0m\u001b[1;33m]\u001b[0m\u001b[1;33m\u001b[0m\u001b[0m\n\u001b[0;32m     98\u001b[0m \u001b[1;33m\u001b[0m\u001b[0m\n\u001b[1;32m---> 99\u001b[1;33m             \u001b[0mcopula\u001b[0m\u001b[1;33m.\u001b[0m\u001b[0msetParameter\u001b[0m\u001b[1;33m(\u001b[0m\u001b[0mparams_i\u001b[0m\u001b[1;33m)\u001b[0m\u001b[1;33m\u001b[0m\u001b[0m\n\u001b[0m\u001b[0;32m    100\u001b[0m             \u001b[0mdist\u001b[0m \u001b[1;33m=\u001b[0m \u001b[0mot\u001b[0m\u001b[1;33m.\u001b[0m\u001b[0mComposedDistribution\u001b[0m\u001b[1;33m(\u001b[0m\u001b[0mmargins_i\u001b[0m\u001b[1;33m,\u001b[0m \u001b[0mcopula\u001b[0m\u001b[1;33m)\u001b[0m\u001b[1;33m\u001b[0m\u001b[0m\n\u001b[0;32m    101\u001b[0m \u001b[1;33m\u001b[0m\u001b[0m\n",
      "\u001b[1;32m~\\Anaconda3\\lib\\site-packages\\openturns\\model_copula.py\u001b[0m in \u001b[0;36msetParameter\u001b[1;34m(self, parameters)\u001b[0m\n\u001b[0;32m   6078\u001b[0m             \u001b[0mParameter\u001b[0m \u001b[0mvalues\u001b[0m\u001b[1;33m.\u001b[0m\u001b[1;33m\u001b[0m\u001b[0m\n\u001b[0;32m   6079\u001b[0m         \"\"\"\n\u001b[1;32m-> 6080\u001b[1;33m         \u001b[1;32mreturn\u001b[0m \u001b[0m_model_copula\u001b[0m\u001b[1;33m.\u001b[0m\u001b[0mDistribution_setParameter\u001b[0m\u001b[1;33m(\u001b[0m\u001b[0mself\u001b[0m\u001b[1;33m,\u001b[0m \u001b[0mparameters\u001b[0m\u001b[1;33m)\u001b[0m\u001b[1;33m\u001b[0m\u001b[0m\n\u001b[0m\u001b[0;32m   6081\u001b[0m \u001b[1;33m\u001b[0m\u001b[0m\n\u001b[0;32m   6082\u001b[0m \u001b[1;33m\u001b[0m\u001b[0m\n",
      "\u001b[1;31mTypeError\u001b[0m: InvalidArgumentException : The correlation matrix must be definite positive R=class=CorrelationMatrix dimension=11 implementation=class=MatrixImplementation name=Unnamed rows=11 columns=11 values=[1,0.949053,0,0,0,0,0.799513,0.641382,0.247935,-0.253111,0.957044,0.949053,1,0,0,0,0,0,0,0,0,0,0,0,1,0,0,0,0,0,0,0,0,0,0,0,1,0,0,0,0,0,0,0,0,0,0,0,1,0,0,0,0,0,0,0,0,0,0,0,1,0.738845,0.692445,0.310764,0.226803,0.196703,0.799513,0,0,0,0,0.738845,1,0.531112,0.593523,0.509915,0.458519,0.641382,0,0,0,0,0.692445,0.531112,1,0.599338,0.571526,0.543489,0.247935,0,0,0,0,0.310764,0.593523,0.599338,1,-0.346391,-0.332602,-0.253111,0,0,0,0,0.226803,0.509915,0.571526,-0.346391,1,0.840811,0.957044,0,0,0,0,0.196703,0.458519,0.543489,-0.332602,0.840811,1]"
     ]
    }
   ],
   "source": [
    "%%time\n",
    "n_sample = 1000\n",
    "n_realization = 300\n",
    "\n",
    "# Evaluate the kriging model\n",
    "sobol_kriging.build_uncorrelated_mc_sample(meta_model, n_sample, n_realization)"
   ]
  },
  {
   "cell_type": "code",
   "execution_count": null,
   "metadata": {
    "collapsed": true
   },
   "outputs": [],
   "source": [
    "%%time\n",
    "shapley_kriging.build_mc_sample(meta_model, n_perms=n_perms, Nv=Nv, No=No, Ni=Ni, n_realization=n_realization)"
   ]
  },
  {
   "cell_type": "code",
   "execution_count": 27,
   "metadata": {},
   "outputs": [
    {
     "data": {
      "text/plain": [
       "1000"
      ]
     },
     "execution_count": 27,
     "metadata": {},
     "output_type": "execute_result"
    }
   ],
   "source": [
    "1001000 % 2000"
   ]
  },
  {
   "cell_type": "code",
   "execution_count": null,
   "metadata": {
    "collapsed": true
   },
   "outputs": [],
   "source": [
    "%%time\n",
    "n_boot = 1000\n",
    "shapley_kriging_results = shapley_kriging.compute_indices(n_boot=n_boot)"
   ]
  },
  {
   "cell_type": "code",
   "execution_count": null,
   "metadata": {
    "collapsed": true
   },
   "outputs": [],
   "source": [
    "fig, ax = plt.subplots(figsize=(15, 4))\n",
    "plot_sensitivity_results(shapley_kriging_results, indice='all', ax=ax)\n",
    "ax.set_ylim(ylim)\n",
    "fig.tight_layout()"
   ]
  },
  {
   "cell_type": "code",
   "execution_count": null,
   "metadata": {
    "collapsed": true
   },
   "outputs": [],
   "source": [
    "fig, axes = plt.subplots(3, 1, figsize=(15, 8), sharex=True, sharey=True)\n",
    "\n",
    "ax = axes[0]\n",
    "plot_sensitivity_results(shapley_kriging_results, indice='first', ax=ax)\n",
    "ax.set_ylim(ylim)\n",
    "ax.set_xlabel('')\n",
    "ax.set_ylabel('First Sobol indices')\n",
    "ax.legend(loc=2)\n",
    "\n",
    "ax = axes[1]\n",
    "plot_sensitivity_results(shapley_kriging_results, indice='total', ax=ax)\n",
    "ax.set_ylim(ylim)\n",
    "ax.legend(loc=2)\n",
    "ax.set_xlabel('')\n",
    "ax.set_ylabel('Total Sobol indices')\n",
    "\n",
    "ax = axes[2]\n",
    "plot_sensitivity_results(shapley_kriging_results, indice='shapley', ax=ax)\n",
    "ax.set_ylim(ylim)\n",
    "ax.legend(loc=2)\n",
    "ax.set_ylabel('Shapley effects')\n",
    "\n",
    "fig.tight_layout()"
   ]
  }
 ],
 "metadata": {
  "kernelspec": {
   "display_name": "Python 3",
   "language": "python",
   "name": "python3"
  },
  "language_info": {
   "codemirror_mode": {
    "name": "ipython",
    "version": 3
   },
   "file_extension": ".py",
   "mimetype": "text/x-python",
   "name": "python",
   "nbconvert_exporter": "python",
   "pygments_lexer": "ipython3",
   "version": "3.6.2"
  }
 },
 "nbformat": 4,
 "nbformat_minor": 2
}
