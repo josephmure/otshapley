{
 "cells": [
  {
   "cell_type": "markdown",
   "metadata": {},
   "source": [
    "# Shapley indices"
   ]
  },
  {
   "cell_type": "code",
   "execution_count": 1,
   "metadata": {
    "collapsed": true
   },
   "outputs": [],
   "source": [
    "import openturns as ot\n",
    "import numpy as np\n",
    "import pandas as pd\n",
    "import matplotlib.pyplot as plt \n",
    "\n",
    "%matplotlib inline\n",
    "%load_ext autoreload\n",
    "%autoreload 2"
   ]
  },
  {
   "cell_type": "markdown",
   "metadata": {},
   "source": [
    "## Ishigami Framework"
   ]
  },
  {
   "cell_type": "code",
   "execution_count": 2,
   "metadata": {
    "collapsed": true
   },
   "outputs": [],
   "source": [
    "from shapley.tests import Ishigami\n",
    "\n",
    "model = Ishigami()\n",
    "dim = model.dim\n",
    "model.copula = ot.NormalCopula(dim)\n",
    "theta = 0.0\n",
    "model.copula_parameters = [-0.3, theta, -0.6]\n",
    "#model.copula_parameters = [theta]*dim"
   ]
  },
  {
   "cell_type": "markdown",
   "metadata": {},
   "source": [
    "### Monte-Carlo estimation using true model"
   ]
  },
  {
   "cell_type": "code",
   "execution_count": 3,
   "metadata": {},
   "outputs": [
    {
     "name": "stdout",
     "output_type": "stream",
     "text": [
      "Max budget: 70000\n",
      "Wall time: 1.33 s\n"
     ]
    }
   ],
   "source": [
    "%%time\n",
    "from shapley import ShapleyIndices\n",
    "ot.RandomGenerator.SetSeed(0)\n",
    "np.random.seed(0)\n",
    "\n",
    "n_perms = None\n",
    "n_var = 10000\n",
    "n_outer = 100\n",
    "n_inner = 50\n",
    "budget_perms = np.math.factorial(dim) if n_perms is None else n_perms\n",
    "max_budget = n_var + n_outer * n_inner * budget_perms * (dim - 1)\n",
    "print('Max budget:', max_budget)\n",
    "\n",
    "shapley = ShapleyIndices(model.input_distribution)\n",
    "shapley.build_sample(model=model, n_perms=n_perms, n_var=n_var, n_outer=n_outer, n_inner=n_inner)"
   ]
  },
  {
   "cell_type": "code",
   "execution_count": 4,
   "metadata": {},
   "outputs": [
    {
     "name": "stdout",
     "output_type": "stream",
     "text": [
      "Wall time: 158 ms\n"
     ]
    }
   ],
   "source": [
    "%%time\n",
    "ot.RandomGenerator.SetSeed(0)\n",
    "np.random.seed(0)\n",
    "\n",
    "n_boot = 300\n",
    "shapley_results = shapley.compute_indices(n_boot=n_boot)"
   ]
  },
  {
   "cell_type": "code",
   "execution_count": 5,
   "metadata": {},
   "outputs": [
    {
     "data": {
      "image/png": "[encoded data removed]",
      "text/plain": [
       "<matplotlib.figure.Figure at 0x23a3e4a4c18>"
      ]
     },
     "metadata": {},
     "output_type": "display_data"
    }
   ],
   "source": [
    "from shapley.plots import plot_sensitivity_results\n",
    "ylim = [0., 1.]\n",
    "\n",
    "fig, ax = plt.subplots(figsize=(8, 4))\n",
    "plot_sensitivity_results(shapley_results, indice='all', ax=ax)\n",
    "ax.set_title(\"Ishigami - $\\\\rho = {0}$ - Shapley Indices - $Nv={1}$, $No={2}$, $Ni={3}$\".format(theta, n_var, n_outer, n_inner))\n",
    "ax.set_ylim(ylim)\n",
    "fig.tight_layout()"
   ]
  },
  {
   "cell_type": "code",
   "execution_count": 32,
   "metadata": {
    "collapsed": true
   },
   "outputs": [],
   "source": [
    "X = np.asarray(model.get_input_sample(5000, 'monte-carlo'))\n",
    "y = model(X)"
   ]
  },
  {
   "cell_type": "code",
   "execution_count": 33,
   "metadata": {},
   "outputs": [
    {
     "data": {
      "text/plain": [
       "RandomForestRegressor(bootstrap=True, criterion='mse', max_depth=None,\n",
       "           max_features='auto', max_leaf_nodes=None,\n",
       "           min_impurity_decrease=0.0, min_impurity_split=None,\n",
       "           min_samples_leaf=1, min_samples_split=2,\n",
       "           min_weight_fraction_leaf=0.0, n_estimators=100, n_jobs=7,\n",
       "           oob_score=False, random_state=None, verbose=0, warm_start=False)"
      ]
     },
     "execution_count": 33,
     "metadata": {},
     "output_type": "execute_result"
    }
   ],
   "source": [
    "from sklearn.ensemble import RandomForestRegressor\n",
    "from shapley.forest import compute_perm_indices, compute_shap_indices\n",
    "n_tree = 100\n",
    "rfq = RandomForestRegressor(n_estimators=n_tree, n_jobs=7)\n",
    "rfq.fit(X, y)"
   ]
  },
  {
   "cell_type": "code",
   "execution_count": 34,
   "metadata": {},
   "outputs": [
    {
     "name": "stdout",
     "output_type": "stream",
     "text": [
      "Wall time: 14.5 s\n"
     ]
    }
   ],
   "source": [
    "%%time\n",
    "sobol_permutation = compute_perm_indices(rfq, X, y, model.input_distribution)"
   ]
  },
  {
   "cell_type": "code",
   "execution_count": 35,
   "metadata": {},
   "outputs": [
    {
     "name": "stdout",
     "output_type": "stream",
     "text": [
      "Wall time: 29.3 s\n"
     ]
    }
   ],
   "source": [
    "%%time\n",
    "shapley_permutation = compute_shap_indices(rfq, X, y, model.input_distribution)"
   ]
  },
  {
   "cell_type": "code",
   "execution_count": 36,
   "metadata": {},
   "outputs": [],
   "source": [
    "from shapley.indices import SensitivityResults\n",
    "results_permutation = SensitivityResults()\n",
    "results_permutation.first_indices = sobol_permutation._first_indices\n",
    "results_permutation.total_indices = sobol_permutation._total_indices\n",
    "results_permutation.shapley_indices = shapley_permutation._shapley_indices\n",
    "results_permutation.true_first_indices = model.first_sobol_indices\n",
    "results_permutation.true_total_indices = model.total_sobol_indices\n",
    "results_permutation.true_shaple_indices = model.shapley_indices"
   ]
  },
  {
   "cell_type": "code",
   "execution_count": 37,
   "metadata": {},
   "outputs": [
    {
     "data": {
      "image/png": "[encoded data removed]",
      "text/plain": [
       "<matplotlib.figure.Figure at 0x23a3f022cc0>"
      ]
     },
     "metadata": {},
     "output_type": "display_data"
    }
   ],
   "source": [
    "fig, ax = plt.subplots(figsize=(8, 4))\n",
    "\n",
    "plot_sensitivity_results(results=results_permutation, ax=ax)\n",
    "ax.set_ylim(ylim)\n",
    "\n",
    "fig.tight_layout()"
   ]
  },
  {
   "cell_type": "code",
   "execution_count": null,
   "metadata": {
    "collapsed": true
   },
   "outputs": [],
   "source": []
  },
  {
   "cell_type": "code",
   "execution_count": null,
   "metadata": {
    "collapsed": true
   },
   "outputs": [],
   "source": []
  },
  {
   "cell_type": "code",
   "execution_count": null,
   "metadata": {
    "collapsed": true
   },
   "outputs": [],
   "source": []
  },
  {
   "cell_type": "code",
   "execution_count": null,
   "metadata": {
    "collapsed": true
   },
   "outputs": [],
   "source": [
    "first_indices = compute_1stperm_indices(rfq, X, y, model.input_distribution)\n",
    "total_indices = compute_perm_indices(rfq, X, y, model.input_distribution)\n",
    "shapley_indices = compute_shap_indices(rfq, X, y, model.input_distribution)"
   ]
  },
  {
   "cell_type": "code",
   "execution_count": null,
   "metadata": {
    "collapsed": true
   },
   "outputs": [],
   "source": [
    "fig, ax = plt.subplots(figsize=(7, 4))\n",
    "#ax.violinplot(first_indices.T)\n",
    "#ax.violinplot(total_indices.T)\n",
    "ax.violinplot(shapley_indices.T)\n",
    "ax.violinplot(shapley_results.full_shapley_indices.T)\n",
    "#ax.violinplot(shapley_results.full_first_indices.T)\n",
    "#ax.violinplot(shapley_results.full_total_indices.T)\n",
    "#ax.plot(range(1, 4), model.shapley_indices, 'o')\n",
    "ax.set_ylim(ylim)\n",
    "fig.tight_layout()"
   ]
  },
  {
   "cell_type": "code",
   "execution_count": 22,
   "metadata": {
    "collapsed": true
   },
   "outputs": [],
   "source": [
    "import seaborn as sns\n",
    "sns.pairplot(X)"
   ]
  },
  {
   "cell_type": "code",
   "execution_count": null,
   "metadata": {
    "collapsed": true
   },
   "outputs": [],
   "source": []
  },
  {
   "cell_type": "code",
   "execution_count": null,
   "metadata": {
    "collapsed": true
   },
   "outputs": [],
   "source": []
  },
  {
   "cell_type": "markdown",
   "metadata": {},
   "source": [
    "### Monte-Carlo estimation using a Kriging model"
   ]
  },
  {
   "cell_type": "code",
   "execution_count": 6,
   "metadata": {
    "collapsed": true
   },
   "outputs": [],
   "source": [
    "from shapley.kriging import KrigingModel\n",
    "ot.RandomGenerator.SetSeed(0)\n",
    "np.random.seed(0)\n",
    "\n",
    "model_budget = 100\n",
    "sampling = 'lhs'\n",
    "library = 'gpflow'\n",
    "kernel = 'matern'\n",
    "basis = 'linear'\n",
    "\n",
    "model_gp = KrigingModel(model=model, input_distribution=model.input_distribution)\n",
    "model_gp.generate_sample(n_sample=model_budget, sampling=sampling, sampling_type='uniform')\n",
    "model_gp.build(library=library, kernel=kernel, basis_type=basis)"
   ]
  },
  {
   "cell_type": "code",
   "execution_count": 7,
   "metadata": {},
   "outputs": [
    {
     "name": "stdout",
     "output_type": "stream",
     "text": [
      "('Q2-score by cross-validation:', 0.82866409574448652)\n"
     ]
    }
   ],
   "source": [
    "# The score of the meta_model\n",
    "q2_score_cv_gp = model_gp.compute_score_q2_cv(n_sample=10000, sampling='monte-carlo')\n",
    "print('Q2-score by cross-validation:', q2_score_cv_gp)"
   ]
  },
  {
   "cell_type": "code",
   "execution_count": null,
   "metadata": {},
   "outputs": [
    {
     "name": "stdout",
     "output_type": "stream",
     "text": [
      "CPU times: user 1min 23s, sys: 4.36 s, total: 1min 27s\n",
      "Wall time: 1min 3s\n"
     ]
    }
   ],
   "source": [
    "%%time\n",
    "n_realization = 200\n",
    "shapley.build_sample(model=model_gp, n_perms=n_perms, n_var=n_var, n_outer=n_outer, n_inner=n_inner, n_realization=n_realization)"
   ]
  },
  {
   "cell_type": "code",
   "execution_count": null,
   "metadata": {
    "collapsed": true
   },
   "outputs": [],
   "source": [
    "%%time\n",
    "# Indice estimation\n",
    "shapley_gp_results = shapley.compute_indices(n_boot=n_boot)"
   ]
  },
  {
   "cell_type": "code",
   "execution_count": null,
   "metadata": {
    "collapsed": true
   },
   "outputs": [],
   "source": [
    "fig, ax = plt.subplots(figsize=(8, 4))\n",
    "plot_sensitivity_results(shapley_gp_results, indice='all', ax=ax)\n",
    "ax.set_title(\"Additive Gaussian $\\\\rho = {0}$ - Kriging Indices - $Nv={1}$, $No={2}$, $Ni={3}$\".format(theta, n_var, n_outer, n_inner))\n",
    "ax.set_ylim(ylim)\n",
    "fig.tight_layout()"
   ]
  },
  {
   "cell_type": "code",
   "execution_count": null,
   "metadata": {
    "collapsed": true
   },
   "outputs": [],
   "source": [
    "fig, axes = plt.subplots(3, 1, figsize=(6, 8), sharex=True, sharey=True)\n",
    "\n",
    "ax = axes[0]\n",
    "plot_sensitivity_results(shapley_gp_results, indice='first', ax=ax)\n",
    "ax.set_ylim(ylim)\n",
    "ax.set_xlabel('')\n",
    "ax.set_ylabel('First Sobol indices')\n",
    "ax.legend(loc=2)\n",
    "\n",
    "ax = axes[1]\n",
    "plot_sensitivity_results(shapley_gp_results, indice='total', ax=ax)\n",
    "ax.set_ylim(ylim)\n",
    "ax.legend(loc=2)\n",
    "ax.set_xlabel('')\n",
    "ax.set_ylabel('Total Sobol indices')\n",
    "\n",
    "ax = axes[2]\n",
    "plot_sensitivity_results(shapley_gp_results, indice='shapley', ax=ax)\n",
    "ax.set_ylim(ylim)\n",
    "ax.legend(loc=2)\n",
    "ax.set_ylabel('Shapley effects')\n",
    "\n",
    "fig.tight_layout()"
   ]
  },
  {
   "cell_type": "markdown",
   "metadata": {},
   "source": [
    "### Monte-Carlo estimation using a Random Forest model"
   ]
  },
  {
   "cell_type": "code",
   "execution_count": null,
   "metadata": {
    "collapsed": true
   },
   "outputs": [],
   "source": [
    "from shapley.forest import RandomForestModel\n",
    "ot.RandomGenerator.SetSeed(0)\n",
    "np.random.seed(0)\n",
    "\n",
    "model_rf = RandomForestModel(model=model, input_distribution=model.input_distribution)\n",
    "model_rf.generate_sample(n_sample=model_budget, sampling=sampling)\n",
    "model_rf.build(n_realization, method='random-forest')"
   ]
  },
  {
   "cell_type": "code",
   "execution_count": null,
   "metadata": {
    "collapsed": true,
    "scrolled": true
   },
   "outputs": [],
   "source": [
    "# The score of the meta_model\n",
    "q2_score_cv_rf = model_rf.compute_score_q2_cv(n_sample=10000, sampling='monte-carlo')\n",
    "print('Q2-score by cross-validation:', q2_score_cv_rf)"
   ]
  },
  {
   "cell_type": "code",
   "execution_count": null,
   "metadata": {
    "collapsed": true
   },
   "outputs": [],
   "source": [
    "%%time\n",
    "shapley.build_sample(model=model_rf, n_perms=n_perms, n_var=n_var, n_outer=n_outer, n_inner=n_inner, n_realization=n_realization)"
   ]
  },
  {
   "cell_type": "code",
   "execution_count": null,
   "metadata": {
    "collapsed": true
   },
   "outputs": [],
   "source": [
    "%%time\n",
    "ot.RandomGenerator.SetSeed(0)\n",
    "np.random.seed(0)\n",
    "\n",
    "shapley_rf_results = shapley.compute_indices(n_boot=n_boot)"
   ]
  },
  {
   "cell_type": "code",
   "execution_count": null,
   "metadata": {
    "collapsed": true
   },
   "outputs": [],
   "source": [
    "fig, ax = plt.subplots(figsize=(8, 4))\n",
    "plot_sensitivity_results(shapley_rf_results, indice='all', ax=ax)\n",
    "ax.set_title(\"Additive Gaussian $\\\\rho = {0}$ - Kriging Indices - $Nv={1}$, $No={2}$, $Ni={3}$\".format(theta, n_var, n_outer, n_inner))\n",
    "ax.set_ylim(ylim)\n",
    "fig.tight_layout()"
   ]
  },
  {
   "cell_type": "code",
   "execution_count": null,
   "metadata": {
    "collapsed": true
   },
   "outputs": [],
   "source": [
    "fig, ax = plt.subplots(figsize=(8, 4))\n",
    "plot_sensitivity_results(shapley_rf_results, indice='all', ax=ax)\n",
    "ax.set_title(\"Additive Gaussian $\\\\rho = {0}$ - Kriging Indices - $Nv={1}$, $No={2}$, $Ni={3}$\".format(theta, n_var, n_outer, n_inner))\n",
    "ax.set_ylim(ylim)\n",
    "fig.tight_layout()"
   ]
  },
  {
   "cell_type": "code",
   "execution_count": null,
   "metadata": {
    "collapsed": true
   },
   "outputs": [],
   "source": [
    "fig, axes = plt.subplots(3, 1, figsize=(6, 8), sharex=True, sharey=True)\n",
    "\n",
    "ax = axes[0]\n",
    "plot_sensitivity_results(shapley_rf_results, indice='first', ax=ax)\n",
    "ax.set_ylim(ylim)\n",
    "ax.set_xlabel('')\n",
    "ax.set_ylabel('First Sobol indices')\n",
    "ax.legend(loc=2)\n",
    "\n",
    "ax = axes[1]\n",
    "plot_sensitivity_results(shapley_rf_results, indice='total', ax=ax)\n",
    "ax.set_ylim(ylim)\n",
    "ax.legend(loc=2)\n",
    "ax.set_xlabel('')\n",
    "ax.set_ylabel('Total Sobol indices')\n",
    "\n",
    "ax = axes[2]\n",
    "plot_sensitivity_results(shapley_rf_results, indice='shapley', ax=ax)\n",
    "ax.set_ylim(ylim)\n",
    "ax.legend(loc=2)\n",
    "ax.set_ylabel('Shapley effects')\n",
    "\n",
    "fig.tight_layout()"
   ]
  }
 ],
 "metadata": {
  "kernelspec": {
   "display_name": "Python 3",
   "language": "python",
   "name": "python3"
  },
  "language_info": {
   "codemirror_mode": {
    "name": "ipython",
    "version": 3
   },
   "file_extension": ".py",
   "mimetype": "text/x-python",
   "name": "python",
   "nbconvert_exporter": "python",
   "pygments_lexer": "ipython3",
   "version": "3.6.2"
  }
 },
 "nbformat": 4,
 "nbformat_minor": 2
}
