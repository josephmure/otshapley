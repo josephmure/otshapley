{
 "cells": [
  {
   "cell_type": "code",
   "execution_count": 12,
   "metadata": {},
   "outputs": [
    {
     "name": "stdout",
     "output_type": "stream",
     "text": [
      "The autoreload extension is already loaded. To reload it, use:\n",
      "  %reload_ext autoreload\n"
     ]
    }
   ],
   "source": [
    "import openturns as ot\n",
    "import numpy as np\n",
    "import pandas as pd\n",
    "import seaborn as sns\n",
    "import matplotlib.pyplot as plt\n",
    "\n",
    "\n",
    "from shapley import SobolIndices, SobolKrigingIndices, create_df_from_gp_indices, create_df_from_mc_indices\n",
    "from shapley.tests import ishigami, ishigami_true_indices\n",
    "from shapley.plots import set_style_paper, plot_violin, matrix_plot\n",
    "\n",
    "import time\n",
    "\n",
    "%load_ext autoreload\n",
    "%autoreload 2\n",
    "\n",
    "%matplotlib inline"
   ]
  },
  {
   "cell_type": "code",
   "execution_count": 169,
   "metadata": {},
   "outputs": [
    {
     "data": {
      "image/png": "[encoded data removed]",
      "text/plain": [
       "<matplotlib.figure.Figure at 0x243cd83e9e8>"
      ]
     },
     "metadata": {},
     "output_type": "display_data"
    }
   ],
   "source": [
    "dim = 3\n",
    "model = ishigami\n",
    "margins = [ot.Uniform(-np.pi, np.pi)]*dim\n",
    "theta_1 = 0.\n",
    "theta_2 = 0.99\n",
    "theta_3 = 0.\n",
    "sigma = np.identity(dim)\n",
    "sigma[1, 0] = theta_1\n",
    "sigma[0, 1] = theta_1\n",
    "sigma[2, 0] = theta_2\n",
    "sigma[0, 2] = theta_2\n",
    "sigma[2, 1] = theta_3\n",
    "sigma[1, 2] = theta_3\n",
    "    \n",
    "copula = ot.NormalCopula(ot.CorrelationMatrix(sigma))\n",
    "input_distribution = ot.ComposedDistribution(margins, copula)\n",
    "ot.RandomGenerator.SetSeed(0)\n",
    "\n",
    "sample = np.asarray(input_distribution.getSample(1000))\n",
    "if False:\n",
    "    sample = np.asarray(input_distribution.getSample(1000))\n",
    "    dist_transformation = input_distribution.getIsoProbabilisticTransformation()\n",
    "    transformed_sample = np.asarray(dist_transformation(sample))\n",
    "    matrix_plot(sample, kde=True, figsize=2)\n",
    "    matrix_plot(transformed_sample, kde=True, figsize=2)\n",
    "    \n",
    "max_budget = 200000\n",
    "n_sample = int(max_budget/(2*dim))\n",
    "n_boot = 100\n",
    "ylim = [-0.1, 1.]\n",
    "\n",
    "sobol = SobolIndices(input_distribution)\n",
    "sobol.build_uncorrelated_mc_sample(model, n_sample)\n",
    "sobol.build_mc_sample(model, n_sample)\n",
    "first_indices_mc = sobol.compute_indices(n_boot=n_boot)\n",
    "df_first_indices_mc = create_df_from_mc_indices(first_indices_mc)\n",
    "plot_violin(df_first_indices_mc, with_hue=False, true_indices=ishigami_true_indices, ylim=ylim)"
   ]
  },
  {
   "cell_type": "code",
   "execution_count": null,
   "metadata": {
    "collapsed": true
   },
   "outputs": [],
   "source": []
  },
  {
   "cell_type": "code",
   "execution_count": null,
   "metadata": {
    "collapsed": true
   },
   "outputs": [],
   "source": []
  }
 ],
 "metadata": {
  "kernelspec": {
   "display_name": "Python 3",
   "language": "python",
   "name": "python3"
  },
  "language_info": {
   "codemirror_mode": {
    "name": "ipython",
    "version": 3
   },
   "file_extension": ".py",
   "mimetype": "text/x-python",
   "name": "python",
   "nbconvert_exporter": "python",
   "pygments_lexer": "ipython3",
   "version": "3.6.2"
  }
 },
 "nbformat": 4,
 "nbformat_minor": 2
}
