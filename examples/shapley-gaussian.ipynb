{
 "cells": [
  {
   "cell_type": "markdown",
   "metadata": {
    "collapsed": true
   },
   "source": [
    "# Sobol indices"
   ]
  },
  {
   "cell_type": "code",
   "execution_count": 1,
   "metadata": {
    "collapsed": true
   },
   "outputs": [],
   "source": [
    "import openturns as ot\n",
    "import numpy as np\n",
    "import pandas as pd\n",
    "import matplotlib.pyplot as plt \n",
    "\n",
    "%matplotlib inline\n",
    "%load_ext autoreload\n",
    "%autoreload 2"
   ]
  },
  {
   "cell_type": "markdown",
   "metadata": {},
   "source": [
    "## Gaussian Framework"
   ]
  },
  {
   "cell_type": "code",
   "execution_count": 2,
   "metadata": {},
   "outputs": [
    {
     "ename": "ModuleNotFoundError",
     "evalue": "No module named 'shapley'",
     "output_type": "error",
     "traceback": [
      "\u001b[1;31m---------------------------------------------------------------------------\u001b[0m",
      "\u001b[1;31mModuleNotFoundError\u001b[0m                       Traceback (most recent call last)",
      "\u001b[1;32m<ipython-input-2-654b0a90c498>\u001b[0m in \u001b[0;36m<module>\u001b[1;34m()\u001b[0m\n\u001b[1;32m----> 1\u001b[1;33m \u001b[1;32mfrom\u001b[0m \u001b[0mshapley\u001b[0m\u001b[1;33m.\u001b[0m\u001b[0mtests\u001b[0m \u001b[1;32mimport\u001b[0m \u001b[0mAdditiveGaussian\u001b[0m\u001b[1;33m\u001b[0m\u001b[0m\n\u001b[0m\u001b[0;32m      2\u001b[0m \u001b[0mdim\u001b[0m \u001b[1;33m=\u001b[0m \u001b[1;36m2\u001b[0m\u001b[1;33m\u001b[0m\u001b[0m\n\u001b[0;32m      3\u001b[0m \u001b[0mbeta\u001b[0m \u001b[1;33m=\u001b[0m \u001b[1;32mNone\u001b[0m\u001b[1;33m\u001b[0m\u001b[0m\n\u001b[0;32m      4\u001b[0m \u001b[0mmodel\u001b[0m \u001b[1;33m=\u001b[0m \u001b[0mAdditiveGaussian\u001b[0m\u001b[1;33m(\u001b[0m\u001b[0mdim\u001b[0m\u001b[1;33m=\u001b[0m\u001b[0mdim\u001b[0m\u001b[1;33m,\u001b[0m \u001b[0mbeta\u001b[0m\u001b[1;33m=\u001b[0m\u001b[0mbeta\u001b[0m\u001b[1;33m)\u001b[0m\u001b[1;33m\u001b[0m\u001b[0m\n\u001b[0;32m      5\u001b[0m \u001b[0mtheta\u001b[0m \u001b[1;33m=\u001b[0m \u001b[1;33m[\u001b[0m\u001b[1;36m0.3\u001b[0m\u001b[1;33m]\u001b[0m\u001b[1;33m\u001b[0m\u001b[0m\n",
      "\u001b[1;31mModuleNotFoundError\u001b[0m: No module named 'shapley'"
     ]
    }
   ],
   "source": [
    "from shapley.tests import AdditiveGaussian\n",
    "dim = 2\n",
    "beta = None\n",
    "model = AdditiveGaussian(dim=dim, beta=beta)\n",
    "theta = [0.3]\n",
    "model.copula_parameters = theta\n",
    "\n",
    "if True:\n",
    "    dim = 3\n",
    "    beta = None\n",
    "    model = AdditiveGaussian(dim=dim, beta=beta)\n",
    "    model.margins = [ot.Normal()]*(dim-1) + [ot.Normal(0, 2.)]\n",
    "    theta = [0., 0., 0.5]\n",
    "    model.copula_parameters = theta"
   ]
  },
  {
   "cell_type": "code",
   "execution_count": null,
   "metadata": {
    "collapsed": true
   },
   "outputs": [],
   "source": []
  },
  {
   "cell_type": "markdown",
   "metadata": {},
   "source": [
    "### Monte-Carlo estimation using true model"
   ]
  },
  {
   "cell_type": "code",
   "execution_count": null,
   "metadata": {
    "collapsed": true
   },
   "outputs": [],
   "source": [
    "%%time\n",
    "from shapley import ShapleyIndices\n",
    "ot.RandomGenerator.SetSeed(0)\n",
    "np.random.seed(0)\n",
    "\n",
    "n_perms = None\n",
    "n_var = 1000\n",
    "n_outer = 80\n",
    "n_inner = 10\n",
    "\n",
    "budget_perms = np.math.factorial(dim) if n_perms is None else n_perms\n",
    "max_budget = n_var + n_outer * n_inner * budget_perms * (dim - 1)\n",
    "print('Max budget:', max_budget)\n",
    "\n",
    "shapley = ShapleyIndices(model.input_distribution)\n",
    "shapley.build_sample(model=model, n_perms=n_perms, n_var=n_var, n_outer=n_outer, n_inner=n_inner)"
   ]
  },
  {
   "cell_type": "code",
   "execution_count": null,
   "metadata": {
    "collapsed": true
   },
   "outputs": [],
   "source": [
    "%%time\n",
    "ot.RandomGenerator.SetSeed(0)\n",
    "np.random.seed(0)\n",
    "\n",
    "n_boot = 300\n",
    "shapley_results = shapley.compute_indices(n_boot=n_boot)"
   ]
  },
  {
   "cell_type": "code",
   "execution_count": null,
   "metadata": {
    "collapsed": true
   },
   "outputs": [],
   "source": [
    "from shapley.plots import plot_sensitivity_results\n",
    "ylim = [0., 1.]\n",
    "\n",
    "fig, ax = plt.subplots(figsize=(8, 4))\n",
    "plot_sensitivity_results(shapley_results, indice='all', ax=ax)\n",
    "ax.set_title(\"Additive Gaussian $\\\\rho = {0}$ - Shapley Indices - $Nv={1}$, $No={2}$, $Ni={3}$\".format(\n",
    "    theta, n_var, n_outer, n_inner))\n",
    "ax.set_ylim(ylim)\n",
    "fig.tight_layout()"
   ]
  },
  {
   "cell_type": "code",
   "execution_count": null,
   "metadata": {
    "collapsed": true
   },
   "outputs": [],
   "source": [
    "X = np.asarray(model.get_input_sample(5000, 'monte-carlo'))\n",
    "y = model(X)"
   ]
  },
  {
   "cell_type": "code",
   "execution_count": null,
   "metadata": {
    "collapsed": true
   },
   "outputs": [],
   "source": [
    "from skgarden import RandomForestQuantileRegressor\n",
    "from shapley.forest import compute_perm_indices, compute_shap_indices, compute_1stperm_indices\n",
    "n_tree = 50\n",
    "rfq = RandomForestQuantileRegressor(n_estimators=n_tree, n_jobs=7)\n",
    "rfq.fit(X, y)"
   ]
  },
  {
   "cell_type": "code",
   "execution_count": null,
   "metadata": {
    "collapsed": true
   },
   "outputs": [],
   "source": [
    "first_indices = compute_1stperm_indices(rfq, X, y, model.input_distribution)\n",
    "total_indices = compute_perm_indices(rfq, X, y, model.input_distribution)\n",
    "shapley_indices = compute_shap_indices(rfq, X, y, model.input_distribution)"
   ]
  },
  {
   "cell_type": "code",
   "execution_count": null,
   "metadata": {
    "collapsed": true
   },
   "outputs": [],
   "source": [
    "fig, ax = plt.subplots(figsize=(7, 4))\n",
    "#ax.violinplot(first_indices.T)\n",
    "ax.violinplot(total_indices.T)\n",
    "#ax.violinplot(shapley_results.full_first_indices.T)\n",
    "ax.violinplot(shapley_results.full_total_indices.T)\n",
    "ax.plot(range(1, 4), model.shapley_indices, 'o')\n",
    "#ax.set_ylim(ylim)\n",
    "fig.tight_layout()"
   ]
  },
  {
   "cell_type": "markdown",
   "metadata": {},
   "source": [
    "### Monte-Carlo estimation using a Kriging model"
   ]
  },
  {
   "cell_type": "code",
   "execution_count": null,
   "metadata": {
    "collapsed": true
   },
   "outputs": [],
   "source": [
    "from shapley.kriging import KrigingModel\n",
    "ot.RandomGenerator.SetSeed(0)\n",
    "np.random.seed(0)\n",
    "\n",
    "model_budget = 15\n",
    "sampling = 'lhs'\n",
    "library = 'gpflow'\n",
    "kernel = 'matern'\n",
    "basis = 'linear'\n",
    "\n",
    "model_gp = KrigingModel(model=model, input_distribution=model.input_distribution)\n",
    "model_gp.generate_sample(n_sample=model_budget, sampling=sampling, sampling_type='uniform')\n",
    "model_gp.build(library=library, kernel=kernel, basis_type=basis)"
   ]
  },
  {
   "cell_type": "code",
   "execution_count": null,
   "metadata": {
    "collapsed": true
   },
   "outputs": [],
   "source": [
    "# The score of the meta_model\n",
    "q2_score_cv_gp = model_gp.compute_score_q2_cv(n_sample=10000, sampling='monte-carlo')\n",
    "print('Q2-score by cross-validation:', q2_score_cv_gp)"
   ]
  },
  {
   "cell_type": "code",
   "execution_count": null,
   "metadata": {
    "collapsed": true
   },
   "outputs": [],
   "source": [
    "%%time\n",
    "n_realization = 200\n",
    "shapley.build_sample(model=model_gp, n_perms=n_perms, n_var=n_var, n_outer=n_outer, n_inner=n_inner, n_realization=n_realization)"
   ]
  },
  {
   "cell_type": "code",
   "execution_count": null,
   "metadata": {
    "collapsed": true
   },
   "outputs": [],
   "source": [
    "%%time\n",
    "# Indice estimation\n",
    "shapley_gp_results = shapley.compute_indices(n_boot=n_boot)"
   ]
  },
  {
   "cell_type": "code",
   "execution_count": null,
   "metadata": {
    "collapsed": true
   },
   "outputs": [],
   "source": [
    "fig, ax = plt.subplots(figsize=(8, 4))\n",
    "plot_sensitivity_results(shapley_gp_results, indice='all', ax=ax)\n",
    "ax.set_title(\"Additive Gaussian $\\\\rho = {0}$ - Kriging Indices - $Nv={1}$, $No={2}$, $Ni={3}$\".format(\n",
    "    theta, n_var, n_outer, n_inner))\n",
    "ax.set_ylim(ylim)\n",
    "fig.tight_layout()"
   ]
  },
  {
   "cell_type": "code",
   "execution_count": null,
   "metadata": {
    "collapsed": true
   },
   "outputs": [],
   "source": [
    "fig, axes = plt.subplots(3, 1, figsize=(6, 8), sharex=True, sharey=True)\n",
    "\n",
    "ax = axes[0]\n",
    "plot_sensitivity_results(shapley_gp_results, indice='first', ax=ax)\n",
    "ax.set_ylim(ylim)\n",
    "ax.set_xlabel('')\n",
    "ax.set_ylabel('First Sobol indices')\n",
    "ax.legend(loc=2)\n",
    "\n",
    "ax = axes[1]\n",
    "plot_sensitivity_results(shapley_gp_results, indice='total', ax=ax)\n",
    "ax.set_ylim(ylim)\n",
    "ax.legend(loc=2)\n",
    "ax.set_xlabel('')\n",
    "ax.set_ylabel('Total Sobol indices')\n",
    "\n",
    "ax = axes[2]\n",
    "plot_sensitivity_results(shapley_gp_results, indice='shapley', ax=ax)\n",
    "ax.set_ylim(ylim)\n",
    "ax.legend(loc=2)\n",
    "ax.set_ylabel('Shapley effects')\n",
    "\n",
    "fig.tight_layout()"
   ]
  },
  {
   "cell_type": "markdown",
   "metadata": {},
   "source": [
    "### Monte-Carlo estimation using a Random Forest model"
   ]
  },
  {
   "cell_type": "code",
   "execution_count": null,
   "metadata": {
    "collapsed": true
   },
   "outputs": [],
   "source": [
    "from shapley.forest import RandomForestModel\n",
    "ot.RandomGenerator.SetSeed(0)\n",
    "np.random.seed(0)\n",
    "\n",
    "model_rf = RandomForestModel(model=model, input_distribution=model.input_distribution)\n",
    "model_rf.generate_sample(n_sample=model_budget, sampling=sampling, sampling_type='uniform')\n",
    "model_rf.build(n_realization, method='random-forest')"
   ]
  },
  {
   "cell_type": "code",
   "execution_count": null,
   "metadata": {
    "collapsed": true
   },
   "outputs": [],
   "source": [
    "# The score of the meta_model\n",
    "q2_score_cv_rf = model_rf.compute_score_q2_cv(n_sample=10000, sampling='monte-carlo')\n",
    "print('Q2-score by cross-validation:', q2_score_cv_rf)"
   ]
  },
  {
   "cell_type": "code",
   "execution_count": null,
   "metadata": {
    "collapsed": true
   },
   "outputs": [],
   "source": [
    "%%time\n",
    "shapley.build_sample(model=model_rf, n_perms=n_perms, n_var=n_var, n_outer=n_outer, n_inner=n_inner, n_realization=n_realization)"
   ]
  },
  {
   "cell_type": "code",
   "execution_count": null,
   "metadata": {
    "collapsed": true
   },
   "outputs": [],
   "source": [
    "%%time\n",
    "shapley_rf_results = shapley.compute_indices(n_boot=n_boot)"
   ]
  },
  {
   "cell_type": "code",
   "execution_count": null,
   "metadata": {
    "collapsed": true
   },
   "outputs": [],
   "source": [
    "fig, ax = plt.subplots(figsize=(8, 4))\n",
    "plot_sensitivity_results(shapley_rf_results, indice='all', ax=ax)\n",
    "ax.set_title(\"Additive Gaussian $\\\\rho = {0}$ - Kriging Indices - $Nv={1}$, $No={2}$, $Ni={3}$\".format(\n",
    "    theta, n_var, n_outer, n_inner))\n",
    "ax.set_ylim(ylim)\n",
    "fig.tight_layout()"
   ]
  },
  {
   "cell_type": "code",
   "execution_count": null,
   "metadata": {
    "collapsed": true
   },
   "outputs": [],
   "source": [
    "fig, axes = plt.subplots(3, 1, figsize=(6, 8), sharex=True, sharey=True)\n",
    "\n",
    "ax = axes[0]\n",
    "plot_sensitivity_results(shapley_rf_results, indice='first', ax=ax)\n",
    "ax.set_ylim(ylim)\n",
    "ax.set_xlabel('')\n",
    "ax.set_ylabel('First Sobol indices')\n",
    "ax.legend(loc=2)\n",
    "\n",
    "ax = axes[1]\n",
    "plot_sensitivity_results(shapley_rf_results, indice='total', ax=ax)\n",
    "ax.set_ylim(ylim)\n",
    "ax.legend(loc=2)\n",
    "ax.set_xlabel('')\n",
    "ax.set_ylabel('Total Sobol indices')\n",
    "\n",
    "ax = axes[2]\n",
    "plot_sensitivity_results(shapley_rf_results, indice='shapley', ax=ax)\n",
    "ax.set_ylim(ylim)\n",
    "ax.legend(loc=2)\n",
    "ax.set_ylabel('Shapley effects')\n",
    "\n",
    "fig.tight_layout()"
   ]
  }
 ],
 "metadata": {
  "kernelspec": {
   "display_name": "Python 3",
   "language": "python",
   "name": "python3"
  },
  "language_info": {
   "codemirror_mode": {
    "name": "ipython",
    "version": 3
   },
   "file_extension": ".py",
   "mimetype": "text/x-python",
   "name": "python",
   "nbconvert_exporter": "python",
   "pygments_lexer": "ipython3",
   "version": "3.6.1"
  }
 },
 "nbformat": 4,
 "nbformat_minor": 2
}
