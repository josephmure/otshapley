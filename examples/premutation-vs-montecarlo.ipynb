{
 "cells": [
  {
   "cell_type": "code",
   "execution_count": 1,
   "metadata": {},
   "outputs": [],
   "source": [
    "import openturns as ot\n",
    "import numpy as np\n",
    "import pandas as pd\n",
    "import matplotlib.pyplot as plt \n",
    "\n",
    "%matplotlib inline\n",
    "%load_ext autoreload\n",
    "%autoreload 2"
   ]
  },
  {
   "cell_type": "code",
   "execution_count": 2,
   "metadata": {
    "collapsed": true
   },
   "outputs": [],
   "source": [
    "from shapley.tests import Ishigami\n",
    "ishigami = Ishigami()\n",
    "dim = ishigami.dim\n",
    "model = ishigami\n",
    "model.copula = ot.NormalCopula(dim)"
   ]
  },
  {
   "cell_type": "code",
   "execution_count": null,
   "metadata": {},
   "outputs": [],
   "source": [
    "from shapley import SobolIndices\n",
    "from skgarden import RandomForestQuantileRegressor\n",
    "from shapley.forest import compute_perm_indices, compute_shap_indices, compute_1stperm_indices\n",
    "from shapley.indices import SensitivityResults\n",
    "\n",
    "ot.RandomGenerator.SetSeed(0)\n",
    "np.random.seed(0)\n",
    "\n",
    "estimator = 'soboleff2'\n",
    "n_boot = 300\n",
    "\n",
    "n_tests = 10\n",
    "min_n_sample = 50\n",
    "max_n_sample = 10000\n",
    "all_n_sample = np.linspace(min_n_sample, max_n_sample, n_tests, dtype=int)\n",
    "\n",
    "sobol_results = {}\n",
    "sobol = SobolIndices(model.input_distribution)\n",
    "\n",
    "for n_sample in all_n_sample:\n",
    "    n_sample = int(n_sample)\n",
    "    sobol_results[n_sample] = {}\n",
    "    sobol.build_sample(model=model, n_sample=n_sample)\n",
    "    sobol_results[n_sample]['monte-carlo'] = sobol.compute_indices(n_boot=n_boot, estimator=estimator)\n",
    "    \n",
    "    budget = n_sample*dim*4\n",
    "    X = np.asarray(model.get_input_sample(budget, 'monte-carlo'))\n",
    "    y = model(X)\n",
    "    rfq = RandomForestQuantileRegressor(n_estimators=n_boot, n_jobs=7)\n",
    "    rfq.fit(X, y)\n",
    "    first_indices, total_indices = compute_perm_indices(rfq, X, y, model.input_distribution, indice_type='full')\n",
    "    sobol_results[n_sample]['permutation'] = SensitivityResults(first_indices=first_indices.reshape(dim, n_boot, 1),\n",
    "                                         total_indices=total_indices.reshape(dim, n_boot, 1), \n",
    "                                         true_first_indices=model.first_sobol_indices,\n",
    "                                         true_total_indices=model.total_sobol_indices)"
   ]
  },
  {
   "cell_type": "code",
   "execution_count": null,
   "metadata": {},
   "outputs": [],
   "source": [
    "fig, axes = plt.subplots(2, 2, figsize=(11, 7), sharex=True, sharey=True)\n",
    "for k, method in enumerate((['monte-carlo', 'permutation'])):\n",
    "    for l, indice in enumerate(['first', 'total']):\n",
    "        ax = axes[k, l]\n",
    "        true_indices = getattr(model, '%s_sobol_indices' % (indice))\n",
    "        \n",
    "        result = np.zeros((dim, n_tests, n_boot))\n",
    "        for i, n_sample in enumerate(all_n_sample):\n",
    "            result[:, i] = getattr(sobol_results[n_sample][method], 'full_%s_indices' % (indice))\n",
    "\n",
    "        quantiles = np.percentile(result, [2.5, 97.5], axis=2)\n",
    "        for i in range(dim):\n",
    "            plot = ax.plot(all_n_sample, result[i].mean(axis=1), label='$X_%d$' % (i+1))\n",
    "            ax.fill_between(all_n_sample, quantiles[0, i], quantiles[1, i], alpha=0.3)\n",
    "            if model.first_sobol_indices is not None:\n",
    "                ax.plot([min_n_sample, max_n_sample], [true_indices[i]]*2, '--', color=plot[0].get_color())\n",
    "\n",
    "      \n",
    "        ax.set_ylabel('Sobol %s indices' % (indice))\n",
    "        if k == 1:\n",
    "            ax.set_xlabel('$n$')\n",
    "    \n",
    "ax.set_xlim(min_n_sample, max_n_sample)\n",
    "ax.legend(loc=0)        \n",
    "\n",
    "fig.tight_layout()"
   ]
  },
  {
   "cell_type": "code",
   "execution_count": null,
   "metadata": {
    "collapsed": true
   },
   "outputs": [],
   "source": []
  }
 ],
 "metadata": {
  "kernelspec": {
   "display_name": "Python 3",
   "language": "python",
   "name": "python3"
  },
  "language_info": {
   "codemirror_mode": {
    "name": "ipython",
    "version": 3
   },
   "file_extension": ".py",
   "mimetype": "text/x-python",
   "name": "python",
   "nbconvert_exporter": "python",
   "pygments_lexer": "ipython3",
   "version": "3.6.2"
  }
 },
 "nbformat": 4,
 "nbformat_minor": 2
}
