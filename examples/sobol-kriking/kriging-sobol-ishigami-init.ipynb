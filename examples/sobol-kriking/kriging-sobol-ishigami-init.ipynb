{
 "cells": [
  {
   "cell_type": "code",
   "execution_count": 1,
   "metadata": {},
   "outputs": [],
   "source": [
    "import openturns as ot\n",
    "import numpy as np\n",
    "import pandas as pd\n",
    "import seaborn as sns\n",
    "import matplotlib.pyplot as plt\n",
    "from shapley import SobolIndices, SobolKrigingIndices, create_df_from_gp_indices, create_df_from_mc_indices\n",
    "from shapley.tests import Ishigami\n",
    "from shapley.plots import set_style_paper, plot_violin\n",
    "from shapley.kriging import test_q2\n",
    "\n",
    "%load_ext autoreload\n",
    "%autoreload 2\n",
    "\n",
    "%matplotlib inline\n",
    "\n",
    "set_style_paper()"
   ]
  },
  {
   "cell_type": "code",
   "execution_count": 2,
   "metadata": {},
   "outputs": [],
   "source": [
    "ishigami = Ishigami()\n",
    "dim = ishigami.ndim\n",
    "model = ishigami\n",
    "input_distribution = ishigami.input_distribution"
   ]
  },
  {
   "cell_type": "markdown",
   "metadata": {},
   "source": [
    "## Sobol indices with a classical Monte-Carlo sampling"
   ]
  },
  {
   "cell_type": "code",
   "execution_count": 3,
   "metadata": {},
   "outputs": [
    {
     "name": "stdout",
     "output_type": "stream",
     "text": [
      "Estimated indices: [ 0.29270057  0.43250977 -0.04205232]\n",
      "Wall time: 75.7 ms\n"
     ]
    }
   ],
   "source": [
    "%%time\n",
    "max_budget = 10000\n",
    "n_sample = int(max_budget/(2*dim))\n",
    "n_boot = 300\n",
    "ylim = [-0.1, .6]\n",
    "\n",
    "sobol = SobolIndices(input_distribution)\n",
    "sobol.build_mc_sample(model, n_sample)\n",
    "first_indices_mc = sobol.compute_indices(n_boot=n_boot)\n",
    "print(\"Estimated indices:\", first_indices_mc.mean(axis=1))"
   ]
  },
  {
   "cell_type": "markdown",
   "metadata": {},
   "source": [
    "Let's see how it looks like in the plot"
   ]
  },
  {
   "cell_type": "code",
   "execution_count": 4,
   "metadata": {},
   "outputs": [
    {
     "data": {
      "image/png": "[encoded data removed]",
      "text/plain": [
       "<matplotlib.figure.Figure at 0x2c57291d6d8>"
      ]
     },
     "metadata": {},
     "output_type": "display_data"
    }
   ],
   "source": [
    "df_first_indices_mc = create_df_from_mc_indices(first_indices_mc)\n",
    "plot_violin(df_first_indices_mc, with_hue=False, true_indices=ishigami.first_order_sobol_indices, ylim=ylim)"
   ]
  },
  {
   "cell_type": "markdown",
   "metadata": {},
   "source": [
    "## Using a Kriging model to substitute the true model\n",
    "\n",
    "### Building the model"
   ]
  },
  {
   "cell_type": "code",
   "execution_count": 65,
   "metadata": {},
   "outputs": [],
   "source": [
    "ot.RandomGenerator.SetSeed(0)\n",
    "np.random.seed(0)\n",
    "model_budget = 50\n",
    "basis = 'linear'\n",
    "kernel = 'exponential'\n",
    "sobol_kriging = SobolKrigingIndices(input_distribution)\n",
    "meta_model = sobol_kriging.build_meta_model(model, n_sample=model_budget, basis_type=basis, kernel=kernel)"
   ]
  },
  {
   "cell_type": "markdown",
   "metadata": {},
   "source": [
    "### The quality of the kriging model\n",
    "\n",
    "#### With Leave One Out"
   ]
  },
  {
   "cell_type": "code",
   "execution_count": null,
   "metadata": {},
   "outputs": [],
   "source": [
    "score_q2_loo = meta_model.compute_score_q2_loo()\n",
    "print('Leave One Out Q2 score:', score_q2_loo)"
   ]
  },
  {
   "cell_type": "markdown",
   "metadata": {},
   "source": [
    "#### With cross validation"
   ]
  },
  {
   "cell_type": "code",
   "execution_count": null,
   "metadata": {},
   "outputs": [],
   "source": [
    "n_sample_cv = model_budget\n",
    "score_q2_cv = meta_model.compute_score_q2_cv(n_sample_cv, sampling='lhs')\n",
    "print('Cross Validation Q2 score with %d observations:' % (n_sample_cv), score_q2_cv)"
   ]
  },
  {
   "cell_type": "markdown",
   "metadata": {},
   "source": [
    "### Estimating the indices"
   ]
  },
  {
   "cell_type": "code",
   "execution_count": null,
   "metadata": {},
   "outputs": [],
   "source": [
    "n_sample = 500\n",
    "n_realization = 100\n",
    "evaluate_together = True\n",
    "indiv_bootstraps = False\n",
    "sobol_kriging.build_mc_sample(meta_model, n_sample, n_realization, evaluate_together=evaluate_together)\n",
    "first_indices_gp = sobol_kriging.compute_indices(n_boot=n_boot, indiv_bootstraps=indiv_bootstraps, estimator='sobol')\n",
    "df_first_indices_gp = create_df_from_gp_indices(first_indices_gp)"
   ]
  },
  {
   "cell_type": "code",
   "execution_count": null,
   "metadata": {},
   "outputs": [],
   "source": [
    "plot_violin(df_first_indices_gp, with_hue=False, true_indices=ishigami.first_order_sobol_indices, ylim=ylim)\n",
    "plot_violin(df_first_indices_gp, with_hue=True, true_indices=ishigami.first_order_sobol_indices, ylim=ylim)"
   ]
  },
  {
   "cell_type": "code",
   "execution_count": null,
   "metadata": {},
   "outputs": [],
   "source": [
    "fig, ax = plt.subplots(figsize=(8, 4))\n",
    "sns.boxplot(x='Variables', y='Indice values', data=df_first_indices_gp, hue='Error', ax=ax)\n",
    "ax.plot(ishigami.first_order_sobol_indices, 'yo', markersize=7, label='True indices')\n",
    "ax.legend(loc=0)\n",
    "ax.set_ylim(ylim)\n",
    "fig.tight_layout()"
   ]
  },
  {
   "cell_type": "code",
   "execution_count": null,
   "metadata": {
    "collapsed": true
   },
   "outputs": [],
   "source": []
  }
 ],
 "metadata": {
  "kernelspec": {
   "display_name": "Python 3",
   "language": "python",
   "name": "python3"
  },
  "language_info": {
   "codemirror_mode": {
    "name": "ipython",
    "version": 3
   },
   "file_extension": ".py",
   "mimetype": "text/x-python",
   "name": "python",
   "nbconvert_exporter": "python",
   "pygments_lexer": "ipython3",
   "version": "3.6.2"
  }
 },
 "nbformat": 4,
 "nbformat_minor": 2
}
