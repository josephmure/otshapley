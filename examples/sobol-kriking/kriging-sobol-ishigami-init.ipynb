{
 "cells": [
  {
   "cell_type": "code",
   "execution_count": null,
   "metadata": {
    "collapsed": true
   },
   "outputs": [],
   "source": [
    "import openturns as ot\n",
    "import numpy as np\n",
    "import pandas as pd\n",
    "import seaborn as sns\n",
    "import matplotlib.pyplot as plt\n",
    "\n",
    "from shapley import SobolIndices, SobolKrigingIndices\n",
    "from shapley.tests import Ishigami\n",
    "from shapley.plots import set_style_paper, plot_sensitivity_results\n",
    "\n",
    "%load_ext autoreload\n",
    "%autoreload 2\n",
    "\n",
    "%matplotlib inline\n",
    "\n",
    "set_style_paper()\n",
    "\n",
    "savefigs = False\n",
    "ylim = [-0.1, 0.7]"
   ]
  },
  {
   "cell_type": "markdown",
   "metadata": {},
   "source": [
    "## The model"
   ]
  },
  {
   "cell_type": "code",
   "execution_count": null,
   "metadata": {
    "collapsed": true
   },
   "outputs": [],
   "source": [
    "ishigami = Ishigami()\n",
    "dim = ishigami.ndim\n",
    "model = ishigami"
   ]
  },
  {
   "cell_type": "markdown",
   "metadata": {},
   "source": [
    "## Sobol indices with a classical Monte-Carlo sampling"
   ]
  },
  {
   "cell_type": "code",
   "execution_count": null,
   "metadata": {
    "collapsed": true
   },
   "outputs": [],
   "source": [
    "ot.RandomGenerator.SetSeed(0)\n",
    "np.random.seed(0)\n",
    "n_sample = 1000\n",
    "\n",
    "# Evaluate the model\n",
    "sobol = SobolIndices(model.input_distribution)\n",
    "sobol.build_mc_sample(model=model, n_sample=n_sample)"
   ]
  },
  {
   "cell_type": "code",
   "execution_count": null,
   "metadata": {},
   "outputs": [],
   "source": [
    "n_boot = 500\n",
    "estimator = 'soboleff2'\n",
    "\n",
    "# Indice estimatino\n",
    "sobol_results = sobol.compute_indices(n_boot=n_boot, estimator=estimator)\n",
    "sobol_results.true_indices = ishigami.sobol_indices\n",
    "\n",
    "# Results\n",
    "first_indices_mc = sobol_results.first_indices\n",
    "total_indices_mc = sobol_results.total_indices\n",
    "\n",
    "print(\"Sobol indices:\", first_indices_mc)\n",
    "print(\"Total Sobol indices:\", total_indices_mc)"
   ]
  },
  {
   "cell_type": "markdown",
   "metadata": {},
   "source": [
    "Let's see how it looks like in the plot"
   ]
  },
  {
   "cell_type": "code",
   "execution_count": null,
   "metadata": {},
   "outputs": [],
   "source": [
    "fig, ax = plt.subplots(figsize=(8, 4))\n",
    "plot_sensitivity_results(sobol_results, ax=ax)\n",
    "ax.set_title(\"Ishigami - Sobol indices with Monte-carlo (%s) - $n=%d$\" % (estimator, n_sample))\n",
    "ax.set_ylim(ylim)\n",
    "fig.tight_layout()\n",
    "if savefigs:\n",
    "    fig.savefig('./output/ishigami_sobol_MC.pdf')"
   ]
  },
  {
   "cell_type": "markdown",
   "metadata": {},
   "source": [
    "## Using a Kriging model to substitute the true model\n",
    "\n",
    "### Building the model"
   ]
  },
  {
   "cell_type": "code",
   "execution_count": null,
   "metadata": {
    "collapsed": true
   },
   "outputs": [],
   "source": [
    "ot.RandomGenerator.SetSeed(0)\n",
    "np.random.seed(0)\n",
    "model_budget = 50\n",
    "basis = 'quadratic'\n",
    "kernel = 'matern'\n",
    "library = 'sklearn'\n",
    "sobol_kriging = SobolKrigingIndices(model.input_distribution)\n",
    "meta_model = sobol_kriging.build_meta_model(model, n_sample=model_budget, basis_type=basis, kernel=kernel, library=library)"
   ]
  },
  {
   "cell_type": "markdown",
   "metadata": {},
   "source": [
    "### The quality of the kriging model\n",
    "\n",
    "#### With Leave One Out"
   ]
  },
  {
   "cell_type": "code",
   "execution_count": null,
   "metadata": {},
   "outputs": [],
   "source": [
    "score_q2_loo = meta_model.compute_score_q2_loo()\n",
    "print('Leave One Out Q2 score:', score_q2_loo)"
   ]
  },
  {
   "cell_type": "markdown",
   "metadata": {},
   "source": [
    "#### With cross validation"
   ]
  },
  {
   "cell_type": "code",
   "execution_count": null,
   "metadata": {},
   "outputs": [],
   "source": [
    "n_sample_cv = 1000\n",
    "score_q2_cv = meta_model.compute_score_q2_cv(n_sample_cv, sampling='lhs')\n",
    "print('Cross Validation Q2 score with %d observations:' % (n_sample_cv), score_q2_cv)"
   ]
  },
  {
   "cell_type": "markdown",
   "metadata": {},
   "source": [
    "### Estimating the indices"
   ]
  },
  {
   "cell_type": "code",
   "execution_count": null,
   "metadata": {},
   "outputs": [],
   "source": [
    "%%time\n",
    "ot.RandomGenerator.SetSeed(0)\n",
    "np.random.seed(0)\n",
    "n_sample = 100\n",
    "n_realization = 300\n",
    "\n",
    "# Evaluate the kriging model\n",
    "sobol_kriging.build_mc_sample(meta_model, n_sample, n_realization)"
   ]
  },
  {
   "cell_type": "code",
   "execution_count": null,
   "metadata": {},
   "outputs": [],
   "source": [
    "%%time\n",
    "n_boot = 500\n",
    "estimator = 'soboleff2'\n",
    "sobol_kriging_results = sobol_kriging.compute_indices(n_boot=n_boot, estimator=estimator)\n",
    "sobol_kriging_results.true_indices = ishigami.sobol_indices\n",
    "\n",
    "# Results\n",
    "first_indices_gp = sobol_kriging_results.first_indices\n",
    "total_indices_gp = sobol_kriging_results.total_indices\n",
    "\n",
    "print(\"Sobol indices:\", first_indices_gp)\n",
    "print(\"Total Sobol indices:\", total_indices_gp)"
   ]
  },
  {
   "cell_type": "markdown",
   "metadata": {},
   "source": [
    "#### Plot with the first and total indices"
   ]
  },
  {
   "cell_type": "code",
   "execution_count": null,
   "metadata": {},
   "outputs": [],
   "source": [
    "fig, ax = plt.subplots(figsize=(8, 4))\n",
    "plot_sensitivity_results(sobol_kriging_results, indice='both', ax=ax)\n",
    "ax.set_ylim(ylim)\n",
    "ax.set_title(\"Ishigami - Sobol indices with Kriging + Monte-carlo - $Q2=%.2f$, $m=%d$, $n=%d$\" % (score_q2_cv, model_budget, n_sample))\n",
    "fig.tight_layout()\n",
    "if savefigs:\n",
    "    fig.savefig('./output/ishigami_sobol_GP.pdf')"
   ]
  },
  {
   "cell_type": "markdown",
   "metadata": {},
   "source": [
    "#### Plots of the first indices with the kriging and monte-carlo errors"
   ]
  },
  {
   "cell_type": "code",
   "execution_count": null,
   "metadata": {},
   "outputs": [],
   "source": [
    "fig, ax = plt.subplots(figsize=(8, 4))\n",
    "aa = plot_sensitivity_results(sobol_kriging_results, indice='first', ax=ax)\n",
    "ax.set_ylim(ylim)\n",
    "ax.set_title(\"Ishigami - 1st Sobol indices with Kriging + Monte-carlo - $Q2=%.2f$, $m=%d$, $n=%d$\" % (score_q2_cv, model_budget, n_sample))\n",
    "fig.tight_layout()\n",
    "if savefigs:\n",
    "    fig.savefig('./output/ishigami_1st_sobol_GP.pdf')"
   ]
  },
  {
   "cell_type": "markdown",
   "metadata": {},
   "source": [
    "#### Plots of the total indices with the kriging and monte-carlo errors"
   ]
  },
  {
   "cell_type": "code",
   "execution_count": null,
   "metadata": {},
   "outputs": [],
   "source": [
    "fig, ax = plt.subplots(figsize=(8, 4))\n",
    "aa = plot_sensitivity_results(sobol_kriging_results, indice='total', ax=ax)\n",
    "ax.set_ylim(ylim)\n",
    "ax.set_title(\"Ishigami - Total Sobol indices with Kriging + Monte-carlo - $Q2=%.2f$, $m=%d$, $n=%d$\" % (score_q2_cv, model_budget, n_sample))\n",
    "fig.tight_layout()\n",
    "if savefigs:\n",
    "    fig.savefig('./output/ishigami_total_sobol_GP.pdf')"
   ]
  }
 ],
 "metadata": {
  "kernelspec": {
   "display_name": "Python 3",
   "language": "python",
   "name": "python3"
  },
  "language_info": {
   "codemirror_mode": {
    "name": "ipython",
    "version": 3
   },
   "file_extension": ".py",
   "mimetype": "text/x-python",
   "name": "python",
   "nbconvert_exporter": "python",
   "pygments_lexer": "ipython3",
   "version": "3.6.2"
  }
 },
 "nbformat": 4,
 "nbformat_minor": 2
}
