{
 "cells": [
  {
   "cell_type": "code",
   "execution_count": 1,
   "metadata": {
    "collapsed": true
   },
   "outputs": [],
   "source": [
    "import openturns as ot\n",
    "import numpy as np\n",
    "import pandas as pd\n",
    "import seaborn as sns\n",
    "import matplotlib.pyplot as plt\n",
    "\n",
    "from shapley import ShapleyIndices\n",
    "from shapley.tests import ProductGaussian, AdditiveGaussian\n",
    "from shapley.plots import set_style_paper, plot_sensitivity_results, plot_error, plot_var, plot_cover\n",
    "\n",
    "%load_ext autoreload\n",
    "%autoreload 2\n",
    "\n",
    "%matplotlib inline\n",
    "\n",
    "set_style_paper()\n",
    "\n",
    "savefigs = True"
   ]
  },
  {
   "cell_type": "code",
   "execution_count": 2,
   "metadata": {
    "collapsed": true
   },
   "outputs": [],
   "source": [
    "dim = 3\n",
    "corr = 0.\n",
    "\n",
    "beta = None\n",
    "model = AdditiveGaussian(dim=dim, beta=beta)\n",
    "model.margins = [ot.Normal()]*(dim-1) + [ot.Normal(0, 2.)]\n",
    "theta = [0., 0., corr]\n",
    "model.copula_parameters = theta\n",
    "    \n",
    "true_results = {\n",
    "    'Shapley': model.shapley_indices,\n",
    "    'First Sobol': model.first_sobol_indices,\n",
    "    'Total Sobol': model.total_sobol_indices\n",
    "}"
   ]
  },
  {
   "cell_type": "code",
   "execution_count": 3,
   "metadata": {
    "collapsed": true
   },
   "outputs": [],
   "source": [
    "n_var = 10000\n",
    "n_outer = 1\n",
    "\n",
    "n_boot = 500\n",
    "n_run = 100\n",
    "\n",
    "n_n_ticks = 30\n",
    "min_n_ticks = 108\n",
    "max_n_ticks = 3000\n",
    "\n",
    "all_n_ticks = np.logspace(np.log10(min_n_ticks), np.log10(max_n_ticks), n_n_ticks, base=10, dtype=int)\n",
    "all_n_ticks = np.unique(all_n_ticks)\n",
    "n_n_ticks = len(all_n_ticks)\n",
    "    \n",
    "all_n_axes = [3, 9, 18]\n",
    "n_n_axes = len(all_n_axes)\n",
    "method = 'random'"
   ]
  },
  {
   "cell_type": "code",
   "execution_count": null,
   "metadata": {},
   "outputs": [
    {
     "name": "stdout",
     "output_type": "stream",
     "text": [
      "n_inner: 3 n_perms: 36\n"
     ]
    },
    {
     "name": "stderr",
     "output_type": "stream",
     "text": [
      "/users/home/benoumechia/git-repo/shapley-indices/shapley/shapley.py:367: RuntimeWarning: invalid value encountered in true_divide\n",
      "  vsob = first_indices / N_first / output_variance\n",
      "/users/home/benoumechia/git-repo/shapley-indices/shapley/shapley.py:366: RuntimeWarning: invalid value encountered in true_divide\n",
      "  total_indices = total_indices / N_total / output_variance\n"
     ]
    },
    {
     "name": "stdout",
     "output_type": "stream",
     "text": [
      "n_inner: 9 n_perms: 12\n"
     ]
    },
    {
     "name": "stderr",
     "output_type": "stream",
     "text": [
      "/users/home/benoumechia/git-repo/shapley-indices/shapley/shapley.py:375: RuntimeWarning: invalid value encountered in true_divide\n",
      "  vsob_2 = first_indices_2 / N_first_2 / output_variance_2**2\n",
      "/users/home/benoumechia/git-repo/shapley-indices/shapley/shapley.py:373: RuntimeWarning: invalid value encountered in true_divide\n",
      "  total_indices_2 = total_indices_2 / N_total_2 / output_variance_2**2\n"
     ]
    },
    {
     "name": "stdout",
     "output_type": "stream",
     "text": [
      "n_inner: 18 n_perms: 6\n",
      "n_inner: 3 n_perms: 40\n",
      "n_inner: 9 n_perms: 13\n",
      "n_inner: 18 n_perms: 6\n",
      "n_inner: 3 n_perms: 45\n",
      "n_inner: 9 n_perms: 15\n",
      "n_inner: 18 n_perms: 7\n",
      "n_inner: 3 n_perms: 50\n",
      "n_inner: 9 n_perms: 16\n",
      "n_inner: 18 n_perms: 8\n",
      "n_inner: 3 n_perms: 56\n",
      "n_inner: 9 n_perms: 18\n",
      "n_inner: 18 n_perms: 9\n",
      "n_inner: 3 n_perms: 63\n",
      "n_inner: 9 n_perms: 21\n",
      "n_inner: 18 n_perms: 10\n",
      "n_inner: 3 n_perms: 71\n",
      "n_inner: 9 n_perms: 23\n",
      "n_inner: 18 n_perms: 11\n",
      "n_inner: 3 n_perms: 80\n",
      "n_inner: 9 n_perms: 26\n",
      "n_inner: 18 n_perms: 13\n",
      "n_inner: 3 n_perms: 90\n",
      "n_inner: 9 n_perms: 30\n",
      "n_inner: 18 n_perms: 15\n",
      "n_inner: 3 n_perms: 101\n",
      "n_inner: 9 n_perms: 33\n",
      "n_inner: 18 n_perms: 16\n",
      "n_inner: 3 n_perms: 113\n",
      "n_inner: 9 n_perms: 37\n",
      "n_inner: 18 n_perms: 18\n",
      "n_inner: 3 n_perms: 127\n",
      "n_inner: 9 n_perms: 42\n",
      "n_inner: 18 n_perms: 21\n",
      "n_inner: 3 n_perms: 142\n",
      "n_inner: 9 n_perms: 47\n",
      "n_inner: 18 n_perms: 23\n",
      "n_inner: 3 n_perms: 159\n",
      "n_inner: 9 n_perms: 53\n",
      "n_inner: 18 n_perms: 26\n",
      "n_inner: 3 n_perms: 179\n",
      "n_inner: 9 n_perms: 59\n",
      "n_inner: 18 n_perms: 29\n",
      "n_inner: 3 n_perms: 200\n"
     ]
    }
   ],
   "source": [
    "%%time\n",
    "\n",
    "np.random.seed(69)\n",
    "\n",
    "all_shapley_results = np.zeros((n_n_ticks, n_n_axes, n_run, dim, n_boot))\n",
    "all_first_results = np.zeros((n_n_ticks, n_n_axes, n_run, dim, n_boot))\n",
    "all_total_results = np.zeros((n_n_ticks, n_n_axes, n_run, dim, n_boot))\n",
    "\n",
    "all_shapley_results_SE = np.zeros((n_n_ticks, n_n_axes, n_run, dim))\n",
    "all_first_results_SE = np.zeros((n_n_ticks, n_n_axes, n_run, dim))\n",
    "all_total_results_SE = np.zeros((n_n_ticks, n_n_axes, n_run, dim))\n",
    "\n",
    "for i_ticks, n_ticks in enumerate(all_n_ticks):\n",
    "    for i_axes, n_axes in enumerate(all_n_axes):\n",
    "        n_inner = n_axes\n",
    "        n_perms = int(n_ticks / (n_inner * n_outer))\n",
    "        \n",
    "        print('n_inner:', n_inner, 'n_perms:', n_perms)\n",
    "        for i_run in range(n_run):            \n",
    "            shapley = ShapleyIndices(model.input_distribution)\n",
    "            shapley.build_sample(model=model, n_perms=n_perms, n_var=n_var, n_outer=int(n_outer), n_inner=int(n_inner))\n",
    "            shapley_results = shapley.compute_indices(n_boot=n_boot)\n",
    "            \n",
    "            all_shapley_results[i_ticks, i_axes, i_run] = shapley_results.full_shapley_indices\n",
    "            all_first_results[i_ticks, i_axes, i_run] = shapley_results.full_first_indices\n",
    "            all_total_results[i_ticks, i_axes, i_run] = shapley_results.full_total_indices\n",
    "            \n",
    "            all_shapley_results_SE[i_ticks, i_axes, i_run] = shapley_results.shapley_indices_SE\n",
    "            all_first_results_SE[i_ticks, i_axes, i_run] = shapley_results.first_indices\n",
    "            all_total_results_SE[i_ticks, i_axes, i_run] = shapley_results.total_indices_SE"
   ]
  },
  {
   "cell_type": "code",
   "execution_count": null,
   "metadata": {
    "scrolled": true
   },
   "outputs": [],
   "source": [
    "# Coverage probability\n",
    "ci_prob = 0.10\n",
    "error_type = 'absolute'\n",
    "logscale = False\n",
    "name = 'N_o N_i n_{perms}'\n",
    "savefigs = True\n",
    "ci_method = 'bootstrap'\n",
    "\n",
    "do_cover = False\n",
    "if n_boot > 1 or method == 'random':\n",
    "    do_cover = True\n",
    "\n",
    "if name == 'N_i':\n",
    "    x_ticks = all_n_inner\n",
    "    x_axes = all_n_outer\n",
    "    name_axes = 'N_o'\n",
    "    axis = 0\n",
    "elif name == 'N_o':\n",
    "    x_ticks = all_n_outer\n",
    "    x_axes = all_n_inner\n",
    "    name_axes = 'N_i'\n",
    "    axis = 1\n",
    "elif name == 'N_o N_i':\n",
    "    x_ticks = all_n_ticks\n",
    "    x_axes = all_n_axes\n",
    "    name_axes = 'N_i'\n",
    "    axis = 1\n",
    "elif name == 'N_o N_i n_{perms}':\n",
    "    x_ticks = all_n_ticks\n",
    "    x_axes = all_n_axes\n",
    "    name_axes = 'N_i'\n",
    "    axis = 1\n",
    "\n",
    "n_col = len(x_axes)\n",
    "fig, axes = plt.subplots(1, n_col, figsize=(2.5*n_col+3, 3.5), sharex=True, sharey=True) \n",
    "    \n",
    "axes = [axes] if n_col == 1 else axes\n",
    "\n",
    "for i_ax, (N, ax_err) in enumerate(zip(x_axes, axes)):\n",
    "    \n",
    "    # Chose the associated result\n",
    "    results = {\n",
    "        'Shapley': all_shapley_results.take(i_ax, axis=axis),\n",
    "        'First Sobol': all_first_results.take(i_ax, axis=axis),\n",
    "        'Total Sobol': all_total_results.take(i_ax, axis=axis)\n",
    "    }\n",
    "    \n",
    "    results_SE = {\n",
    "        'Shapley': all_shapley_results_SE.take(i_ax, axis=axis),\n",
    "        'First Sobol': all_first_results_SE.take(i_ax, axis=axis),\n",
    "        'Total Sobol': all_total_results_SE.take(i_ax, axis=axis)\n",
    "    }\n",
    "            \n",
    "    plot_error(results, true_results, x_ticks, ax=ax_err, error_type=error_type, logscale=logscale)\n",
    "\n",
    "    ax_cov = ax_err.twinx()\n",
    "    ax_cov.set_ylim(0., 1.)\n",
    "    if do_cover:\n",
    "        plot_cover(results, true_results, x_ticks, results_SE=results_SE, ax=ax_cov, ci_prob=ci_prob,\n",
    "                  ci_method=ci_method)\n",
    "        if i_ax < n_col - 1:\n",
    "            plt.setp(ax_cov.get_yticklabels(), visible=False)\n",
    "            ax_cov.set_ylabel('')\n",
    "            ax_cov.set_yticks([])\n",
    "            \n",
    "    if i_ax > 0:\n",
    "        plt.setp(ax_err.get_yticklabels(), visible=False)\n",
    "        ax_err.set_ylabel('')\n",
    "        \n",
    "    ax_err.set_xlabel('$%s$' % (name))\n",
    "    ax_err.grid()\n",
    "    ax_err.set_title('$%s = %d$' % (name_axes, N))\n",
    "    \n",
    "    if i_ax == n_col-1:\n",
    "        h_err, l_err = ax_err.get_legend_handles_labels()\n",
    "        h_cov, l_cov = ax_cov.get_legend_handles_labels()\n",
    "        ax_err.legend(h_err + h_cov, l_err + l_cov, loc='center left', \n",
    "                          bbox_to_anchor=(1.2, 0.5))\n",
    "\n",
    "fig.tight_layout()\n",
    "if savefigs:\n",
    "    figname = './output/additive_gaussian_precision_dim_%d_%s_nboot_%d' % (dim, method, n_boot)\n",
    "    figname += '%s' % (name)\n",
    "    figname += '_n_ticks_%d_n_naxes_%d_rho_%.2f_Nv_%d_maxNticks_%d_nrun_%d_%s' %\\\n",
    "        (n_n_ticks, n_n_axes, corr, n_var, max_n_ticks, n_run, error_type)\n",
    "    fig.savefig(figname + '.pdf', bbox_inches='tight')\n",
    "    fig.savefig(figname + '.png', bbox_inches='tight')"
   ]
  },
  {
   "cell_type": "code",
   "execution_count": null,
   "metadata": {
    "collapsed": true
   },
   "outputs": [],
   "source": []
  }
 ],
 "metadata": {
  "kernelspec": {
   "display_name": "Python 3",
   "language": "python",
   "name": "python3"
  },
  "language_info": {
   "codemirror_mode": {
    "name": "ipython",
    "version": 3
   },
   "file_extension": ".py",
   "mimetype": "text/x-python",
   "name": "python",
   "nbconvert_exporter": "python",
   "pygments_lexer": "ipython3",
   "version": "3.6.3"
  }
 },
 "nbformat": 4,
 "nbformat_minor": 2
}
