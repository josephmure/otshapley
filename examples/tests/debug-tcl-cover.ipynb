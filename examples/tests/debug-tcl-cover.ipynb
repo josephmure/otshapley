{
 "cells": [
  {
   "cell_type": "code",
   "execution_count": 181,
   "metadata": {},
   "outputs": [
    {
     "name": "stdout",
     "output_type": "stream",
     "text": [
      "The autoreload extension is already loaded. To reload it, use:\n",
      "  %reload_ext autoreload\n"
     ]
    }
   ],
   "source": [
    "import openturns as ot\n",
    "import numpy as np\n",
    "import pandas as pd\n",
    "import seaborn as sns\n",
    "import matplotlib.pyplot as plt\n",
    "\n",
    "from shapley import ShapleyIndices\n",
    "from shapley.tests import ProductGaussian, AdditiveGaussian\n",
    "from shapley.plots import set_style_paper, plot_sensitivity_results, plot_error, plot_var, plot_cover\n",
    "\n",
    "%load_ext autoreload\n",
    "%autoreload 2\n",
    "\n",
    "%matplotlib inline\n",
    "\n",
    "set_style_paper()\n",
    "\n",
    "savefigs = True"
   ]
  },
  {
   "cell_type": "code",
   "execution_count": 198,
   "metadata": {},
   "outputs": [],
   "source": [
    "dim = 3\n",
    "corr = 0.\n",
    "\n",
    "beta = None\n",
    "model = AdditiveGaussian(dim=dim, beta=beta)\n",
    "model.margins = [ot.Normal()]*(dim-1) + [ot.Normal(0, 2.)]\n",
    "theta = [0., 0., corr]\n",
    "model.copula_parameters = theta\n",
    "    \n",
    "true_results = {\n",
    "    'Shapley': model.shapley_indices,\n",
    "    'First Sobol': model.first_sobol_indices,\n",
    "    'Total Sobol': model.total_sobol_indices\n",
    "}"
   ]
  },
  {
   "cell_type": "code",
   "execution_count": 211,
   "metadata": {},
   "outputs": [
    {
     "name": "stdout",
     "output_type": "stream",
     "text": [
      "0\n",
      "1\n",
      "2\n",
      "3\n",
      "4\n",
      "5\n",
      "6\n",
      "7\n",
      "8\n",
      "9\n",
      "10\n",
      "11\n",
      "12\n",
      "13\n",
      "14\n",
      "15\n",
      "16\n",
      "17\n",
      "18\n",
      "19\n",
      "20\n",
      "21\n",
      "22\n",
      "23\n",
      "24\n",
      "25\n",
      "26\n",
      "27\n",
      "28\n",
      "29\n"
     ]
    }
   ],
   "source": [
    "n_var = 10000\n",
    "n_inner = 3\n",
    "n_outer = 1\n",
    "n_boot = 1\n",
    "n_run = 30\n",
    "n_perms = 1000\n",
    "\n",
    "all_shapley_results = np.zeros((n_run, dim, n_boot))\n",
    "all_first_results = np.zeros((n_run, dim, n_boot))\n",
    "all_total_results = np.zeros((n_run, dim, n_boot))\n",
    "\n",
    "all_shapley_results_SE = np.zeros((n_run, dim))\n",
    "all_first_results_SE = np.zeros((n_run, dim))\n",
    "all_total_results_SE = np.zeros((n_run, dim))\n",
    "\n",
    "for i_run in range(n_run):\n",
    "    shapley = ShapleyIndices(model.input_distribution)\n",
    "    shapley.build_sample(model=model, n_perms=n_perms, n_var=n_var, n_outer=int(n_outer), n_inner=int(n_inner))\n",
    "    shapley_results = shapley.compute_indices(n_boot=n_boot)\n",
    "    \n",
    "    all_shapley_results[i_run] = shapley_results.full_shapley_indices\n",
    "    all_first_results[i_run] = shapley_results.full_first_indices\n",
    "    all_total_results[i_run] = shapley_results.full_total_indices\n",
    "\n",
    "    all_shapley_results_SE[i_run] = shapley_results.shapley_indices_SE\n",
    "    all_first_results_SE[i_run] = shapley_results.first_indices\n",
    "    all_total_results_SE[i_run] = shapley_results.total_indices_SE\n",
    "    print(i_run)"
   ]
  },
  {
   "cell_type": "code",
   "execution_count": 212,
   "metadata": {
    "scrolled": true
   },
   "outputs": [
    {
     "name": "stdout",
     "output_type": "stream",
     "text": [
      "Shapley\n",
      "[ 0.56666667  0.5         0.43333333] 3.42318765926e-17 [ 0.16057342  0.16916709  0.67025949]\n",
      "First Sobol\n",
      "[ 0.9         0.96666667  1.        ] 0.00165680611816 [ 0.16615105  0.17138105  0.66743832]\n",
      "Total Sobol\n",
      "[ 0.56666667  0.5         0.5       ] 0.00511892887164 [ 0.16945813  0.16764211  0.67825655]\n"
     ]
    }
   ],
   "source": [
    "from scipy import stats\n",
    "ci_prob = 0.5\n",
    "ci_method = 'tcl'\n",
    "z_alpha = stats.norm.ppf((ci_prob)*0.5)\n",
    "\n",
    "results = {\n",
    "    'Shapley': all_shapley_results,\n",
    "    'First Sobol': all_first_results,\n",
    "    'Total Sobol': all_total_results\n",
    "}\n",
    "results_SE = {\n",
    "    'Shapley': all_shapley_results_SE,\n",
    "    'First Sobol': all_first_results_SE,\n",
    "    'Total Sobol': all_total_results_SE\n",
    "}\n",
    "\n",
    "for name in results:\n",
    "    result = results[name]\n",
    "    no_boot_estimation = result[:, :, 0]\n",
    "    result_SE = results_SE[name]\n",
    "    true_indices = true_results[name]    \n",
    "    if ci_method == 'tcl':\n",
    "        ci_up = no_boot_estimation - z_alpha * result_SE\n",
    "        ci_down = no_boot_estimation + z_alpha * result_SE\n",
    "    elif ci_method == 'bootstrap':\n",
    "        pass\n",
    "    cover = ((ci_down < true_indices) & (ci_up > true_indices))\n",
    "    error = (no_boot_estimation - true_indices).mean()\n",
    "    print(name)\n",
    "    print(cover.mean(axis=0), error, no_boot_estimation.mean(axis=0))"
   ]
  },
  {
   "cell_type": "code",
   "execution_count": null,
   "metadata": {},
   "outputs": [],
   "source": [
    "true_results"
   ]
  },
  {
   "cell_type": "code",
   "execution_count": null,
   "metadata": {},
   "outputs": [],
   "source": []
  }
 ],
 "metadata": {
  "kernelspec": {
   "display_name": "Python 3",
   "language": "python",
   "name": "python3"
  },
  "language_info": {
   "codemirror_mode": {
    "name": "ipython",
    "version": 3
   },
   "file_extension": ".py",
   "mimetype": "text/x-python",
   "name": "python",
   "nbconvert_exporter": "python",
   "pygments_lexer": "ipython3",
   "version": "3.6.2"
  }
 },
 "nbformat": 4,
 "nbformat_minor": 2
}
