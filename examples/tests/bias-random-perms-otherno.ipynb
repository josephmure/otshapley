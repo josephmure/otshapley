{
 "cells": [
  {
   "cell_type": "code",
   "execution_count": 1,
   "metadata": {
    "collapsed": true
   },
   "outputs": [],
   "source": [
    "import openturns as ot\n",
    "import numpy as np\n",
    "import pandas as pd\n",
    "import seaborn as sns\n",
    "import matplotlib.pyplot as plt\n",
    "\n",
    "from shapley import ShapleyIndices\n",
    "from shapley.tests import ProductGaussian, AdditiveGaussian\n",
    "from shapley.plots import set_style_paper, plot_sensitivity_results, plot_error, plot_var, plot_cover\n",
    "\n",
    "%load_ext autoreload\n",
    "%autoreload 2\n",
    "\n",
    "%matplotlib inline\n",
    "\n",
    "set_style_paper()\n",
    "\n",
    "savefigs = True"
   ]
  },
  {
   "cell_type": "code",
   "execution_count": 2,
   "metadata": {
    "collapsed": true
   },
   "outputs": [],
   "source": [
    "dim = 3\n",
    "corr = 0.\n",
    "\n",
    "beta = None\n",
    "model = AdditiveGaussian(dim=dim, beta=beta)\n",
    "model.margins = [ot.Normal()]*(dim-1) + [ot.Normal(0, 2.)]\n",
    "theta = [0., 0., corr]\n",
    "model.copula_parameters = theta\n",
    "    \n",
    "true_results = {\n",
    "    'Shapley': model.shapley_indices,\n",
    "    'First Sobol': model.first_sobol_indices,\n",
    "    'Total Sobol': model.total_sobol_indices\n",
    "}"
   ]
  },
  {
   "cell_type": "code",
   "execution_count": 3,
   "metadata": {
    "collapsed": true
   },
   "outputs": [],
   "source": [
    "n_var = 50000\n",
    "n_outer = 10\n",
    "\n",
    "n_boot = 1000\n",
    "n_run = 100\n",
    "\n",
    "n_n_perms = 30\n",
    "min_n_perms = 100\n",
    "max_n_perms = 20000\n",
    "\n",
    "all_n_perms = np.logspace(np.log10(min_n_perms), np.log10(max_n_perms), n_n_perms, base=10, dtype=int)\n",
    "assert len(np.unique(all_n_perms)) == n_n_perms,\\\n",
    "    \"Wrong number of all_No %d != %d\" % (len(np.unique(all_n_perms)), n_n_perms)\n",
    "    \n",
    "all_n_inner = [3]\n",
    "n_n_inner = len(all_n_inner)\n",
    "method = 'random'"
   ]
  },
  {
   "cell_type": "code",
   "execution_count": 4,
   "metadata": {},
   "outputs": [
    {
     "name": "stdout",
     "output_type": "stream",
     "text": [
      "Nperm: 100 Ni: 3\n",
      "Nperm: 120 Ni: 3\n",
      "Nperm: 144 Ni: 3\n",
      "Nperm: 172 Ni: 3\n",
      "Nperm: 207 Ni: 3\n",
      "Nperm: 249 Ni: 3\n",
      "Nperm: 299 Ni: 3\n",
      "Nperm: 359 Ni: 3\n",
      "Nperm: 431 Ni: 3\n",
      "Nperm: 517 Ni: 3\n",
      "Nperm: 621 Ni: 3\n",
      "Nperm: 746 Ni: 3\n",
      "Nperm: 895 Ni: 3\n",
      "Nperm: 1075 Ni: 3\n",
      "Nperm: 1290 Ni: 3\n",
      "Nperm: 1549 Ni: 3\n",
      "Nperm: 1860 Ni: 3\n",
      "Nperm: 2232 Ni: 3\n",
      "Nperm: 2680 Ni: 3\n",
      "Nperm: 3217 Ni: 3\n",
      "Nperm: 3862 Ni: 3\n"
     ]
    },
    {
     "ename": "KeyboardInterrupt",
     "evalue": "",
     "output_type": "error",
     "traceback": [
      "\u001b[0;31m---------------------------------------------------------------------------\u001b[0m",
      "\u001b[0;31mKeyboardInterrupt\u001b[0m                         Traceback (most recent call last)",
      "\u001b[0;32m<timed exec>\u001b[0m in \u001b[0;36m<module>\u001b[0;34m()\u001b[0m\n",
      "\u001b[0;32m~/git-repo/shapley-indices/shapley/shapley.py\u001b[0m in \u001b[0;36mbuild_sample\u001b[0;34m(self, model, n_perms, n_var, n_outer, n_inner, n_realization)\u001b[0m\n\u001b[1;32m    216\u001b[0m                     \u001b[0;31m# Sampling of the set conditionally to the complementary\u001b[0m\u001b[0;34m\u001b[0m\u001b[0;34m\u001b[0m\u001b[0m\n\u001b[1;32m    217\u001b[0m                     \u001b[0;31m# element\u001b[0m\u001b[0;34m\u001b[0m\u001b[0;34m\u001b[0m\u001b[0m\n\u001b[0;32m--> 218\u001b[0;31m                     \u001b[0mxj\u001b[0m \u001b[0;34m=\u001b[0m \u001b[0mcond_sampling_new\u001b[0m\u001b[0;34m(\u001b[0m\u001b[0mself\u001b[0m\u001b[0;34m.\u001b[0m\u001b[0minput_distribution\u001b[0m\u001b[0;34m,\u001b[0m \u001b[0mn_inner\u001b[0m\u001b[0;34m,\u001b[0m \u001b[0midx_j\u001b[0m\u001b[0;34m,\u001b[0m \u001b[0midx_j_c\u001b[0m\u001b[0;34m,\u001b[0m \u001b[0mxjc\u001b[0m\u001b[0;34m)\u001b[0m\u001b[0;34m\u001b[0m\u001b[0m\n\u001b[0m\u001b[1;32m    219\u001b[0m                     \u001b[0mxx\u001b[0m \u001b[0;34m=\u001b[0m \u001b[0mnp\u001b[0m\u001b[0;34m.\u001b[0m\u001b[0mc_\u001b[0m\u001b[0;34m[\u001b[0m\u001b[0mxj\u001b[0m\u001b[0;34m,\u001b[0m \u001b[0;34m[\u001b[0m\u001b[0mxjc\u001b[0m\u001b[0;34m]\u001b[0m \u001b[0;34m*\u001b[0m \u001b[0mn_inner\u001b[0m\u001b[0;34m]\u001b[0m\u001b[0;34m\u001b[0m\u001b[0m\n\u001b[1;32m    220\u001b[0m                     \u001b[0mind_inner\u001b[0m \u001b[0;34m=\u001b[0m \u001b[0mi_p\u001b[0m \u001b[0;34m*\u001b[0m \u001b[0;34m(\u001b[0m\u001b[0mdim\u001b[0m \u001b[0;34m-\u001b[0m \u001b[0;36m1\u001b[0m\u001b[0;34m)\u001b[0m \u001b[0;34m*\u001b[0m \u001b[0mn_outer\u001b[0m \u001b[0;34m*\u001b[0m \u001b[0mn_inner\u001b[0m \u001b[0;34m+\u001b[0m \u001b[0mj\u001b[0m \u001b[0;34m*\u001b[0m \u001b[0mn_outer\u001b[0m \u001b[0;34m*\u001b[0m \u001b[0mn_inner\u001b[0m \u001b[0;34m+\u001b[0m \u001b[0ml\u001b[0m \u001b[0;34m*\u001b[0m \u001b[0mn_inner\u001b[0m\u001b[0;34m\u001b[0m\u001b[0m\n",
      "\u001b[0;32m~/git-repo/shapley-indices/shapley/shapley.py\u001b[0m in \u001b[0;36mcond_sampling_new\u001b[0;34m(distribution, n_sample, idx, idx_c, x_cond)\u001b[0m\n\u001b[1;32m     65\u001b[0m \u001b[0;34m\u001b[0m\u001b[0m\n\u001b[1;32m     66\u001b[0m     \u001b[0msigma\u001b[0m \u001b[0;34m=\u001b[0m \u001b[0mnp\u001b[0m\u001b[0;34m.\u001b[0m\u001b[0masarray\u001b[0m\u001b[0;34m(\u001b[0m\u001b[0mdistribution\u001b[0m\u001b[0;34m.\u001b[0m\u001b[0mgetCopula\u001b[0m\u001b[0;34m(\u001b[0m\u001b[0;34m)\u001b[0m\u001b[0;34m.\u001b[0m\u001b[0mgetCorrelation\u001b[0m\u001b[0;34m(\u001b[0m\u001b[0;34m)\u001b[0m\u001b[0;34m)\u001b[0m\u001b[0;34m\u001b[0m\u001b[0m\n\u001b[0;32m---> 67\u001b[0;31m     \u001b[0mcond_mean\u001b[0m\u001b[0;34m,\u001b[0m \u001b[0mcond_var\u001b[0m \u001b[0;34m=\u001b[0m \u001b[0mcondMVN_new\u001b[0m\u001b[0;34m(\u001b[0m\u001b[0msigma\u001b[0m\u001b[0;34m,\u001b[0m \u001b[0midx\u001b[0m\u001b[0;34m,\u001b[0m \u001b[0midx_c\u001b[0m\u001b[0;34m,\u001b[0m \u001b[0mu_cond\u001b[0m\u001b[0;34m)\u001b[0m\u001b[0;34m\u001b[0m\u001b[0m\n\u001b[0m\u001b[1;32m     68\u001b[0m \u001b[0;34m\u001b[0m\u001b[0m\n\u001b[1;32m     69\u001b[0m     \u001b[0mn_dep\u001b[0m \u001b[0;34m=\u001b[0m \u001b[0mlen\u001b[0m\u001b[0;34m(\u001b[0m\u001b[0midx\u001b[0m\u001b[0;34m)\u001b[0m\u001b[0;34m\u001b[0m\u001b[0m\n",
      "\u001b[0;32m~/git-repo/shapley-indices/shapley/shapley.py\u001b[0m in \u001b[0;36mcondMVN_new\u001b[0;34m(cov, dependent_ind, given_ind, X_given)\u001b[0m\n\u001b[1;32m     23\u001b[0m \u001b[0;34m\u001b[0m\u001b[0m\n\u001b[1;32m     24\u001b[0m     \u001b[0mcondMean\u001b[0m \u001b[0;34m=\u001b[0m \u001b[0mnp\u001b[0m\u001b[0;34m.\u001b[0m\u001b[0mdot\u001b[0m\u001b[0;34m(\u001b[0m\u001b[0mCDinv\u001b[0m\u001b[0;34m,\u001b[0m \u001b[0mX_given\u001b[0m\u001b[0;34m)\u001b[0m\u001b[0;34m\u001b[0m\u001b[0m\n\u001b[0;32m---> 25\u001b[0;31m     \u001b[0mcondVar\u001b[0m \u001b[0;34m=\u001b[0m \u001b[0mB\u001b[0m \u001b[0;34m-\u001b[0m \u001b[0mnp\u001b[0m\u001b[0;34m.\u001b[0m\u001b[0mdot\u001b[0m\u001b[0;34m(\u001b[0m\u001b[0mCDinv\u001b[0m\u001b[0;34m,\u001b[0m \u001b[0mC\u001b[0m\u001b[0;34m)\u001b[0m\u001b[0;34m\u001b[0m\u001b[0m\n\u001b[0m\u001b[1;32m     26\u001b[0m     \u001b[0mcondVar\u001b[0m \u001b[0;34m=\u001b[0m \u001b[0mot\u001b[0m\u001b[0;34m.\u001b[0m\u001b[0mCovarianceMatrix\u001b[0m\u001b[0;34m(\u001b[0m\u001b[0mcondVar\u001b[0m\u001b[0;34m)\u001b[0m\u001b[0;34m\u001b[0m\u001b[0m\n\u001b[1;32m     27\u001b[0m \u001b[0;34m\u001b[0m\u001b[0m\n",
      "\u001b[0;31mKeyboardInterrupt\u001b[0m: "
     ]
    }
   ],
   "source": [
    "%%time\n",
    "\n",
    "all_shapley_results = np.zeros((n_n_perms, n_n_inner, n_run, dim, n_boot))\n",
    "all_first_results = np.zeros((n_n_perms, n_n_inner, n_run, dim, n_boot))\n",
    "all_total_results = np.zeros((n_n_perms, n_n_inner, n_run, dim, n_boot))\n",
    "\n",
    "all_shapley_results_SE = np.zeros((n_n_perms, n_n_inner, n_run, dim))\n",
    "all_first_results_SE = np.zeros((n_n_perms, n_n_inner, n_run, dim))\n",
    "all_total_results_SE = np.zeros((n_n_perms, n_n_inner, n_run, dim))\n",
    "\n",
    "for i_outer, n_perms in enumerate(all_n_perms):\n",
    "    for i_inner, n_inner in enumerate(all_n_inner):\n",
    "        print('Nperm:', n_perms, 'Ni:', n_inner)\n",
    "        for i_run in range(n_run):\n",
    "            shapley = ShapleyIndices(model.input_distribution)\n",
    "            shapley.build_sample(model=model, n_perms=int(n_perms), n_var=n_var, n_outer=int(n_outer), n_inner=int(n_inner))\n",
    "            shapley_results = shapley.compute_indices(n_boot=n_boot)\n",
    "            \n",
    "            all_shapley_results[i_outer, i_inner, i_run] = shapley_results.full_shapley_indices\n",
    "            all_first_results[i_outer, i_inner, i_run] = shapley_results.full_first_indices\n",
    "            all_total_results[i_outer, i_inner, i_run] = shapley_results.full_total_indices\n",
    "            \n",
    "            all_shapley_results_SE[i_outer, i_inner, i_run] = shapley_results.shapley_indices_SE\n",
    "            all_first_results_SE[i_outer, i_inner, i_run] = shapley_results.first_indices\n",
    "            all_total_results_SE[i_outer, i_inner, i_run] = shapley_results.total_indices_SE"
   ]
  },
  {
   "cell_type": "code",
   "execution_count": 5,
   "metadata": {
    "scrolled": true
   },
   "outputs": [
    {
     "ename": "NameError",
     "evalue": "name 'all_n_outer' is not defined",
     "output_type": "error",
     "traceback": [
      "\u001b[0;31m---------------------------------------------------------------------------\u001b[0m",
      "\u001b[0;31mNameError\u001b[0m                                 Traceback (most recent call last)",
      "\u001b[0;32m<ipython-input-5-ec7da0f88937>\u001b[0m in \u001b[0;36m<module>\u001b[0;34m()\u001b[0m\n\u001b[1;32m     16\u001b[0m     \u001b[0maxis\u001b[0m \u001b[0;34m=\u001b[0m \u001b[0;36m0\u001b[0m\u001b[0;34m\u001b[0m\u001b[0m\n\u001b[1;32m     17\u001b[0m \u001b[0;32melse\u001b[0m\u001b[0;34m:\u001b[0m\u001b[0;34m\u001b[0m\u001b[0m\n\u001b[0;32m---> 18\u001b[0;31m     \u001b[0mx_ticks\u001b[0m \u001b[0;34m=\u001b[0m \u001b[0mall_n_outer\u001b[0m\u001b[0;34m\u001b[0m\u001b[0m\n\u001b[0m\u001b[1;32m     19\u001b[0m     \u001b[0mx_axes\u001b[0m \u001b[0;34m=\u001b[0m \u001b[0mall_n_inner\u001b[0m\u001b[0;34m\u001b[0m\u001b[0m\n\u001b[1;32m     20\u001b[0m     \u001b[0mname_axes\u001b[0m \u001b[0;34m=\u001b[0m \u001b[0;34m'N_i'\u001b[0m\u001b[0;34m\u001b[0m\u001b[0m\n",
      "\u001b[0;31mNameError\u001b[0m: name 'all_n_outer' is not defined"
     ]
    }
   ],
   "source": [
    "# Coverage probability\n",
    "ci_prob = 0.10\n",
    "error_type = 'absolute'\n",
    "logscale = True\n",
    "name = 'N_o'\n",
    "legend = True\n",
    "\n",
    "do_cover = False\n",
    "if n_boot > 1 or method == 'random':\n",
    "    do_cover = True\n",
    "\n",
    "if name == 'N_i':\n",
    "    x_ticks = all_n_inner\n",
    "    x_axes = all_n_outer\n",
    "    name_axes = 'N_o'\n",
    "    axis = 0\n",
    "else:\n",
    "    x_ticks = all_n_outer\n",
    "    x_axes = all_n_inner\n",
    "    name_axes = 'N_i'\n",
    "    axis = 1\n",
    "\n",
    "n_col = len(x_axes)\n",
    "\n",
    "fig, axes = plt.subplots(1, n_col, figsize=(2.5*n_col+3, 3.5), sharex=True, sharey=True)    \n",
    "axes = [axes] if n_col == 1 else axes\n",
    "\n",
    "for i_ax, (N, ax_err) in enumerate(zip(x_axes, axes)):\n",
    "    \n",
    "    # Take the associated result\n",
    "    results = {\n",
    "        'Shapley': all_shapley_results.take(i_ax, axis=axis),\n",
    "        'First Sobol': all_first_results.take(i_ax, axis=axis),\n",
    "        'Total Sobol': all_total_results.take(i_ax, axis=axis)\n",
    "    }\n",
    "    \n",
    "    results_SE = {\n",
    "        'Shapley': all_shapley_results_SE.take(i_ax, axis=axis),\n",
    "        'First Sobol': all_first_results_SE.take(i_ax, axis=axis),\n",
    "        'Total Sobol': all_total_results_SE.take(i_ax, axis=axis)\n",
    "    }\n",
    "            \n",
    "    # Error plot\n",
    "    plot_error(results, true_results, x_ticks, ax=ax_err, error_type=error_type, logscale=logscale)\n",
    "\n",
    "    # Cover ax\n",
    "    ax_cov = ax_err.twinx()\n",
    "    ax_cov.set_ylim(0., 1.)\n",
    "    \n",
    "    # Cover plot\n",
    "    if do_cover:\n",
    "        plot_cover(results, true_results, x_ticks, results_SE=results_SE, ax=ax_cov, ci_prob=ci_prob)\n",
    "        # Labels\n",
    "        if i_ax < n_col - 1:\n",
    "            plt.setp(ax_cov.get_yticklabels(), visible=False)\n",
    "            ax_cov.set_ylabel('')\n",
    "            ax_cov.set_yticks([])\n",
    "            \n",
    "    # Labels\n",
    "    if i_ax > 0:\n",
    "        plt.setp(ax_err.get_yticklabels(), visible=False)\n",
    "        ax_err.set_ylabel('')\n",
    "        \n",
    "    # Others\n",
    "    ax_err.set_xlabel('$%s$' % (name))\n",
    "    ax_err.grid()\n",
    "    ax_err.set_title('$%s = %d$' % (name_axes, N))\n",
    "    \n",
    "    # Legends\n",
    "    if i_ax == n_col-1:\n",
    "        h_err, l_err = ax_err.get_legend_handles_labels()\n",
    "        h_cov, l_cov = ax_cov.get_legend_handles_labels()\n",
    "        if legend:\n",
    "            ax_err.legend(h_err + h_cov, l_err + l_cov, loc='center left', \n",
    "                          bbox_to_anchor=(1.2, 0.5))\n",
    "\n",
    "fig.tight_layout()\n",
    "if savefigs:\n",
    "    name = './output/additive_gaussian_precision_dim_%d_%s_nboot_%d' % (dim, method, n_boot)\n",
    "    name += '_nNo_%d_nNi_%d_rho_%.2f_Nv_%d_maxNo_%d_nrun_%d_%s.pdf' %\\\n",
    "        (n_n_outer, n_n_inner, corr, n_var, max_n_outer, n_run, error_type)\n",
    "    fig.savefig(name)"
   ]
  },
  {
   "cell_type": "code",
   "execution_count": null,
   "metadata": {
    "collapsed": true
   },
   "outputs": [],
   "source": []
  }
 ],
 "metadata": {
  "kernelspec": {
   "display_name": "Python 3",
   "language": "python",
   "name": "python3"
  },
  "language_info": {
   "codemirror_mode": {
    "name": "ipython",
    "version": 3
   },
   "file_extension": ".py",
   "mimetype": "text/x-python",
   "name": "python",
   "nbconvert_exporter": "python",
   "pygments_lexer": "ipython3",
   "version": "3.6.3"
  }
 },
 "nbformat": 4,
 "nbformat_minor": 2
}
