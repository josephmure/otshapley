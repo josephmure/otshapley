{
 "cells": [
  {
   "cell_type": "code",
   "execution_count": 2,
   "metadata": {
    "collapsed": false
   },
   "outputs": [],
   "source": [
    "import openturns as ot\n",
    "import numpy as np\n",
    "import pandas as pd\n",
    "import seaborn as sns\n",
    "import matplotlib.pyplot as plt\n",
    "\n",
    "from shapley import ShapleyIndices, ShapleyKrigingIndices\n",
    "from shapley.tests import Ishigami, AdditiveGaussian\n",
    "from shapley.plots import set_style_paper, plot_sensitivity_results\n",
    "\n",
    "%load_ext autoreload\n",
    "%autoreload 2\n",
    "\n",
    "%matplotlib inline\n",
    "\n",
    "set_style_paper()\n",
    "\n",
    "savefigs = True\n",
    "ylim = [-0.05, 1.05]"
   ]
  },
  {
   "cell_type": "markdown",
   "metadata": {},
   "source": [
    "## The model"
   ]
  },
  {
   "cell_type": "code",
   "execution_count": 3,
   "metadata": {
    "collapsed": false
   },
   "outputs": [],
   "source": [
    "dim = 2\n",
    "beta = None\n",
    "model = AdditiveGaussian(dim=dim, beta=beta)\n",
    "theta = [0.3]\n",
    "model.copula_parameters = theta\n",
    "model.shapley_indices = [1./dim]*dim\n",
    "if dim == 2 and beta is None:\n",
    "    output_var = dim*( 1 + sum(theta))\n",
    "    model.first_order_sobol_indices = [(1 + 2*theta[0] + theta[0]**2)/output_var]*dim\n",
    "    model.total_sobol_indices = [(1.- theta[0]**2)/output_var]*dim"
   ]
  },
  {
   "cell_type": "markdown",
   "metadata": {},
   "source": [
    "## Sobol indices with a classical Monte-Carlo sampling"
   ]
  },
  {
   "cell_type": "code",
   "execution_count": 9,
   "metadata": {
    "collapsed": false
   },
   "outputs": [],
   "source": [
    "ot.RandomGenerator.SetSeed(0)\n",
    "np.random.seed(0)\n",
    "Nv = 5\n",
    "No = 2\n",
    "Ni = 3\n",
    "\n",
    "# Evaluate the model\n",
    "shapley = ShapleyIndices(model.input_distribution)\n",
    "shapley.build_mc_sample(model=model, n_perms=None, Nv=Nv, No=No, Ni=Ni)"
   ]
  },
  {
   "cell_type": "code",
   "execution_count": 10,
   "metadata": {
    "collapsed": false
   },
   "outputs": [
    {
     "name": "stdout",
     "output_type": "stream",
     "text": [
      "0.633916823299\n",
      "2.51080217739\n",
      "0.638410219657\n",
      "1.77237181491\n",
      "2.7115458633\n",
      "1.2433524493\n",
      "0.198960401549\n",
      "3.15446364757\n",
      "0.162342791045\n",
      "0.385827402985\n"
     ]
    }
   ],
   "source": [
    "n_boot_var = 3\n",
    "shapley_results = shapley.compute_indices(n_boot = 10)"
   ]
  },
  {
   "cell_type": "code",
   "execution_count": null,
   "metadata": {
    "collapsed": true
   },
   "outputs": [],
   "source": [
    "shapley_results.true_first_indices = model.first_order_sobol_indices\n",
    "shapley_results.true_total_indices = model.total_sobol_indices\n",
    "shapley_results.true_shapley_indices = model.shapley_indices"
   ]
  },
  {
   "cell_type": "code",
   "execution_count": null,
   "metadata": {
    "collapsed": false
   },
   "outputs": [],
   "source": [
    "fig, ax = plt.subplots(figsize=(8, 4))\n",
    "plot_sensitivity_results(shapley_results, indice='all', ax=ax)\n",
    "ax.set_title(\"Additive Gaussian $\\\\rho = {0}$ - Indices - $Nv={1}$, $No={2}$, $Ni={3}$\".format(theta, Nv, No, Ni))\n",
    "ax.set_ylim(ylim)\n",
    "fig.tight_layout()\n",
    "if savefigs:\n",
    "    fig.savefig('./output/shapley_additive_gaussian.pdf')"
   ]
  },
  {
   "cell_type": "markdown",
   "metadata": {},
   "source": [
    "## Krigin Model"
   ]
  },
  {
   "cell_type": "code",
   "execution_count": null,
   "metadata": {
    "collapsed": true
   },
   "outputs": [],
   "source": [
    "ot.RandomGenerator.SetSeed(0)\n",
    "np.random.seed(0)\n",
    "model_budget = 10\n",
    "basis = 'quadratic'\n",
    "kernel = 'matern'\n",
    "library = 'sklearn'\n",
    "sampling = 'monte-carlo'\n",
    "shapley_kriging = ShapleyKrigingIndices(model.input_distribution)\n",
    "meta_model = shapley_kriging.build_meta_model(model, n_sample=model_budget, basis_type=basis, kernel=kernel, library=library,\n",
    "                                             sampling=sampling)"
   ]
  },
  {
   "cell_type": "code",
   "execution_count": null,
   "metadata": {
    "collapsed": true
   },
   "outputs": [],
   "source": [
    "%%time\n",
    "ot.RandomGenerator.SetSeed(0)\n",
    "np.random.seed(0)\n",
    "Nv = 500\n",
    "No = 50\n",
    "Ni = 25\n",
    "n_realization = 50\n",
    "\n",
    "# Evaluate the kriging model\n",
    "shapley_kriging.build_mc_sample(model=meta_model, n_perms=None, Nv=Nv, No=No, Ni=Ni, n_realization=n_realization)"
   ]
  },
  {
   "cell_type": "code",
   "execution_count": null,
   "metadata": {
    "collapsed": true
   },
   "outputs": [],
   "source": [
    "n_boot_var = 30\n",
    "n_boot_No = 30\n",
    "n_boot_Ni = 30\n",
    "shapley_kriging_results = shapley_kriging.compute_indices(n_boot_var=n_boot_var, \n",
    "                                         n_boot_No=n_boot_No,\n",
    "                                         n_boot_Ni=n_boot_Ni)"
   ]
  },
  {
   "cell_type": "code",
   "execution_count": null,
   "metadata": {
    "collapsed": true
   },
   "outputs": [],
   "source": [
    "shapley_kriging_results.true_first_indices = model.first_order_sobol_indices\n",
    "shapley_kriging_results.true_total_indices = model.total_sobol_indices\n",
    "shapley_kriging_results.true_shapley_indices = model.shapley_indices"
   ]
  },
  {
   "cell_type": "code",
   "execution_count": null,
   "metadata": {
    "collapsed": false
   },
   "outputs": [],
   "source": [
    "fig, ax = plt.subplots(figsize=(8, 4))\n",
    "plot_sensitivity_results(shapley_kriging_results, indice='all', ax=ax)\n",
    "ax.set_title(\"Additive Gaussian $\\\\rho = {0}$ - Kriging Indices - $Nv={1}$, $No={2}$, $Ni={3}$\".format(theta, Nv, No, Ni))\n",
    "ax.set_ylim(ylim)\n",
    "fig.tight_layout()\n",
    "if savefigs:\n",
    "    fig.savefig('./output/shapleyGP_additive_gaussian.pdf')"
   ]
  }
 ],
 "metadata": {
  "kernelspec": {
   "display_name": "Python 2",
   "language": "python",
   "name": "python2"
  },
  "language_info": {
   "codemirror_mode": {
    "name": "ipython",
    "version": 2
   },
   "file_extension": ".py",
   "mimetype": "text/x-python",
   "name": "python",
   "nbconvert_exporter": "python",
   "pygments_lexer": "ipython2",
   "version": "2.7.13"
  }
 },
 "nbformat": 4,
 "nbformat_minor": 1
}
