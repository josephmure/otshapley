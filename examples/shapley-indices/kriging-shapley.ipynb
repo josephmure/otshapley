{
 "cells": [
  {
   "cell_type": "code",
   "execution_count": 127,
   "metadata": {},
   "outputs": [
    {
     "name": "stdout",
     "output_type": "stream",
     "text": [
      "The autoreload extension is already loaded. To reload it, use:\n",
      "  %reload_ext autoreload\n"
     ]
    }
   ],
   "source": [
    "import openturns as ot\n",
    "import numpy as np\n",
    "import pandas as pd\n",
    "import seaborn as sns\n",
    "import matplotlib.pyplot as plt\n",
    "\n",
    "from shapley import ShapleyIndices, ShapleyKrigingIndices\n",
    "from shapley.tests import Ishigami, AdditiveGaussian\n",
    "from shapley.plots import set_style_paper, plot_sensitivity_results\n",
    "\n",
    "%load_ext autoreload\n",
    "%autoreload 2\n",
    "\n",
    "%matplotlib inline\n",
    "\n",
    "set_style_paper()\n",
    "\n",
    "savefigs = False\n",
    "ylim = [-0.1, 0.7]"
   ]
  },
  {
   "cell_type": "markdown",
   "metadata": {},
   "source": [
    "## The model"
   ]
  },
  {
   "cell_type": "code",
   "execution_count": 128,
   "metadata": {},
   "outputs": [],
   "source": [
    "dim = 2\n",
    "beta = None\n",
    "model = AdditiveGaussian(dim=dim, beta=beta)\n",
    "\n",
    "model.copula_parameters = [0.0]"
   ]
  },
  {
   "cell_type": "markdown",
   "metadata": {},
   "source": [
    "## Sobol indices with a classical Monte-Carlo sampling"
   ]
  },
  {
   "cell_type": "code",
   "execution_count": 382,
   "metadata": {},
   "outputs": [],
   "source": [
    "ot.RandomGenerator.SetSeed(0)\n",
    "np.random.seed(0)\n",
    "Nv = 1000\n",
    "No = 1000\n",
    "Ni = 3\n",
    "\n",
    "# Evaluate the model\n",
    "shapley = ShapleyIndices(model.input_distribution)\n",
    "shapley.build_mc_sample(model=model, n_perms=None, Nv=Nv, No=No, Ni=Ni)"
   ]
  },
  {
   "cell_type": "code",
   "execution_count": null,
   "metadata": {},
   "outputs": [
    {
     "name": "stdout",
     "output_type": "stream",
     "text": [
      "() (2, 2, 1)\n",
      "[[ 0.52423928  0.47576072]]\n",
      "[[ 0.50079167  0.45231311]]\n",
      "[[ 0.54768689  0.49920833]]\n"
     ]
    }
   ],
   "source": [
    "n_boot = 1\n",
    "Sh, Vsob, Tsob = shapley.compute_indices(n_boot=n_boot)\n",
    "print(Sh.T)\n",
    "print(Vsob.T)\n",
    "print(Tsob.T)"
   ]
  },
  {
   "cell_type": "code",
   "execution_count": 385,
   "metadata": {},
   "outputs": [
    {
     "data": {
      "text/plain": [
       "(1000,)"
      ]
     },
     "execution_count": 385,
     "metadata": {},
     "output_type": "execute_result"
    }
   ],
   "source": [
    "shapley.output_sample_1[]"
   ]
  },
  {
   "cell_type": "code",
   "execution_count": 381,
   "metadata": {},
   "outputs": [
    {
     "data": {
      "text/plain": [
       "array([[ 2.04211031],\n",
       "       [ 3.90126974]])"
      ]
     },
     "execution_count": 381,
     "metadata": {},
     "output_type": "execute_result"
    }
   ],
   "source": [
    "shapley.c_hat.sum(axis=0)"
   ]
  },
  {
   "cell_type": "markdown",
   "metadata": {},
   "source": [
    "## Krigin Model"
   ]
  },
  {
   "cell_type": "code",
   "execution_count": 356,
   "metadata": {},
   "outputs": [],
   "source": [
    "ot.RandomGenerator.SetSeed(0)\n",
    "np.random.seed(0)\n",
    "model_budget = 50\n",
    "basis = 'quadratic'\n",
    "kernel = 'matern'\n",
    "library = 'sklearn'\n",
    "sampling = 'monte-carlo'\n",
    "shapley_kriging = ShapleyKrigingIndices(model.input_distribution)\n",
    "meta_model = shapley_kriging.build_meta_model(model, n_sample=model_budget, basis_type=basis, kernel=kernel, library=library,\n",
    "                                             sampling=sampling)"
   ]
  },
  {
   "cell_type": "code",
   "execution_count": 344,
   "metadata": {},
   "outputs": [
    {
     "name": "stdout",
     "output_type": "stream",
     "text": [
      "Wall time: 2.04 s\n"
     ]
    }
   ],
   "source": [
    "%%time\n",
    "ot.RandomGenerator.SetSeed(0)\n",
    "np.random.seed(0)\n",
    "Nv = 1000\n",
    "No = 100\n",
    "Ni = 3\n",
    "n_realization = 5\n",
    "\n",
    "# Evaluate the kriging model\n",
    "shapley_kriging.build_mc_sample(model=meta_model, n_perms=None, Nv=Nv, No=No, Ni=Ni, n_realization=n_realization)"
   ]
  },
  {
   "cell_type": "code",
   "execution_count": 349,
   "metadata": {},
   "outputs": [
    {
     "data": {
      "text/plain": [
       "array([ 0.50390235,  0.49609765])"
      ]
     },
     "execution_count": 349,
     "metadata": {},
     "output_type": "execute_result"
    }
   ],
   "source": [
    "n_boot = 10\n",
    "Sh, Vsob, Tsob = shapley_kriging.compute_indices(n_boot=n_boot)\n",
    "Sh.mean(axis=1)"
   ]
  },
  {
   "cell_type": "code",
   "execution_count": 350,
   "metadata": {},
   "outputs": [
    {
     "data": {
      "text/plain": [
       "1.0"
      ]
     },
     "execution_count": 350,
     "metadata": {},
     "output_type": "execute_result"
    }
   ],
   "source": [
    "n_perms/dim"
   ]
  },
  {
   "cell_type": "code",
   "execution_count": 351,
   "metadata": {},
   "outputs": [
    {
     "data": {
      "text/plain": [
       "(0.45, 0.55)"
      ]
     },
     "execution_count": 351,
     "metadata": {},
     "output_type": "execute_result"
    },
    {
     "data": {
      "image/png": "[encoded data removed]",
      "text/plain": [
       "<matplotlib.figure.Figure at 0x28d52506668>"
      ]
     },
     "metadata": {},
     "output_type": "display_data"
    }
   ],
   "source": [
    "fig, ax = plt.subplots(figsize=(7, 4))\n",
    "\n",
    "ax.violinplot(Sh.T);\n",
    "ax.set_ylim([0.45, 0.55])"
   ]
  },
  {
   "cell_type": "code",
   "execution_count": 331,
   "metadata": {},
   "outputs": [
    {
     "data": {
      "text/plain": [
       "(array([[ 0.,  0.,  0.,  0.,  0.],\n",
       "        [ 0.,  0.,  0.,  0.,  0.]]), array([[0, 1],\n",
       "        [1, 0]]))"
      ]
     },
     "execution_count": 331,
     "metadata": {},
     "output_type": "execute_result"
    }
   ],
   "source": [
    "Tsob = np.zeros((dim, n_realization))\n",
    "perms = np.asarray(shapley_kriging.perms)\n",
    "Tsob, perms"
   ]
  },
  {
   "cell_type": "code",
   "execution_count": 335,
   "metadata": {},
   "outputs": [
    {
     "data": {
      "text/plain": [
       "(2, 5)"
      ]
     },
     "execution_count": 335,
     "metadata": {},
     "output_type": "execute_result"
    }
   ],
   "source": [
    "Tsob[perms[:, 0]].shape"
   ]
  },
  {
   "cell_type": "code",
   "execution_count": null,
   "metadata": {
    "collapsed": true
   },
   "outputs": [],
   "source": []
  },
  {
   "cell_type": "code",
   "execution_count": null,
   "metadata": {
    "collapsed": true
   },
   "outputs": [],
   "source": []
  },
  {
   "cell_type": "code",
   "execution_count": 232,
   "metadata": {},
   "outputs": [
    {
     "data": {
      "text/plain": [
       "array([ 1.91992686,  1.88439586,  1.86396547,  1.87574067,  1.868066  ])"
      ]
     },
     "execution_count": 232,
     "metadata": {},
     "output_type": "execute_result"
    }
   ],
   "source": [
    "var_y = shapley_kriging.var_y\n",
    "var_y"
   ]
  },
  {
   "cell_type": "code",
   "execution_count": 233,
   "metadata": {},
   "outputs": [
    {
     "data": {
      "text/plain": [
       "array([[[ 0.90949155,  0.89539479,  0.88119202,  0.8813514 ,  0.88000847]],\n",
       "\n",
       "       [[ 0.89397956,  0.87226924,  0.85731849,  0.87354973,  0.87682394]]])"
      ]
     },
     "execution_count": 233,
     "metadata": {},
     "output_type": "execute_result"
    }
   ],
   "source": [
    "c_mean_var = shapley_kriging.c_mean_var\n",
    "c_mean_var"
   ]
  },
  {
   "cell_type": "code",
   "execution_count": 239,
   "metadata": {},
   "outputs": [
    {
     "data": {
      "text/plain": [
       "((2, 1, 5), (5,))"
      ]
     },
     "execution_count": 239,
     "metadata": {},
     "output_type": "execute_result"
    }
   ],
   "source": [
    "c_mean_var.shape, var_y.shape"
   ]
  },
  {
   "cell_type": "code",
   "execution_count": 245,
   "metadata": {},
   "outputs": [
    {
     "data": {
      "text/plain": [
       "(5, 2)"
      ]
     },
     "execution_count": 245,
     "metadata": {},
     "output_type": "execute_result"
    }
   ],
   "source": [
    "np.asarray([var_y]*n_perms).shape"
   ]
  },
  {
   "cell_type": "code",
   "execution_count": 262,
   "metadata": {},
   "outputs": [
    {
     "data": {
      "text/plain": [
       "(5,)"
      ]
     },
     "execution_count": 262,
     "metadata": {},
     "output_type": "execute_result"
    }
   ],
   "source": [
    "var_y.shape"
   ]
  },
  {
   "cell_type": "code",
   "execution_count": 261,
   "metadata": {},
   "outputs": [
    {
     "data": {
      "text/plain": [
       "(1, 5)"
      ]
     },
     "execution_count": 261,
     "metadata": {},
     "output_type": "execute_result"
    }
   ],
   "source": [
    "c_mean_var[i].shape"
   ]
  },
  {
   "cell_type": "code",
   "execution_count": 276,
   "metadata": {},
   "outputs": [
    {
     "data": {
      "text/plain": [
       "array([[[ 0.90949155,  0.89539479,  0.88119202,  0.8813514 ,  0.88000847],\n",
       "        [ 1.91992686,  1.88439586,  1.86396547,  1.87574067,  1.868066  ]],\n",
       "\n",
       "       [[ 0.89397956,  0.87226924,  0.85731849,  0.87354973,  0.87682394],\n",
       "        [ 1.91992686,  1.88439586,  1.86396547,  1.87574067,  1.868066  ]]])"
      ]
     },
     "execution_count": 276,
     "metadata": {},
     "output_type": "execute_result"
    }
   ],
   "source": [
    "c_hat = np.zeros((n_perms, dim, n_realization))\n",
    "for i in range(n_perms):\n",
    "    c_hat[i] = np.concatenate((c_mean_var[i], var_y.reshape(1, -1)))\n",
    "c_hat"
   ]
  },
  {
   "cell_type": "code",
   "execution_count": 278,
   "metadata": {},
   "outputs": [
    {
     "data": {
      "text/plain": [
       "array([[[ 0.90949155,  0.89539479,  0.88119202,  0.8813514 ,  0.88000847],\n",
       "        [ 1.91992686,  1.88439586,  1.86396547,  1.87574067,  1.868066  ]],\n",
       "\n",
       "       [[ 0.89397956,  0.87226924,  0.85731849,  0.87354973,  0.87682394],\n",
       "        [ 1.91992686,  1.88439586,  1.86396547,  1.87574067,  1.868066  ]]])"
      ]
     },
     "execution_count": 278,
     "metadata": {},
     "output_type": "execute_result"
    }
   ],
   "source": [
    "np.concatenate((c_mean_var, [var_y.reshape(1, -1)]*n_perms), axis=1)"
   ]
  },
  {
   "cell_type": "code",
   "execution_count": null,
   "metadata": {
    "collapsed": true
   },
   "outputs": [],
   "source": []
  },
  {
   "cell_type": "code",
   "execution_count": null,
   "metadata": {
    "collapsed": true
   },
   "outputs": [],
   "source": []
  },
  {
   "cell_type": "code",
   "execution_count": null,
   "metadata": {
    "collapsed": true
   },
   "outputs": [],
   "source": []
  },
  {
   "cell_type": "code",
   "execution_count": null,
   "metadata": {
    "collapsed": true
   },
   "outputs": [],
   "source": []
  },
  {
   "cell_type": "code",
   "execution_count": null,
   "metadata": {
    "collapsed": true
   },
   "outputs": [],
   "source": []
  },
  {
   "cell_type": "code",
   "execution_count": null,
   "metadata": {
    "collapsed": true
   },
   "outputs": [],
   "source": []
  },
  {
   "cell_type": "code",
   "execution_count": null,
   "metadata": {
    "collapsed": true
   },
   "outputs": [],
   "source": []
  },
  {
   "cell_type": "code",
   "execution_count": null,
   "metadata": {
    "collapsed": true
   },
   "outputs": [],
   "source": []
  },
  {
   "cell_type": "code",
   "execution_count": null,
   "metadata": {
    "collapsed": true
   },
   "outputs": [],
   "source": []
  },
  {
   "cell_type": "code",
   "execution_count": null,
   "metadata": {
    "collapsed": true
   },
   "outputs": [],
   "source": []
  },
  {
   "cell_type": "markdown",
   "metadata": {},
   "source": [
    "### Calcul of conditional mean and variance"
   ]
  },
  {
   "cell_type": "code",
   "execution_count": 21,
   "metadata": {
    "collapsed": true
   },
   "outputs": [],
   "source": [
    "def condMVN(mean, cov, dependent_ind, given_ind, X_given):\n",
    "    \"\"\" Returns conditional mean and variance of X[dependent.ind] | X[given.ind] = X.given\n",
    "    where X is multivariateNormal(mean = mean, covariance = cov)\"\"\"\n",
    "    \n",
    "    cov = np.array(cov)\n",
    "    \n",
    "    B = cov.take(dependent_ind, axis = 1)\n",
    "    B = B[dependent_ind]\n",
    "    \n",
    "    C = cov.take(dependent_ind, axis = 1)\n",
    "    C = C[given_ind]\n",
    "    \n",
    "    D = cov.take(given_ind, axis = 1)\n",
    "    D = D[given_ind]\n",
    "    \n",
    "    CDinv = np.dot(np.transpose(C), np.linalg.inv(D))\n",
    "    \n",
    "    condMean = mean[dependent_ind] + np.dot(CDinv,(X_given - mean[given_ind]))\n",
    "    condVar = B - np.dot(CDinv,C)\n",
    "    condVar = ot.CovarianceMatrix(condVar)\n",
    "    \n",
    "    return condMean,condVar"
   ]
  },
  {
   "cell_type": "markdown",
   "metadata": {},
   "source": [
    "### Generate conditional law"
   ]
  },
  {
   "cell_type": "code",
   "execution_count": 22,
   "metadata": {
    "collapsed": true
   },
   "outputs": [],
   "source": [
    "def r_condMVN(n, mean, cov, dependent_ind, given_ind, X_given):\n",
    "    \"\"\" Function to simulate conditional gaussian distribution of X[dependent.ind] | X[given.ind] = X.given\n",
    "    where X is multivariateNormal(mean = mean, covariance = cov)\"\"\"\n",
    "    \n",
    "    cond_mean,cond_var = condMVN(mean, cov, dependent_ind, given_ind, X_given)\n",
    "    distribution = ot.Normal(cond_mean,cond_var)\n",
    "    return distribution.getSample(n)"
   ]
  },
  {
   "cell_type": "markdown",
   "metadata": {},
   "source": [
    "## Evaluation Shapley effects on linear gaussian model"
   ]
  },
  {
   "cell_type": "markdown",
   "metadata": {},
   "source": [
    "### Ni = 3"
   ]
  },
  {
   "cell_type": "code",
   "execution_count": 23,
   "metadata": {
    "collapsed": true
   },
   "outputs": [],
   "source": [
    "from shapley.shapley import shapley_indices"
   ]
  },
  {
   "cell_type": "code",
   "execution_count": 31,
   "metadata": {
    "collapsed": true
   },
   "outputs": [],
   "source": [
    "def gaussian_model(X):\n",
    "    return np.sum(X,1)\n",
    "\n",
    "d = 2\n",
    "moyenne = np.zeros(d)\n",
    "cov = np.identity(d)\n",
    "cov = ot.CovarianceMatrix(cov)\n",
    "\n",
    "def Xall(n):\n",
    "    distribution = ot.Normal(moyenne,cov)\n",
    "    return distribution.getSample(n)\n",
    "\n",
    "def Xcond(n, Sj, Sjc, xjc):\n",
    "    if Sjc is None:\n",
    "        cov_int = np.array(cov)\n",
    "        cov_int = cov_int.take(Sj, axis = 1)\n",
    "        cov_int = cov_int[Sj, :]        \n",
    "        cov_int = ot.CovarianceMatrix(cov_int)\n",
    "        distribution = ot.Normal(moyenne[Sj],cov_int)\n",
    "        return distribution.getSample(n)\n",
    "    else:\n",
    "        return r_condMVN(n,mean = moyenne, cov = cov, dependent_ind = Sj, given_ind = Sjc, X_given = xjc)"
   ]
  },
  {
   "cell_type": "code",
   "execution_count": 76,
   "metadata": {
    "scrolled": false
   },
   "outputs": [
    {
     "name": "stdout",
     "output_type": "stream",
     "text": [
      "Exact method \n",
      "                         S1        S2\n",
      "Shapley effects    0.495758  0.504242\n",
      "First order Sobol  0.479324  0.487808\n",
      "Total Sobol        0.512192  0.520676\n",
      "\n",
      "\n"
     ]
    }
   ],
   "source": [
    "ot.RandomGenerator.SetSeed(0)\n",
    "np.random.seed(0)\n",
    "# Exact method\n",
    "method = 'exact'\n",
    "m = None\n",
    "Nv = 10000\n",
    "No = 1000\n",
    "Ni = 3\n",
    "\n",
    "index = shapley_indices(method, m, gaussian_model, model.input_distribution, d, Nv, No, Ni)\n",
    "print('Exact method \\n' + str(index) + '\\n\\n')"
   ]
  },
  {
   "cell_type": "code",
   "execution_count": 64,
   "metadata": {},
   "outputs": [
    {
     "data": {
      "image/png": "[encoded data removed]",
      "text/plain": [
       "<matplotlib.figure.Figure at 0x262dfe33080>"
      ]
     },
     "metadata": {},
     "output_type": "display_data"
    }
   ],
   "source": [
    "fig, ax = plt.subplots(figsize=(8, 4))\n",
    "index.T.plot(kind='bar', ax=ax)\n",
    "ax.set_ylabel('Indice values')\n",
    "ax.set_title(\"Additive Gaussian - Shapley effects with exact method - $Nv=%d$, $No=%d$, $Ni=%d$\" % (Nv, No, Ni))\n",
    "\n",
    "fig.tight_layout()\n",
    "if savefigs:\n",
    "    fig.savefig('./output/gaussian_shapley_exact.pdf')"
   ]
  },
  {
   "cell_type": "code",
   "execution_count": null,
   "metadata": {
    "collapsed": true
   },
   "outputs": [],
   "source": [
    "# Random method\n",
    "method = 'random'\n",
    "m = 6000\n",
    "Nv = 10**4\n",
    "No = 1\n",
    "Ni = 3\n",
    "\n",
    "index = shapley_indices(method,m,gaussian_model, Xall, Xcond, d, Nv, No, Ni)\n",
    "print('Random method \\n' + str(index) + '\\n')"
   ]
  },
  {
   "cell_type": "markdown",
   "metadata": {},
   "source": [
    "### Ni = 100"
   ]
  },
  {
   "cell_type": "code",
   "execution_count": 36,
   "metadata": {},
   "outputs": [
    {
     "name": "stdout",
     "output_type": "stream",
     "text": [
      "Exact method \n",
      "                         X1        X2        X3\n",
      "Shapley effects    0.111180  0.416338  0.472482\n",
      "First order Sobol  0.130968  0.821245  0.879474\n",
      "Total Sobol        0.100965  0.019239  0.076484\n",
      "\n",
      "\n",
      "Random method \n",
      "                         X1        X2        X3\n",
      "Shapley effects    0.101384  0.411461  0.487155\n",
      "First order Sobol  0.091213  0.813746  0.873265\n",
      "Total Sobol        0.106143  0.020037  0.080028\n",
      "\n"
     ]
    }
   ],
   "source": [
    "def gaussian_model(X):\n",
    "    return np.sum(X,1)\n",
    "\n",
    "d = 3\n",
    "moyenne = np.zeros(3)\n",
    "cov = np.array([[1.0, 0, 0], [0, 1.0, 1.8], [0, 1.8, 4.0]])\n",
    "cov = ot.CovarianceMatrix(cov)\n",
    "\n",
    "def Xall(n):\n",
    "    distribution = ot.Normal(moyenne,cov)\n",
    "    return distribution.getSample(n)\n",
    "\n",
    "def Xcond(n, Sj, Sjc, xjc):\n",
    "    if Sjc is None:\n",
    "        cov_int = np.array(cov)\n",
    "        cov_int = cov_int.take(Sj, axis = 1)\n",
    "        cov_int = cov_int[Sj]        \n",
    "        cov_int = ot.CovarianceMatrix(cov_int)\n",
    "        distribution = ot.Normal(moyenne[Sj],cov_int)\n",
    "        return distribution.getSample(n)\n",
    "    else:\n",
    "        return r_condMVN(n,mean = moyenne, cov = cov, dependent_ind = Sj, given_ind = Sjc, X_given = xjc)\n",
    "\n",
    "# Exact method\n",
    "method = 'exact'\n",
    "m = None\n",
    "Nv = 10**4\n",
    "No = 10**3\n",
    "Ni = 100\n",
    "\n",
    "index = shapley_indices(method,m,gaussian_model, Xall, Xcond, d, Nv, No, Ni)\n",
    "print('Exact method \\n' + str(index) + '\\n\\n')\n",
    "\n",
    "# Random method\n",
    "method = 'random'\n",
    "m = 6000\n",
    "Nv = 10**4\n",
    "No = 1\n",
    "Ni = 100\n",
    "\n",
    "index = shapley_indices(method,m,gaussian_model, Xall, Xcond, d, Nv, No, Ni)\n",
    "print('Random method \\n' + str(index) + '\\n')"
   ]
  }
 ],
 "metadata": {
  "kernelspec": {
   "display_name": "Python 3",
   "language": "python",
   "name": "python3"
  },
  "language_info": {
   "codemirror_mode": {
    "name": "ipython",
    "version": 3
   },
   "file_extension": ".py",
   "mimetype": "text/x-python",
   "name": "python",
   "nbconvert_exporter": "python",
   "pygments_lexer": "ipython3",
   "version": "3.6.2"
  }
 },
 "nbformat": 4,
 "nbformat_minor": 1
}
