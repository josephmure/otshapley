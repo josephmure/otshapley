{
 "cells": [
  {
   "cell_type": "markdown",
   "metadata": {},
   "source": [
    "# Proper code"
   ]
  },
  {
   "cell_type": "markdown",
   "metadata": {},
   "source": [
    "## Shapley function"
   ]
  },
  {
   "cell_type": "code",
   "execution_count": 1,
   "metadata": {
    "collapsed": false
   },
   "outputs": [],
   "source": [
    "import openturns as ot\n",
    "import numpy as np\n",
    "import matplotlib.pyplot as plt\n",
    "import pandas as pd\n",
    "from itertools import permutations\n",
    "from shapley.shapley import shapley_indices\n",
    "from shapley.plots import set_style_paper, plot_violin\n",
    "\n",
    "%matplotlib inline\n",
    "\n",
    "%load_ext autoreload\n",
    "%autoreload 2\n",
    "\n",
    "set_style_paper()\n",
    "\n",
    "savefigs = True"
   ]
  },
  {
   "cell_type": "markdown",
   "metadata": {},
   "source": [
    "## Function for conditional gaussian vector"
   ]
  },
  {
   "cell_type": "markdown",
   "metadata": {},
   "source": [
    "### Calcul of conditional mean and variance"
   ]
  },
  {
   "cell_type": "code",
   "execution_count": 2,
   "metadata": {
    "collapsed": true
   },
   "outputs": [],
   "source": [
    "def condMVN(mean, cov, dependent_ind, given_ind, X_given):\n",
    "    \"\"\" Returns conditional mean and variance of X[dependent.ind] | X[given.ind] = X.given\n",
    "    where X is multivariateNormal(mean = mean, covariance = cov)\"\"\"\n",
    "    \n",
    "    cov = np.array(cov)\n",
    "    \n",
    "    B = cov.take(dependent_ind, axis = 1)\n",
    "    B = B[dependent_ind]\n",
    "    \n",
    "    C = cov.take(dependent_ind, axis = 1)\n",
    "    C = C[given_ind]\n",
    "    \n",
    "    D = cov.take(given_ind, axis = 1)\n",
    "    D = D[given_ind]\n",
    "    \n",
    "    CDinv = np.dot(np.transpose(C),np.linalg.inv(D))\n",
    "    \n",
    "    condMean = mean[dependent_ind] + np.dot(CDinv,(X_given - mean[given_ind]))\n",
    "    condVar = B - np.dot(CDinv,C)\n",
    "    condVar = ot.CovarianceMatrix(condVar)\n",
    "    \n",
    "    return condMean,condVar"
   ]
  },
  {
   "cell_type": "markdown",
   "metadata": {},
   "source": [
    "### Generate conditional law"
   ]
  },
  {
   "cell_type": "code",
   "execution_count": 3,
   "metadata": {
    "collapsed": true
   },
   "outputs": [],
   "source": [
    "def r_condMVN(n, mean, cov, dependent_ind, given_ind, X_given):\n",
    "    \"\"\" Function to simulate conditional gaussian distribution of X[dependent.ind] | X[given.ind] = X.given\n",
    "    where X is multivariateNormal(mean = mean, covariance = cov)\"\"\"\n",
    "    \n",
    "    cond_mean,cond_var = condMVN(mean, cov, dependent_ind, given_ind, X_given)\n",
    "    distribution = ot.Normal(cond_mean,cond_var)\n",
    "    return distribution.getSample(n)"
   ]
  },
  {
   "cell_type": "markdown",
   "metadata": {},
   "source": [
    "## Evaluation Shapley effects on linear gaussian model"
   ]
  },
  {
   "cell_type": "markdown",
   "metadata": {},
   "source": [
    "### Ni = 3"
   ]
  },
  {
   "cell_type": "code",
   "execution_count": 4,
   "metadata": {
    "collapsed": true
   },
   "outputs": [],
   "source": [
    "def gaussian_model(X):\n",
    "    return np.sum(X,1)\n",
    "\n",
    "d = 3\n",
    "moyenne = np.zeros(3)\n",
    "cov = np.array([[1.0, 0, 0], [0, 1.0, 1.8], [0, 1.8, 4.0]])\n",
    "cov = ot.CovarianceMatrix(cov)\n",
    "\n",
    "def Xall(n):\n",
    "    distribution = ot.Normal(moyenne,cov)\n",
    "    return distribution.getSample(n)\n",
    "\n",
    "def Xcond(n, Sj, Sjc, xjc):\n",
    "    if Sjc is None:\n",
    "        cov_int = np.array(cov)\n",
    "        cov_int = cov_int.take(Sj, axis = 1)\n",
    "        cov_int = cov_int[Sj, :]        \n",
    "        cov_int = ot.CovarianceMatrix(cov_int)\n",
    "        distribution = ot.Normal(moyenne[Sj],cov_int)\n",
    "        return distribution.getSample(n)\n",
    "    else:\n",
    "        return r_condMVN(n,mean = moyenne, cov = cov, dependent_ind = Sj, given_ind = Sjc, X_given = xjc)"
   ]
  },
  {
   "cell_type": "code",
   "execution_count": 5,
   "metadata": {
    "collapsed": false,
    "scrolled": false
   },
   "outputs": [
    {
     "name": "stdout",
     "output_type": "stream",
     "text": [
      "Exact method \n",
      "                         S1        S2        S3\n",
      "Shapley effects    0.103209  0.423642  0.473149\n",
      "First order Sobol  0.099529  0.811843  0.870678\n",
      "Total Sobol        0.102771  0.020522  0.079368\n",
      "\n",
      "\n"
     ]
    }
   ],
   "source": [
    "# Exact method\n",
    "method = 'exact'\n",
    "m = None\n",
    "Nv = 10**4\n",
    "No = 10**3\n",
    "Ni = 3\n",
    "\n",
    "index = shapley_indices(method,m,gaussian_model, Xall, Xcond, d, Nv, No, Ni)\n",
    "print('Exact method \\n' + str(index) + '\\n\\n')"
   ]
  },
  {
   "cell_type": "code",
   "execution_count": null,
   "metadata": {
    "collapsed": false
   },
   "outputs": [],
   "source": [
    "fig, ax = plt.subplots(figsize=(8, 4))\n",
    "index.T.plot(kind='bar', ax=ax)\n",
    "ax.set_ylabel('Indice values')\n",
    "ax.set_title(\"Additive Gaussian - Shapley effects with exact method - $Nv=%d$, $No=%d$, $Ni=%d$\" % (Nv, No, Ni))\n",
    "\n",
    "fig.tight_layout()\n",
    "if savefigs:\n",
    "    fig.savefig('./output/gaussian_shapley_exact.pdf')"
   ]
  },
  {
   "cell_type": "code",
   "execution_count": null,
   "metadata": {
    "collapsed": true
   },
   "outputs": [],
   "source": [
    "# Random method\n",
    "method = 'random'\n",
    "m = 6000\n",
    "Nv = 10**4\n",
    "No = 1\n",
    "Ni = 3\n",
    "\n",
    "index = shapley_indices(method,m,gaussian_model, Xall, Xcond, d, Nv, No, Ni)\n",
    "print('Random method \\n' + str(index) + '\\n')"
   ]
  },
  {
   "cell_type": "markdown",
   "metadata": {},
   "source": [
    "### Ni = 100"
   ]
  },
  {
   "cell_type": "code",
   "execution_count": null,
   "metadata": {
    "collapsed": false
   },
   "outputs": [],
   "source": [
    "def gaussian_model(X):\n",
    "    return np.sum(X,1)\n",
    "\n",
    "d = 3\n",
    "moyenne = np.zeros(3)\n",
    "cov = np.array([[1.0, 0, 0], [0, 1.0, 1.8], [0, 1.8, 4.0]])\n",
    "cov = ot.CovarianceMatrix(cov)\n",
    "\n",
    "def Xall(n):\n",
    "    distribution = ot.Normal(moyenne,cov)\n",
    "    return distribution.getSample(n)\n",
    "\n",
    "def Xcond(n, Sj, Sjc, xjc):\n",
    "    if Sjc is None:\n",
    "        cov_int = np.array(cov)\n",
    "        cov_int = cov_int.take(Sj, axis = 1)\n",
    "        cov_int = cov_int[Sj]        \n",
    "        cov_int = ot.CovarianceMatrix(cov_int)\n",
    "        distribution = ot.Normal(moyenne[Sj],cov_int)\n",
    "        return distribution.getSample(n)\n",
    "    else:\n",
    "        return r_condMVN(n,mean = moyenne, cov = cov, dependent_ind = Sj, given_ind = Sjc, X_given = xjc)\n",
    "\n",
    "# Exact method\n",
    "method = 'exact'\n",
    "m = None\n",
    "Nv = 10**4\n",
    "No = 10**3\n",
    "Ni = 100\n",
    "\n",
    "index = shapley_indices(method,m,gaussian_model, Xall, Xcond, d, Nv, No, Ni)\n",
    "print('Exact method \\n' + str(index) + '\\n\\n')\n",
    "\n",
    "# Random method\n",
    "method = 'random'\n",
    "m = 6000\n",
    "Nv = 10**4\n",
    "No = 1\n",
    "Ni = 100\n",
    "\n",
    "index = shapley_indices(method,m,gaussian_model, Xall, Xcond, d, Nv, No, Ni)\n",
    "print('Random method \\n' + str(index) + '\\n')"
   ]
  }
 ],
 "metadata": {
  "kernelspec": {
   "display_name": "Python 2",
   "language": "python",
   "name": "python2"
  },
  "language_info": {
   "codemirror_mode": {
    "name": "ipython",
    "version": 2
   },
   "file_extension": ".py",
   "mimetype": "text/x-python",
   "name": "python",
   "nbconvert_exporter": "python",
   "pygments_lexer": "ipython2",
   "version": "2.7.13"
  }
 },
 "nbformat": 4,
 "nbformat_minor": 1
}
