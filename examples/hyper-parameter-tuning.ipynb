{
 "cells": [
  {
   "cell_type": "code",
   "execution_count": 1,
   "metadata": {
    "collapsed": true
   },
   "outputs": [],
   "source": [
    "import openturns as ot\n",
    "import numpy as np\n",
    "import pandas as pd\n",
    "import matplotlib.pyplot as plt \n",
    "\n",
    "%matplotlib inline\n",
    "%load_ext autoreload\n",
    "%autoreload 2"
   ]
  },
  {
   "cell_type": "code",
   "execution_count": 2,
   "metadata": {
    "collapsed": true
   },
   "outputs": [],
   "source": [
    "from shapley.tests import Ishigami\n",
    "\n",
    "model = Ishigami()\n",
    "dim = model.dim\n",
    "model.copula = ot.NormalCopula(dim)\n",
    "theta = 0."
   ]
  },
  {
   "cell_type": "code",
   "execution_count": 3,
   "metadata": {
    "collapsed": true
   },
   "outputs": [],
   "source": [
    "from shapley.forest import RandomForestModel\n",
    "ot.RandomGenerator.SetSeed(0)\n",
    "np.random.seed(0)\n",
    "\n",
    "model_budget = 300\n",
    "n_realization = 500\n",
    "\n",
    "model_rf = RandomForestModel(model=model, input_distribution=model.input_distribution)\n",
    "model_rf.generate_sample(n_sample=model_budget, sampling='lhs')\n",
    "model_rf.build(n_estimators=n_realization)"
   ]
  },
  {
   "cell_type": "code",
   "execution_count": 4,
   "metadata": {},
   "outputs": [
    {
     "name": "stdout",
     "output_type": "stream",
     "text": [
      "RandomizedSearchCV took 31.51 seconds for 50 candidates parameter settings.\n"
     ]
    }
   ],
   "source": [
    "from scipy.stats import randint as sp_randint\n",
    "from time import time\n",
    "from sklearn.model_selection import GridSearchCV\n",
    "from sklearn.model_selection import RandomizedSearchCV\n",
    "\n",
    "# specify parameters and distributions to sample from\n",
    "param_dist = {\"max_features\": sp_randint(1, dim),\n",
    "              \"min_samples_split\": sp_randint(2, 11),\n",
    "              \"min_samples_leaf\": sp_randint(1, 11)}\n",
    "\n",
    "n_iter_search = 50\n",
    "n_fold = 5\n",
    "\n",
    "random_search = RandomizedSearchCV(model_rf.reg_rf, param_distributions=param_dist,\n",
    "                                   n_iter=n_iter_search, cv=n_fold, n_jobs=7)\n",
    "\n",
    "X = model_rf.input_sample\n",
    "y = model_rf.output_sample\n",
    "\n",
    "start = time()\n",
    "random_search.fit(X, y)\n",
    "print(\"RandomizedSearchCV took %.2f seconds for %d candidates\"\n",
    "      \" parameter settings.\" % ((time() - start), n_iter_search))"
   ]
  },
  {
   "cell_type": "code",
   "execution_count": 5,
   "metadata": {},
   "outputs": [
    {
     "name": "stdout",
     "output_type": "stream",
     "text": [
      "Model with rank: 1\n",
      "Mean validation score: 0.763 (std: 0.028)\n",
      "Parameters: {'max_depth': None, 'max_features': 2, 'min_samples_leaf': 2, 'min_samples_split': 5}\n",
      "\n",
      "Model with rank: 2\n",
      "Mean validation score: 0.740 (std: 0.029)\n",
      "Parameters: {'max_depth': None, 'max_features': 2, 'min_samples_leaf': 3, 'min_samples_split': 9}\n",
      "\n",
      "Model with rank: 3\n",
      "Mean validation score: 0.735 (std: 0.040)\n",
      "Parameters: {'max_depth': None, 'max_features': 2, 'min_samples_leaf': 4, 'min_samples_split': 8}\n",
      "\n"
     ]
    }
   ],
   "source": [
    "# Utility function to report best scores\n",
    "def report(results, n_top=3):\n",
    "    for i in range(1, n_top + 1):\n",
    "        candidates = np.flatnonzero(results['rank_test_score'] == i)\n",
    "        for candidate in candidates:\n",
    "            print(\"Model with rank: {0}\".format(i))\n",
    "            print(\"Mean validation score: {0:.3f} (std: {1:.3f})\".format(\n",
    "                  results['mean_test_score'][candidate],\n",
    "                  results['std_test_score'][candidate]))\n",
    "            print(\"Parameters: {0}\".format(results['params'][candidate]))\n",
    "            print(\"\")\n",
    "            \n",
    "\n",
    "report(random_search.cv_results_)"
   ]
  },
  {
   "cell_type": "code",
   "execution_count": 8,
   "metadata": {
    "collapsed": true
   },
   "outputs": [],
   "source": [
    "from skopt import BayesSearchCV\n",
    "from skopt.space import Real, Categorical, Integer"
   ]
  },
  {
   "cell_type": "code",
   "execution_count": 18,
   "metadata": {},
   "outputs": [
    {
     "name": "stderr",
     "output_type": "stream",
     "text": [
      "c:\\users\\naz-probook\\onedrive\\git-repo\\scikit-optimize\\skopt\\optimizer\\optimizer.py:366: UserWarning: The objective has been evaluated at this point before.\n",
      "  warnings.warn(\"The objective has been evaluated \"\n",
      "c:\\users\\naz-probook\\onedrive\\git-repo\\scikit-optimize\\skopt\\optimizer\\optimizer.py:366: UserWarning: The objective has been evaluated at this point before.\n",
      "  warnings.warn(\"The objective has been evaluated \"\n",
      "c:\\users\\naz-probook\\onedrive\\git-repo\\scikit-optimize\\skopt\\optimizer\\optimizer.py:366: UserWarning: The objective has been evaluated at this point before.\n",
      "  warnings.warn(\"The objective has been evaluated \"\n",
      "c:\\users\\naz-probook\\onedrive\\git-repo\\scikit-optimize\\skopt\\optimizer\\optimizer.py:366: UserWarning: The objective has been evaluated at this point before.\n",
      "  warnings.warn(\"The objective has been evaluated \"\n",
      "c:\\users\\naz-probook\\onedrive\\git-repo\\scikit-optimize\\skopt\\optimizer\\optimizer.py:366: UserWarning: The objective has been evaluated at this point before.\n",
      "  warnings.warn(\"The objective has been evaluated \"\n",
      "c:\\users\\naz-probook\\onedrive\\git-repo\\scikit-optimize\\skopt\\optimizer\\optimizer.py:366: UserWarning: The objective has been evaluated at this point before.\n",
      "  warnings.warn(\"The objective has been evaluated \"\n",
      "c:\\users\\naz-probook\\onedrive\\git-repo\\scikit-optimize\\skopt\\optimizer\\optimizer.py:366: UserWarning: The objective has been evaluated at this point before.\n",
      "  warnings.warn(\"The objective has been evaluated \"\n",
      "c:\\users\\naz-probook\\onedrive\\git-repo\\scikit-optimize\\skopt\\optimizer\\optimizer.py:366: UserWarning: The objective has been evaluated at this point before.\n",
      "  warnings.warn(\"The objective has been evaluated \"\n",
      "c:\\users\\naz-probook\\onedrive\\git-repo\\scikit-optimize\\skopt\\optimizer\\optimizer.py:366: UserWarning: The objective has been evaluated at this point before.\n",
      "  warnings.warn(\"The objective has been evaluated \"\n",
      "c:\\users\\naz-probook\\onedrive\\git-repo\\scikit-optimize\\skopt\\optimizer\\optimizer.py:366: UserWarning: The objective has been evaluated at this point before.\n",
      "  warnings.warn(\"The objective has been evaluated \"\n",
      "c:\\users\\naz-probook\\onedrive\\git-repo\\scikit-optimize\\skopt\\optimizer\\optimizer.py:366: UserWarning: The objective has been evaluated at this point before.\n",
      "  warnings.warn(\"The objective has been evaluated \"\n",
      "c:\\users\\naz-probook\\onedrive\\git-repo\\scikit-optimize\\skopt\\optimizer\\optimizer.py:366: UserWarning: The objective has been evaluated at this point before.\n",
      "  warnings.warn(\"The objective has been evaluated \"\n",
      "c:\\users\\naz-probook\\onedrive\\git-repo\\scikit-optimize\\skopt\\optimizer\\optimizer.py:366: UserWarning: The objective has been evaluated at this point before.\n",
      "  warnings.warn(\"The objective has been evaluated \"\n",
      "c:\\users\\naz-probook\\onedrive\\git-repo\\scikit-optimize\\skopt\\optimizer\\optimizer.py:366: UserWarning: The objective has been evaluated at this point before.\n",
      "  warnings.warn(\"The objective has been evaluated \"\n",
      "c:\\users\\naz-probook\\onedrive\\git-repo\\scikit-optimize\\skopt\\optimizer\\optimizer.py:366: UserWarning: The objective has been evaluated at this point before.\n",
      "  warnings.warn(\"The objective has been evaluated \"\n",
      "c:\\users\\naz-probook\\onedrive\\git-repo\\scikit-optimize\\skopt\\optimizer\\optimizer.py:366: UserWarning: The objective has been evaluated at this point before.\n",
      "  warnings.warn(\"The objective has been evaluated \"\n",
      "c:\\users\\naz-probook\\onedrive\\git-repo\\scikit-optimize\\skopt\\optimizer\\optimizer.py:366: UserWarning: The objective has been evaluated at this point before.\n",
      "  warnings.warn(\"The objective has been evaluated \"\n",
      "c:\\users\\naz-probook\\onedrive\\git-repo\\scikit-optimize\\skopt\\optimizer\\optimizer.py:366: UserWarning: The objective has been evaluated at this point before.\n",
      "  warnings.warn(\"The objective has been evaluated \"\n",
      "c:\\users\\naz-probook\\onedrive\\git-repo\\scikit-optimize\\skopt\\optimizer\\optimizer.py:366: UserWarning: The objective has been evaluated at this point before.\n",
      "  warnings.warn(\"The objective has been evaluated \"\n",
      "c:\\users\\naz-probook\\onedrive\\git-repo\\scikit-optimize\\skopt\\optimizer\\optimizer.py:366: UserWarning: The objective has been evaluated at this point before.\n",
      "  warnings.warn(\"The objective has been evaluated \"\n",
      "c:\\users\\naz-probook\\onedrive\\git-repo\\scikit-optimize\\skopt\\optimizer\\optimizer.py:366: UserWarning: The objective has been evaluated at this point before.\n",
      "  warnings.warn(\"The objective has been evaluated \"\n",
      "c:\\users\\naz-probook\\onedrive\\git-repo\\scikit-optimize\\skopt\\optimizer\\optimizer.py:366: UserWarning: The objective has been evaluated at this point before.\n",
      "  warnings.warn(\"The objective has been evaluated \"\n",
      "c:\\users\\naz-probook\\onedrive\\git-repo\\scikit-optimize\\skopt\\optimizer\\optimizer.py:366: UserWarning: The objective has been evaluated at this point before.\n",
      "  warnings.warn(\"The objective has been evaluated \"\n",
      "c:\\users\\naz-probook\\onedrive\\git-repo\\scikit-optimize\\skopt\\optimizer\\optimizer.py:366: UserWarning: The objective has been evaluated at this point before.\n",
      "  warnings.warn(\"The objective has been evaluated \"\n",
      "c:\\users\\naz-probook\\onedrive\\git-repo\\scikit-optimize\\skopt\\optimizer\\optimizer.py:366: UserWarning: The objective has been evaluated at this point before.\n",
      "  warnings.warn(\"The objective has been evaluated \"\n",
      "c:\\users\\naz-probook\\onedrive\\git-repo\\scikit-optimize\\skopt\\optimizer\\optimizer.py:366: UserWarning: The objective has been evaluated at this point before.\n",
      "  warnings.warn(\"The objective has been evaluated \"\n",
      "c:\\users\\naz-probook\\onedrive\\git-repo\\scikit-optimize\\skopt\\optimizer\\optimizer.py:366: UserWarning: The objective has been evaluated at this point before.\n",
      "  warnings.warn(\"The objective has been evaluated \"\n"
     ]
    },
    {
     "name": "stdout",
     "output_type": "stream",
     "text": [
      "RandomizedSearchCV took 72.45 seconds for 50 candidates parameter settings.\n"
     ]
    }
   ],
   "source": [
    "search_spaces = {\n",
    "    \"max_features\": Integer(1, dim),\n",
    "    \"min_samples_split\": Integer(2, 11),\n",
    "    \"min_samples_leaf\": Integer(1, 11)\n",
    "}\n",
    "random_search = BayesSearchCV(model_rf.reg_rf, search_spaces=search_spaces, optimizer_kwargs={'n_initial_points': 20},\n",
    "                                   n_iter=n_iter_search, cv=n_fold, n_jobs=7)\n",
    "\n",
    "X = model_rf.input_sample\n",
    "y = model_rf.output_sample\n",
    "\n",
    "start = time()\n",
    "random_search.fit(X, y)\n",
    "print(\"RandomizedSearchCV took %.2f seconds for %d candidates\"\n",
    "      \" parameter settings.\" % ((time() - start), n_iter_search))"
   ]
  },
  {
   "cell_type": "code",
   "execution_count": 14,
   "metadata": {},
   "outputs": [
    {
     "data": {
      "text/plain": [
       "{'max_depth': 92,\n",
       " 'max_features': 3,\n",
       " 'min_samples_leaf': 1,\n",
       " 'min_samples_split': 2}"
      ]
     },
     "execution_count": 14,
     "metadata": {},
     "output_type": "execute_result"
    }
   ],
   "source": [
    "random_search.best_params_"
   ]
  },
  {
   "cell_type": "code",
   "execution_count": 16,
   "metadata": {},
   "outputs": [
    {
     "data": {
      "text/plain": [
       "RandomForestRegressor(bootstrap=True, criterion='mse', max_depth=92,\n",
       "           max_features=3, max_leaf_nodes=None, min_impurity_decrease=0.0,\n",
       "           min_impurity_split=None, min_samples_leaf=1,\n",
       "           min_samples_split=2, min_weight_fraction_leaf=0.0,\n",
       "           n_estimators=500, n_jobs=1, oob_score=False, random_state=None,\n",
       "           verbose=0, warm_start=False)"
      ]
     },
     "execution_count": 16,
     "metadata": {},
     "output_type": "execute_result"
    }
   ],
   "source": [
    "    random_search.best_estimator_"
   ]
  }
 ],
 "metadata": {
  "kernelspec": {
   "display_name": "Python 3",
   "language": "python",
   "name": "python3"
  },
  "language_info": {
   "codemirror_mode": {
    "name": "ipython",
    "version": 3
   },
   "file_extension": ".py",
   "mimetype": "text/x-python",
   "name": "python",
   "nbconvert_exporter": "python",
   "pygments_lexer": "ipython3",
   "version": "3.6.2"
  }
 },
 "nbformat": 4,
 "nbformat_minor": 2
}
