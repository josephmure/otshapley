{
 "cells": [
  {
   "cell_type": "code",
   "execution_count": 1,
   "metadata": {},
   "outputs": [],
   "source": [
    "import openturns as ot\n",
    "import numpy as np\n",
    "import pandas as pd\n",
    "import seaborn as sns\n",
    "import matplotlib.pyplot as plt\n",
    "\n",
    "from shapley import SobolIndices, SobolKrigingIndices\n",
    "from shapley.tests import Ishigami\n",
    "from shapley.tests.test_functions import AdditiveGaussian\n",
    "from shapley.plots import set_style_paper, plot_sensitivity_results\n",
    "\n",
    "%load_ext autoreload\n",
    "%autoreload 2\n",
    "\n",
    "%matplotlib inline\n",
    "\n",
    "set_style_paper()\n",
    "\n",
    "savefigs = False\n",
    "ylim = [0., 1.]"
   ]
  },
  {
   "cell_type": "markdown",
   "metadata": {},
   "source": [
    "## The Model"
   ]
  },
  {
   "cell_type": "code",
   "execution_count": 2,
   "metadata": {},
   "outputs": [],
   "source": [
    "dim = 3\n",
    "beta = [1., 1., 1.]\n",
    "gaussian = AdditiveGaussian(dim=dim, beta=beta)\n",
    "model = gaussian\n",
    "\n",
    "theta_12 = -0.5\n",
    "theta_13 = 0.2\n",
    "theta_23 = -0.7\n",
    "sigma = np.identity(dim)\n",
    "sigma[1, 0] = theta_12\n",
    "sigma[0, 1] = theta_12\n",
    "sigma[2, 0] = theta_13\n",
    "sigma[0, 2] = theta_13\n",
    "sigma[2, 1] = theta_23\n",
    "sigma[1, 2] = theta_23\n",
    "\n",
    "copula = ot.NormalCopula(ot.CorrelationMatrix(sigma))\n",
    "model.copula = copula"
   ]
  },
  {
   "cell_type": "code",
   "execution_count": 3,
   "metadata": {
    "collapsed": true
   },
   "outputs": [],
   "source": [
    "ot.RandomGenerator.SetSeed(0)\n",
    "np.random.seed(0)\n",
    "\n",
    "n_sample = 10000\n",
    "\n",
    "# Evaluate the model\n",
    "sobol = SobolIndices(model.input_distribution)\n",
    "sobol.build_uncorrelated_mc_sample(model, n_sample)"
   ]
  },
  {
   "cell_type": "code",
   "execution_count": null,
   "metadata": {},
   "outputs": [],
   "source": [
    "n_boot = 500\n",
    "estimator = 'soboleff2'\n",
    "sobol_results_full = sobol.compute_full_indices(n_boot=n_boot, estimator=estimator)\n",
    "sobol_results_ind = sobol.compute_ind_indices(n_boot=n_boot, estimator=estimator)\n",
    "\n",
    "# Results\n",
    "first_indices_full_mc = sobol_results_full.first_indices\n",
    "total_indices_full_mc = sobol_results_full.total_indices\n",
    "first_indices_ind_mc = sobol_results_ind.first_indices\n",
    "total_indices_ind_mc = sobol_results_ind.total_indices\n",
    "\n",
    "print(\"Full Sobol indices:\", first_indices_full_mc)\n",
    "print(\"Full Total Sobol indices:\", first_indices_full_mc)\n",
    "print(\"Ind Sobol indices:\", first_indices_ind_mc)\n",
    "print(\"Ind Total Sobol indices:\", first_indices_ind_mc)"
   ]
  },
  {
   "cell_type": "code",
   "execution_count": null,
   "metadata": {},
   "outputs": [],
   "source": [
    "fig, ax = plt.subplots(figsize=(8, 4))\n",
    "plot_sensitivity_results(sobol_results_full, ax=ax)\n",
    "ax.set_title(\"Ishigami - Full Sobol indices with Monte-carlo (%s) - $n=%d$\" % (estimator, n_sample))\n",
    "ax.set_ylim(ylim)\n",
    "fig.tight_layout()\n",
    "if savefigs:\n",
    "    fig.savefig('./output/ishigami_sobol_MC.pdf')"
   ]
  },
  {
   "cell_type": "code",
   "execution_count": null,
   "metadata": {},
   "outputs": [],
   "source": [
    "fig, ax = plt.subplots(figsize=(8, 4))\n",
    "plot_sensitivity_results(sobol_results_ind, ax=ax)\n",
    "ax.set_title(\"Ishigami - Ind Sobol indices with Monte-carlo (%s) - $n=%d$\" % (estimator, n_sample))\n",
    "ax.set_ylim(ylim)\n",
    "fig.tight_layout()\n",
    "if savefigs:\n",
    "    fig.savefig('./output/ishigami_sobol_MC.pdf')"
   ]
  },
  {
   "cell_type": "code",
   "execution_count": null,
   "metadata": {
    "collapsed": true
   },
   "outputs": [],
   "source": []
  }
 ],
 "metadata": {
  "kernelspec": {
   "display_name": "Python 3",
   "language": "python",
   "name": "python3"
  },
  "language_info": {
   "codemirror_mode": {
    "name": "ipython",
    "version": 3
   },
   "file_extension": ".py",
   "mimetype": "text/x-python",
   "name": "python",
   "nbconvert_exporter": "python",
   "pygments_lexer": "ipython3",
   "version": "3.6.2"
  }
 },
 "nbformat": 4,
 "nbformat_minor": 2
}
