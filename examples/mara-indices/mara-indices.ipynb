{
 "cells": [
  {
   "cell_type": "code",
   "execution_count": 1,
   "metadata": {
    "collapsed": true
   },
   "outputs": [],
   "source": [
    "import openturns as ot\n",
    "import numpy as np\n",
    "import pandas as pd\n",
    "import seaborn as sns\n",
    "import matplotlib.pyplot as plt\n",
    "\n",
    "\n",
    "from shapley import SobolIndices, SobolKrigingIndices, create_df_from_gp_indices, create_df_from_mc_indices\n",
    "from shapley.tests import ishigami, ishigami_true_indices, additive_linear\n",
    "from shapley.plots import set_style_paper, plot_violin, matrix_plot\n",
    "\n",
    "import time\n",
    "\n",
    "%load_ext autoreload\n",
    "%autoreload 2\n",
    "\n",
    "%matplotlib inline"
   ]
  },
  {
   "cell_type": "code",
   "execution_count": 49,
   "metadata": {},
   "outputs": [
    {
     "data": {
      "image/png": "[encoded data removed]",
      "text/plain": [
       "<matplotlib.figure.Figure at 0x1dd3fef5828>"
      ]
     },
     "metadata": {},
     "output_type": "display_data"
    }
   ],
   "source": [
    "dim = 3\n",
    "model = additive_linear\n",
    "margins = [ot.Normal()]*dim\n",
    "theta_12 = 0.5\n",
    "theta_13 = 0.8\n",
    "theta_23 = 0.\n",
    "sigma = np.identity(dim)\n",
    "sigma[1, 0] = theta_12\n",
    "sigma[0, 1] = theta_12\n",
    "sigma[2, 0] = theta_13\n",
    "sigma[0, 2] = theta_13\n",
    "sigma[2, 1] = theta_23\n",
    "sigma[1, 2] = theta_23\n",
    "    \n",
    "copula = ot.NormalCopula(ot.CorrelationMatrix(sigma))\n",
    "input_distribution = ot.ComposedDistribution(margins, copula)\n",
    "ot.RandomGenerator.SetSeed(0)\n",
    "    \n",
    "max_budget = 10000\n",
    "n_sample = 10000\n",
    "n_boot = 1\n",
    "ylim = [-0.1, 1.]\n",
    "\n",
    "sobol = SobolIndices(input_distribution)\n",
    "sobol.build_uncorrelated_mc_sample(model, n_sample)\n",
    "#sobol.build_mc_sample(model, n_sample)\n",
    "first_indices_mc = sobol.compute_uncorrelated_indices(n_boot=n_boot, estimator='mara')\n",
    "df_first_indices_mc = create_df_from_mc_indices(first_indices_mc)\n",
    "plot_violin(df_first_indices_mc, with_hue=False, ylim=ylim)"
   ]
  },
  {
   "cell_type": "code",
   "execution_count": 46,
   "metadata": {},
   "outputs": [
    {
     "data": {
      "text/plain": [
       "array([ 0.93861412,  0.95830607,  0.94123792])"
      ]
     },
     "execution_count": 46,
     "metadata": {},
     "output_type": "execute_result"
    }
   ],
   "source": [
    "first_indices_mc.mean(axis=1)"
   ]
  },
  {
   "cell_type": "code",
   "execution_count": null,
   "metadata": {
    "collapsed": true
   },
   "outputs": [],
   "source": [
    "\n"
   ]
  }
 ],
 "metadata": {
  "kernelspec": {
   "display_name": "Python 3",
   "language": "python",
   "name": "python3"
  },
  "language_info": {
   "codemirror_mode": {
    "name": "ipython",
    "version": 3
   },
   "file_extension": ".py",
   "mimetype": "text/x-python",
   "name": "python",
   "nbconvert_exporter": "python",
   "pygments_lexer": "ipython3",
   "version": "3.6.2"
  }
 },
 "nbformat": 4,
 "nbformat_minor": 2
}
