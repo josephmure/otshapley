{
 "cells": [
  {
   "cell_type": "markdown",
   "metadata": {
    "collapsed": true
   },
   "source": [
    "# Sobol indices"
   ]
  },
  {
   "cell_type": "code",
   "execution_count": 18,
   "metadata": {},
   "outputs": [
    {
     "name": "stdout",
     "output_type": "stream",
     "text": [
      "The autoreload extension is already loaded. To reload it, use:\n",
      "  %reload_ext autoreload\n"
     ]
    }
   ],
   "source": [
    "import openturns as ot\n",
    "import numpy as np\n",
    "import pandas as pd\n",
    "import statsmodels.api as sm\n",
    "import matplotlib.pyplot as plt \n",
    "\n",
    "%matplotlib inline\n",
    "%load_ext autoreload\n",
    "%autoreload 2"
   ]
  },
  {
   "cell_type": "markdown",
   "metadata": {},
   "source": [
    "## Gaussian Framework"
   ]
  },
  {
   "cell_type": "code",
   "execution_count": 25,
   "metadata": {},
   "outputs": [],
   "source": [
    "from shapley.tests import AdditiveGaussian\n",
    "dim = 2\n",
    "beta = None\n",
    "model = AdditiveGaussian(dim=dim, beta=beta)\n",
    "theta = [0.3]\n",
    "model.copula_parameters = theta\n",
    "\n",
    "if True:\n",
    "    dim = 3\n",
    "    beta = None\n",
    "    model = AdditiveGaussian(dim=dim, beta=beta)\n",
    "    model.margins = [ot.Normal()]*(dim-1) + [ot.Normal(0, 2.)]\n",
    "    theta = [0.4, 0.8, 0.6]\n",
    "    model.copula_parameters = theta"
   ]
  },
  {
   "cell_type": "markdown",
   "metadata": {},
   "source": [
    "### Monte-Carlo estimation using true model"
   ]
  },
  {
   "cell_type": "code",
   "execution_count": 26,
   "metadata": {},
   "outputs": [
    {
     "name": "stdout",
     "output_type": "stream",
     "text": [
      "Max budget: 46000\n",
      "Wall time: 14.2 s\n"
     ]
    }
   ],
   "source": [
    "%%time\n",
    "from shapley import ShapleyIndices\n",
    "ot.RandomGenerator.SetSeed(0)\n",
    "np.random.seed(0)\n",
    "\n",
    "n_perms = None\n",
    "n_var = 10**4\n",
    "n_outer = 10**3\n",
    "n_inner = 3\n",
    "\n",
    "budget_perms = np.math.factorial(dim) if n_perms is None else n_perms\n",
    "max_budget = n_var + n_outer * n_inner * budget_perms * (dim - 1)\n",
    "print('Max budget:', max_budget)\n",
    "\n",
    "shapley = ShapleyIndices(model.input_distribution)\n",
    "shapley.build_sample(model=model, n_perms=n_perms, n_var=n_var, n_outer=n_outer, n_inner=n_inner)"
   ]
  },
  {
   "cell_type": "code",
   "execution_count": 27,
   "metadata": {},
   "outputs": [
    {
     "name": "stdout",
     "output_type": "stream",
     "text": [
      "Wall time: 1.46 s\n"
     ]
    }
   ],
   "source": [
    "%%time\n",
    "ot.RandomGenerator.SetSeed(0)\n",
    "np.random.seed(0)\n",
    "\n",
    "n_boot = 10**3\n",
    "shapley_results = shapley.compute_indices(n_boot=n_boot)"
   ]
  },
  {
   "cell_type": "code",
   "execution_count": 28,
   "metadata": {},
   "outputs": [
    {
     "data": {
      "image/png": "[encoded data removed]",
      "text/plain": [
       "<matplotlib.figure.Figure at 0x2894ff02518>"
      ]
     },
     "metadata": {},
     "output_type": "display_data"
    }
   ],
   "source": [
    "fig = plt.figure(1)\n",
    "fig.subplots_adjust(wspace = 0.5, hspace = 0.7)\n",
    "\n",
    "sm.qqplot(shapley_results.shapley_indices[0], ax =plt.subplot(221))\n",
    "plt.title(\"Normal Q-Q plot for Sh1\")\n",
    "\n",
    "sm.qqplot(shapley_results.shapley_indices[1], ax =plt.subplot(222))\n",
    "plt.title(\"Normal Q-Q plot for Sh2\")\n",
    "\n",
    "sm.qqplot(shapley_results.shapley_indices[2], ax =plt.subplot(223))\n",
    "plt.title(\"Normal Q-Q plot for Sh3\")\n",
    "plt.savefig('./output/qqplot.pdf')"
   ]
  },
  {
   "cell_type": "code",
   "execution_count": null,
   "metadata": {},
   "outputs": [],
   "source": [
    "from shapley.plots import plot_sensitivity_results\n",
    "ylim = [0., 1.]\n",
    "\n",
    "fig, ax = plt.subplots(figsize=(8, 4))\n",
    "plot_sensitivity_results(shapley_results, indice='all', ax=ax)\n",
    "ax.set_title(\"Additive Gaussian $\\\\rho = {0}$ - Shapley Indices - $Nv={1}$, $No={2}$, $Ni={3}$\".format(\n",
    "    theta, n_var, n_outer, n_inner))\n",
    "ax.set_ylim(ylim)\n",
    "fig.tight_layout()"
   ]
  },
  {
   "cell_type": "code",
   "execution_count": null,
   "metadata": {
    "collapsed": true
   },
   "outputs": [],
   "source": [
    "X = np.asarray(model.get_input_sample(2000, 'monte-carlo'))\n",
    "y = model(X)"
   ]
  },
  {
   "cell_type": "code",
   "execution_count": null,
   "metadata": {},
   "outputs": [],
   "source": [
    "%%time\n",
    "from sklearn.ensemble import RandomForestRegressor\n",
    "from shapley.forest import compute_perm_indices, compute_shap_indices\n",
    "n_tree = 100\n",
    "rfq = RandomForestRegressor(n_estimators=n_tree, n_jobs=7)\n",
    "rfq.fit(X, y)"
   ]
  },
  {
   "cell_type": "code",
   "execution_count": null,
   "metadata": {},
   "outputs": [],
   "source": [
    "%%time\n",
    "sobol_permutation = {}\n",
    "for i, indice_type in enumerate(['full', 'ind']):\n",
    "    sobol_permutation[indice_type] = compute_perm_indices(rfq, X, y, model.input_distribution, indice_type=indice_type)\n",
    "    sobol_permutation[indice_type].true_first_indices = model.first_sobol_indices\n",
    "    sobol_permutation[indice_type].true_total_indices = model.total_sobol_indices"
   ]
  },
  {
   "cell_type": "code",
   "execution_count": null,
   "metadata": {},
   "outputs": [],
   "source": [
    "%%time\n",
    "shapley_permutation = compute_shap_indices(rfq, X, y, model.input_distribution)"
   ]
  },
  {
   "cell_type": "code",
   "execution_count": null,
   "metadata": {
    "collapsed": true
   },
   "outputs": [],
   "source": [
    "from shapley.indices import SensitivityResults\n",
    "results_permutation = SensitivityResults()\n",
    "results_permutation.first_indices = sobol_permutation['full']._first_indices\n",
    "results_permutation.total_indices = sobol_permutation['ind']._total_indices\n",
    "results_permutation.shapley_indices = shapley_permutation._shapley_indices\n",
    "results_permutation.true_first_indices = model.first_sobol_indices\n",
    "results_permutation.true_total_indices = model.total_sobol_indices\n",
    "results_permutation.true_shapley_indices = model.shapley_indices"
   ]
  },
  {
   "cell_type": "code",
   "execution_count": null,
   "metadata": {},
   "outputs": [],
   "source": [
    "fig, axes = plt.subplots(1, 2, figsize=(10, 4), sharex=True, sharey=True)\n",
    "indice_type = 'full'\n",
    "ax = axes[0]\n",
    "plot_sensitivity_results(shapley_results, ax=ax)\n",
    "ax.set_title('Monte-carlo sampling')\n",
    "ax = axes[1]\n",
    "plot_sensitivity_results(results_permutation, ax=ax)\n",
    "ax.set_ylabel('')\n",
    "ax.set_title('Random Forest Permutation indices')\n",
    "ax.set_ylim(ylim)\n",
    "fig.tight_layout()\n",
    "fig.savefig('output/gaussian_montecarlo_vs_randomforest.pdf')"
   ]
  },
  {
   "cell_type": "markdown",
   "metadata": {},
   "source": [
    "### Monte-Carlo estimation using a Kriging model"
   ]
  },
  {
   "cell_type": "code",
   "execution_count": null,
   "metadata": {
    "collapsed": true
   },
   "outputs": [],
   "source": [
    "from shapley.kriging import KrigingModel\n",
    "ot.RandomGenerator.SetSeed(0)\n",
    "np.random.seed(0)\n",
    "\n",
    "model_budget = 15\n",
    "sampling = 'lhs'\n",
    "library = 'gpflow'\n",
    "kernel = 'matern'\n",
    "basis = 'linear'\n",
    "\n",
    "model_gp = KrigingModel(model=model, input_distribution=model.input_distribution)\n",
    "model_gp.generate_sample(n_sample=model_budget, sampling=sampling, sampling_type='uniform')\n",
    "model_gp.build(library=library, kernel=kernel, basis_type=basis)"
   ]
  },
  {
   "cell_type": "code",
   "execution_count": null,
   "metadata": {},
   "outputs": [],
   "source": [
    "# The score of the meta_model\n",
    "q2_score_cv_gp = model_gp.compute_score_q2_cv(n_sample=10000, sampling='monte-carlo')\n",
    "print('Q2-score by cross-validation:', q2_score_cv_gp)"
   ]
  },
  {
   "cell_type": "code",
   "execution_count": null,
   "metadata": {},
   "outputs": [],
   "source": [
    "%%time\n",
    "n_realization = 200\n",
    "shapley.build_sample(model=model_gp, n_perms=n_perms, n_var=n_var, n_outer=n_outer, n_inner=n_inner, n_realization=n_realization)"
   ]
  },
  {
   "cell_type": "code",
   "execution_count": null,
   "metadata": {},
   "outputs": [],
   "source": [
    "%%time\n",
    "# Indice estimation\n",
    "shapley_gp_results = shapley.compute_indices(n_boot=n_boot)"
   ]
  },
  {
   "cell_type": "code",
   "execution_count": null,
   "metadata": {},
   "outputs": [],
   "source": [
    "fig, ax = plt.subplots(figsize=(8, 4))\n",
    "plot_sensitivity_results(shapley_gp_results, indice='all', ax=ax)\n",
    "ax.set_title(\"Additive Gaussian $\\\\rho = {0}$ - Kriging Indices - $Nv={1}$, $No={2}$, $Ni={3}$\".format(\n",
    "    theta, n_var, n_outer, n_inner))\n",
    "ax.set_ylim(ylim)\n",
    "fig.tight_layout()"
   ]
  },
  {
   "cell_type": "code",
   "execution_count": null,
   "metadata": {},
   "outputs": [],
   "source": [
    "fig, axes = plt.subplots(3, 1, figsize=(6, 8), sharex=True, sharey=True)\n",
    "\n",
    "ax = axes[0]\n",
    "plot_sensitivity_results(shapley_gp_results, indice='first', ax=ax)\n",
    "ax.set_ylim(ylim)\n",
    "ax.set_xlabel('')\n",
    "ax.set_ylabel('First Sobol indices')\n",
    "ax.legend(loc=2)\n",
    "\n",
    "ax = axes[1]\n",
    "plot_sensitivity_results(shapley_gp_results, indice='total', ax=ax)\n",
    "ax.set_ylim(ylim)\n",
    "ax.legend(loc=2)\n",
    "ax.set_xlabel('')\n",
    "ax.set_ylabel('Total Sobol indices')\n",
    "\n",
    "ax = axes[2]\n",
    "plot_sensitivity_results(shapley_gp_results, indice='shapley', ax=ax)\n",
    "ax.set_ylim(ylim)\n",
    "ax.legend(loc=2)\n",
    "ax.set_ylabel('Shapley effects')\n",
    "\n",
    "fig.tight_layout()"
   ]
  },
  {
   "cell_type": "markdown",
   "metadata": {},
   "source": [
    "### Monte-Carlo estimation using a Random Forest model"
   ]
  },
  {
   "cell_type": "code",
   "execution_count": null,
   "metadata": {
    "collapsed": true
   },
   "outputs": [],
   "source": [
    "from shapley.forest import RandomForestModel\n",
    "ot.RandomGenerator.SetSeed(0)\n",
    "np.random.seed(0)\n",
    "\n",
    "model_rf = RandomForestModel(model=model, input_distribution=model.input_distribution)\n",
    "model_rf.generate_sample(n_sample=model_budget, sampling=sampling, sampling_type='uniform')\n",
    "model_rf.build(n_realization, method='random-forest')"
   ]
  },
  {
   "cell_type": "code",
   "execution_count": null,
   "metadata": {
    "collapsed": true
   },
   "outputs": [],
   "source": [
    "# The score of the meta_model\n",
    "q2_score_cv_rf = model_rf.compute_score_q2_cv(n_sample=10000, sampling='monte-carlo')\n",
    "print('Q2-score by cross-validation:', q2_score_cv_rf)"
   ]
  },
  {
   "cell_type": "code",
   "execution_count": null,
   "metadata": {
    "collapsed": true
   },
   "outputs": [],
   "source": [
    "%%time\n",
    "shapley.build_sample(model=model_rf, n_perms=n_perms, n_var=n_var, n_outer=n_outer, n_inner=n_inner, n_realization=n_realization)"
   ]
  },
  {
   "cell_type": "code",
   "execution_count": null,
   "metadata": {
    "collapsed": true
   },
   "outputs": [],
   "source": [
    "%%time\n",
    "shapley_rf_results = shapley.compute_indices(n_boot=n_boot)"
   ]
  },
  {
   "cell_type": "code",
   "execution_count": null,
   "metadata": {
    "collapsed": true
   },
   "outputs": [],
   "source": [
    "fig, ax = plt.subplots(figsize=(8, 4))\n",
    "plot_sensitivity_results(shapley_rf_results, indice='all', ax=ax)\n",
    "ax.set_title(\"Additive Gaussian $\\\\rho = {0}$ - Kriging Indices - $Nv={1}$, $No={2}$, $Ni={3}$\".format(\n",
    "    theta, n_var, n_outer, n_inner))\n",
    "ax.set_ylim(ylim)\n",
    "fig.tight_layout()"
   ]
  },
  {
   "cell_type": "code",
   "execution_count": null,
   "metadata": {
    "collapsed": true
   },
   "outputs": [],
   "source": [
    "fig, axes = plt.subplots(3, 1, figsize=(6, 8), sharex=True, sharey=True)\n",
    "\n",
    "ax = axes[0]\n",
    "plot_sensitivity_results(shapley_rf_results, indice='first', ax=ax)\n",
    "ax.set_ylim(ylim)\n",
    "ax.set_xlabel('')\n",
    "ax.set_ylabel('First Sobol indices')\n",
    "ax.legend(loc=2)\n",
    "\n",
    "ax = axes[1]\n",
    "plot_sensitivity_results(shapley_rf_results, indice='total', ax=ax)\n",
    "ax.set_ylim(ylim)\n",
    "ax.legend(loc=2)\n",
    "ax.set_xlabel('')\n",
    "ax.set_ylabel('Total Sobol indices')\n",
    "\n",
    "ax = axes[2]\n",
    "plot_sensitivity_results(shapley_rf_results, indice='shapley', ax=ax)\n",
    "ax.set_ylim(ylim)\n",
    "ax.legend(loc=2)\n",
    "ax.set_ylabel('Shapley effects')\n",
    "\n",
    "fig.tight_layout()"
   ]
  }
 ],
 "metadata": {
  "kernelspec": {
   "display_name": "Python 3",
   "language": "python",
   "name": "python3"
  },
  "language_info": {
   "codemirror_mode": {
    "name": "ipython",
    "version": 3
   },
   "file_extension": ".py",
   "mimetype": "text/x-python",
   "name": "python",
   "nbconvert_exporter": "python",
   "pygments_lexer": "ipython3",
   "version": "3.6.1"
  }
 },
 "nbformat": 4,
 "nbformat_minor": 2
}
