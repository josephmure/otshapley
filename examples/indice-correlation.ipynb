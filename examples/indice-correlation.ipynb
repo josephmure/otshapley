{
 "cells": [
  {
   "cell_type": "code",
   "execution_count": 172,
   "metadata": {},
   "outputs": [
    {
     "name": "stdout",
     "output_type": "stream",
     "text": [
      "The autoreload extension is already loaded. To reload it, use:\n",
      "  %reload_ext autoreload\n"
     ]
    }
   ],
   "source": [
    "import openturns as ot\n",
    "import numpy as np\n",
    "import pandas as pd\n",
    "import seaborn as sns\n",
    "import matplotlib.pyplot as plt\n",
    "\n",
    "\n",
    "from shapley import SobolIndices, SobolKrigingIndices, create_df_from_gp_indices, create_df_from_mc_indices\n",
    "from shapley.tests import ishigami, ishigami_true_indices, linear\n",
    "from shapley.plots import set_style_paper, plot_violin, matrix_plot\n",
    "\n",
    "import time\n",
    "\n",
    "%load_ext autoreload\n",
    "%autoreload 2\n",
    "\n",
    "%matplotlib inline"
   ]
  },
  {
   "cell_type": "code",
   "execution_count": 390,
   "metadata": {},
   "outputs": [],
   "source": [
    "dim = 2\n",
    "beta = [1., 1.]\n",
    "model = lambda x: linear(x, beta)\n",
    "margins = [ot.Normal()]*dim\n",
    "margins = [ot.Normal(0, 1.), ot.Normal(0, 1.)]"
   ]
  },
  {
   "cell_type": "code",
   "execution_count": 391,
   "metadata": {},
   "outputs": [],
   "source": [
    "n_theta = 20\n",
    "max_budget = 100000\n",
    "n_sample = int(max_budget/(2*dim))\n",
    "n_boot = 1\n",
    "\n",
    "thetas = np.linspace(-0.99, 0.99, n_theta, endpoint=True)\n",
    "\n",
    "indices_thetas = np.zeros((dim, n_theta))\n",
    "for k, theta in enumerate(thetas):\n",
    "    sigma = np.identity(dim)\n",
    "    sigma[1, 0] = theta\n",
    "    sigma[0, 1] = theta\n",
    "    copula = ot.NormalCopula(ot.CorrelationMatrix(sigma))\n",
    "    input_distribution = ot.ComposedDistribution(margins, copula)\n",
    "    sobol = SobolIndices(input_distribution)\n",
    "    if True:\n",
    "        sobol.build_uncorrelated_mc_sample(model, n_sample)\n",
    "    else:\n",
    "        sobol.build_mc_sample(model, n_sample)\n",
    "    first_indices_mc = sobol.compute_indices(n_boot=n_boot, estimator='sobol')\n",
    "    indices_thetas[:, k] = first_indices_mc.mean(axis=1)"
   ]
  },
  {
   "cell_type": "code",
   "execution_count": 392,
   "metadata": {},
   "outputs": [
    {
     "data": {
      "image/png": "[encoded data removed]",
      "text/plain": [
       "<matplotlib.figure.Figure at 0x243cbd146d8>"
      ]
     },
     "metadata": {},
     "output_type": "display_data"
    }
   ],
   "source": [
    "ylim = [-0.1, 1.1]\n",
    "fig, ax = plt.subplots(figsize=(7, 4))\n",
    "\n",
    "ax.plot(thetas, indices_thetas.T);\n",
    "ax.set_ylim(ylim)\n",
    "fig.tight_layout()"
   ]
  },
  {
   "cell_type": "code",
   "execution_count": null,
   "metadata": {
    "collapsed": true
   },
   "outputs": [],
   "source": []
  }
 ],
 "metadata": {
  "kernelspec": {
   "display_name": "Python 3",
   "language": "python",
   "name": "python3"
  },
  "language_info": {
   "codemirror_mode": {
    "name": "ipython",
    "version": 3
   },
   "file_extension": ".py",
   "mimetype": "text/x-python",
   "name": "python",
   "nbconvert_exporter": "python",
   "pygments_lexer": "ipython3",
   "version": "3.6.2"
  }
 },
 "nbformat": 4,
 "nbformat_minor": 2
}
