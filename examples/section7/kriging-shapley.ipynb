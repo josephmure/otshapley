{
 "cells": [
  {
   "cell_type": "markdown",
   "metadata": {
    "collapsed": true
   },
   "source": [
    "# Sobol indices"
   ]
  },
  {
   "cell_type": "code",
   "execution_count": 1,
   "metadata": {},
   "outputs": [],
   "source": [
    "import openturns as ot\n",
    "import numpy as np\n",
    "import pandas as pd\n",
    "import matplotlib.pyplot as plt \n",
    "from shapley.plots import set_style_paper, plot_sensitivity_results\n",
    "set_style_paper()\n",
    "\n",
    "%matplotlib inline\n",
    "%load_ext autoreload\n",
    "%autoreload 2"
   ]
  },
  {
   "cell_type": "markdown",
   "metadata": {},
   "source": [
    "## Gaussian Framework"
   ]
  },
  {
   "cell_type": "code",
   "execution_count": 2,
   "metadata": {},
   "outputs": [],
   "source": [
    "from shapley.tests import AdditiveGaussian, Ishigami\n",
    "\n",
    "Model = Ishigami\n",
    "\n",
    "if Model == AdditiveGaussian:\n",
    "    dim = 3\n",
    "    beta = None\n",
    "    model = Model(dim=dim, beta=beta)\n",
    "    model.margins = [ot.Normal()]*(dim-1) + [ot.Normal(0, 2.)]\n",
    "    theta = [0., 0., 0.7]\n",
    "    model.copula_parameters = theta\n",
    "elif Model == Ishigami:\n",
    "    model = Model()\n",
    "    dim = model.dim\n",
    "    model.copula = ot.NormalCopula(dim)\n",
    "    theta = [0., 0., 0.]"
   ]
  },
  {
   "cell_type": "markdown",
   "metadata": {},
   "source": [
    "### Monte-Carlo estimation using true model"
   ]
  },
  {
   "cell_type": "code",
   "execution_count": 3,
   "metadata": {},
   "outputs": [
    {
     "name": "stdout",
     "output_type": "stream",
     "text": [
      "Max budget: 4600\n",
      "Wall time: 1.27 s\n"
     ]
    }
   ],
   "source": [
    "%%time\n",
    "from shapley import ShapleyIndices\n",
    "\n",
    "# for the AdditiveGaussian model\n",
    "# ot.RandomGenerator.SetSeed(1105)\n",
    "# np.random.seed(1105)\n",
    "\n",
    "# for the Ishigami model\n",
    "ot.RandomGenerator.SetSeed(10)\n",
    "np.random.seed(10)\n",
    "\n",
    "n_perms = None\n",
    "n_var = 1000\n",
    "n_outer = 100\n",
    "n_inner = 3\n",
    "\n",
    "budget_perms = np.math.factorial(dim) if n_perms is None else n_perms\n",
    "max_budget = n_var + n_outer * n_inner * budget_perms * (dim - 1)\n",
    "print('Max budget:', max_budget)\n",
    "\n",
    "shapley = ShapleyIndices(model.input_distribution)\n",
    "shapley.build_sample(model=model, n_perms=n_perms, n_var=n_var, n_outer=n_outer, n_inner=n_inner)"
   ]
  },
  {
   "cell_type": "code",
   "execution_count": 4,
   "metadata": {},
   "outputs": [
    {
     "name": "stdout",
     "output_type": "stream",
     "text": [
      "Wall time: 212 ms\n"
     ]
    }
   ],
   "source": [
    "%%time\n",
    "#ot.RandomGenerator.SetSeed(0)\n",
    "#np.random.seed(0)\n",
    "\n",
    "n_boot = 500\n",
    "shapley_results = shapley.compute_indices(n_boot=n_boot)\n",
    "shapley_results._first_indices = None\n",
    "shapley_results._total_indices = None"
   ]
  },
  {
   "cell_type": "code",
   "execution_count": 5,
   "metadata": {},
   "outputs": [
    {
     "data": {
      "image/png": "[encoded data removed]",
      "text/plain": [
       "<matplotlib.figure.Figure at 0x20ba8ea0518>"
      ]
     },
     "metadata": {},
     "output_type": "display_data"
    }
   ],
   "source": [
    "from shapley.plots import plot_sensitivity_results\n",
    "ylim = [0., 1.]\n",
    "\n",
    "fig, ax = plt.subplots(figsize=(8, 4))\n",
    "plot_sensitivity_results(shapley_results, indice='all', ax=ax)\n",
    "ax.set_title(\"{} model - $N_v={}$, $N_o={}$, $N_i={}$\".format(\n",
    "    model.name, n_var, n_outer, n_inner))\n",
    "ax.set_ylim(ylim)\n",
    "fig.tight_layout()"
   ]
  },
  {
   "cell_type": "markdown",
   "metadata": {},
   "source": [
    "### Monte-Carlo estimation using a Kriging model"
   ]
  },
  {
   "cell_type": "code",
   "execution_count": 9,
   "metadata": {},
   "outputs": [
    {
     "name": "stdout",
     "output_type": "stream",
     "text": [
      "Q2-score by cross-validation: 0.983746990361\n"
     ]
    }
   ],
   "source": [
    "from shapley.kriging import KrigingModel\n",
    "\n",
    "# for the AdditiveGaussian model\n",
    "# ot.RandomGenerator.SetSeed(119)\n",
    "# np.random.seed(119)\n",
    "\n",
    "# for the Ishigami model\n",
    "seed = 5894\n",
    "ot.RandomGenerator.SetSeed(seed)\n",
    "np.random.seed(seed)\n",
    "\n",
    "if Model == AdditiveGaussian:\n",
    "    model_budget = 10\n",
    "    library = 'sklearn'\n",
    "elif Model == Ishigami:\n",
    "    model_budget = 200\n",
    "    library = 'gpflow'\n",
    "\n",
    "sampling = 'lhs'\n",
    "kernel = 'RBF'\n",
    "basis = 'linear'\n",
    "\n",
    "model_gp = KrigingModel(model=model, input_distribution=model.input_distribution)\n",
    "model_gp.generate_sample(n_sample=model_budget, sampling=sampling, sampling_type='uniform')\n",
    "model_gp.build(library=library, kernel=kernel, basis_type=basis)\n",
    "\n",
    "# The score of the meta_model\n",
    "q2_score_cv_gp = model_gp.compute_score_q2_cv(n_sample=10000, sampling='monte-carlo')\n",
    "print('Q2-score by cross-validation:', q2_score_cv_gp)"
   ]
  },
  {
   "cell_type": "code",
   "execution_count": 41,
   "metadata": {},
   "outputs": [
    {
     "name": "stdout",
     "output_type": "stream",
     "text": [
      "Max budget: 26600\n"
     ]
    }
   ],
   "source": [
    "# for the AdditiveGaussian model\n",
    "# ot.RandomGenerator.SetSeed(1105)\n",
    "# np.random.seed(1105)\n",
    "\n",
    "# for the Ishigami model\n",
    "ot.RandomGenerator.SetSeed(10)\n",
    "np.random.seed(10)\n",
    "n_var = 5000\n",
    "n_outer = 600\n",
    "max_budget = n_var + n_outer * n_inner * budget_perms * (dim - 1)\n",
    "print('Max budget:', max_budget)"
   ]
  },
  {
   "cell_type": "code",
   "execution_count": null,
   "metadata": {},
   "outputs": [
    {
     "name": "stdout",
     "output_type": "stream",
     "text": [
      "Wall time: 11min 16s\n"
     ]
    }
   ],
   "source": [
    "%%time\n",
    "n_realization = 300\n",
    "shapley.build_sample(model=model_gp, n_perms=n_perms, n_var=n_var,\n",
    "                     n_outer=n_outer, n_inner=n_inner, n_realization=n_realization)"
   ]
  },
  {
   "cell_type": "code",
   "execution_count": null,
   "metadata": {},
   "outputs": [],
   "source": [
    "%%time\n",
    "#ot.RandomGenerator.SetSeed(0)\n",
    "#np.random.seed(0)\n",
    "\n",
    "shapley_gp_results = shapley.compute_indices(n_boot=n_boot)\n",
    "shapley_gp_results._first_indices = None\n",
    "shapley_gp_results._total_indices = None"
   ]
  },
  {
   "cell_type": "code",
   "execution_count": null,
   "metadata": {},
   "outputs": [],
   "source": [
    "fig, ax = plt.subplots(figsize=(8, 4))\n",
    "plot_sensitivity_results(shapley_gp_results, indice='shapley', ax=ax)\n",
    "ax.set_title(\"{} model - $N_v={}$, $N_o={}$, $N_i={}$\".format(\n",
    "    model.name, n_var, n_outer, n_inner))\n",
    "ax.set_ylim(ylim)\n",
    "fig.tight_layout()\n",
    "\n",
    "fig.savefig('./output/shapleyGP_%s_decomposition_error_Nv_%d_No_%d_Ni_%d.pdf' % (model.name, n_var, n_outer, n_inner))"
   ]
  },
  {
   "cell_type": "code",
   "execution_count": null,
   "metadata": {},
   "outputs": [],
   "source": [
    "fig, axes = plt.subplots(2, 1, figsize=(6, 6), sharex=True, sharey=True)\n",
    "\n",
    "ax = axes[0]\n",
    "plot_sensitivity_results(shapley_results, indice='all', ax=ax)\n",
    "ax.set_xlabel('')\n",
    "ax.set_ylim(ylim)\n",
    "\n",
    "ax = axes[1]\n",
    "plot_sensitivity_results(shapley_gp_results, indice='all', ax=ax)\n",
    "ax.set_ylim(ylim)\n",
    "#ax.legend([])\n",
    "fig.tight_layout()\n",
    "\n",
    "fig.savefig('./output/shapleyGP_%s_overall_error_Nv_%d_No_%d_Ni_%d.pdf' % (model.name, n_var, n_outer, n_inner))"
   ]
  },
  {
   "cell_type": "code",
   "execution_count": null,
   "metadata": {
    "collapsed": true
   },
   "outputs": [],
   "source": []
  }
 ],
 "metadata": {
  "kernelspec": {
   "display_name": "Python 3",
   "language": "python",
   "name": "python3"
  },
  "language_info": {
   "codemirror_mode": {
    "name": "ipython",
    "version": 3
   },
   "file_extension": ".py",
   "mimetype": "text/x-python",
   "name": "python",
   "nbconvert_exporter": "python",
   "pygments_lexer": "ipython3",
   "version": "3.6.2"
  }
 },
 "nbformat": 4,
 "nbformat_minor": 2
}
