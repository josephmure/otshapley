{
 "cells": [
  {
   "cell_type": "code",
   "execution_count": 1,
   "metadata": {
    "collapsed": true
   },
   "outputs": [],
   "source": [
    "import openturns as ot\n",
    "import numpy as np\n",
    "import pandas as pd\n",
    "import seaborn as sns\n",
    "import matplotlib.pyplot as plt\n",
    "\n",
    "from shapley import ShapleyIndices\n",
    "from shapley.tests import ProductGaussian, AdditiveGaussian\n",
    "from shapley.plots import set_style_paper, plot_sensitivity_results, plot_error, plot_var\n",
    "\n",
    "%load_ext autoreload\n",
    "%autoreload 2\n",
    "\n",
    "%matplotlib inline\n",
    "\n",
    "set_style_paper()\n",
    "\n",
    "savefigs = False\n",
    "ylim = [0, 1.0]"
   ]
  },
  {
   "cell_type": "code",
   "execution_count": 2,
   "metadata": {
    "collapsed": true
   },
   "outputs": [],
   "source": [
    "dim = 2\n",
    "beta = None\n",
    "model = ProductGaussian(dim=dim, beta=beta)\n",
    "model.margins = [ot.Normal()]*dim\n",
    "corr = 0.0\n",
    "theta = [corr]\n",
    "model.copula_parameters = theta\n",
    "\n",
    "if True:\n",
    "    dim = 3\n",
    "    beta = None\n",
    "    model = AdditiveGaussian(dim=dim, beta=beta)\n",
    "    model.margins = [ot.Normal()]*(dim-1) + [ot.Normal(0, 2.)]\n",
    "    corr = -0.6\n",
    "    theta = [0., 0., corr]\n",
    "    model.copula_parameters = theta\n",
    "    \n",
    "true_results = {\n",
    "    'Shapley': model.shapley_indices,\n",
    "    'First Sobol': model.first_sobol_indices,\n",
    "    'Total Sobol': model.total_sobol_indices\n",
    "}"
   ]
  },
  {
   "cell_type": "code",
   "execution_count": 3,
   "metadata": {},
   "outputs": [
    {
     "data": {
      "text/plain": [
       "{'First Sobol': array([ 0.27777778,  0.01111111,  0.54444444]),\n",
       " 'Shapley': array([ 0.27777778,  0.09444444,  0.62777778]),\n",
       " 'Total Sobol': array([ 0.27777778,  0.17777778,  0.71111111])}"
      ]
     },
     "execution_count": 3,
     "metadata": {},
     "output_type": "execute_result"
    }
   ],
   "source": [
    "true_results"
   ]
  },
  {
   "cell_type": "code",
   "execution_count": 17,
   "metadata": {},
   "outputs": [
    {
     "data": {
      "text/plain": [
       "0.2777777777777778"
      ]
     },
     "execution_count": 17,
     "metadata": {},
     "output_type": "execute_result"
    }
   ],
   "source": [
    "rho23 = -0.6\n",
    "sigma_2 = 1. + 1. + 4 + 4*rho23\n",
    "(-1. + (rho23)**2) / ((rho23)**2 - 1.) / sigma_2"
   ]
  },
  {
   "cell_type": "code",
   "execution_count": 3,
   "metadata": {
    "collapsed": true
   },
   "outputs": [],
   "source": [
    "Nv = 10000\n",
    "n_perms = None\n",
    "\n",
    "n_boot = 500\n",
    "n_run = 100\n",
    "\n",
    "if True:\n",
    "    all_Ni = [10]\n",
    "    n_Ni = len(all_Ni)\n",
    "else:\n",
    "    n_Ni = 3\n",
    "    all_Ni = np.linspace(min_Ni, max_Ni, n_Ni, dtype=int)\n",
    "\n",
    "if False:\n",
    "    #all_No = np.asarray([1, 5])\n",
    "    n_No = len(all_No)\n",
    "else:\n",
    "    n_No = 10\n",
    "    min_No = 2\n",
    "    max_No = 100\n",
    "    all_No = np.linspace(min_No, max_No, n_No, dtype=int)"
   ]
  },
  {
   "cell_type": "code",
   "execution_count": 4,
   "metadata": {},
   "outputs": [
    {
     "name": "stdout",
     "output_type": "stream",
     "text": [
      "No: 2 Ni: 10\n",
      "No: 12 Ni: 10\n",
      "No: 23 Ni: 10\n",
      "No: 34 Ni: 10\n",
      "No: 45 Ni: 10\n",
      "No: 56 Ni: 10\n",
      "No: 67 Ni: 10\n",
      "No: 78 Ni: 10\n",
      "No: 89 Ni: 10\n",
      "No: 100 Ni: 10\n"
     ]
    }
   ],
   "source": [
    "ot.RandomGenerator.SetSeed(1)\n",
    "np.random.seed(1)\n",
    "\n",
    "all_shapley_results = np.zeros((n_No, n_Ni, n_run, dim, n_boot))\n",
    "all_first_results = np.zeros((n_No, n_Ni, n_run, dim, n_boot))\n",
    "all_total_results = np.zeros((n_No, n_Ni, n_run, dim, n_boot))\n",
    "all_shapley_indices_SE = np.zeros((n_No, n_Ni, n_run, dim))\n",
    "all_total_indices_SE = np.zeros((n_No, n_Ni, n_run, dim))\n",
    "all_first_indices_SE = np.zeros((n_No, n_Ni, n_run, dim))\n",
    "\n",
    "for i_No, No in enumerate(all_No):\n",
    "    for i_Ni, Ni in enumerate(all_Ni):\n",
    "        print('No:', No, 'Ni:', Ni)\n",
    "        for i_run in range(n_run):\n",
    "            shapley = ShapleyIndices(model.input_distribution)\n",
    "            shapley.build_sample(model=model, n_perms=n_perms, n_var=Nv, n_outer=int(No), n_inner=int(Ni))\n",
    "            shapley_results = shapley.compute_indices(n_boot=n_boot)\n",
    "            all_shapley_results[i_No, i_Ni, i_run] = shapley_results.full_shapley_indices\n",
    "            all_first_results[i_No, i_Ni, i_run] = shapley_results.full_first_indices\n",
    "            all_total_results[i_No, i_Ni, i_run] = shapley_results.full_total_indices\n",
    "            if n_perms is not None:\n",
    "                all_shapley_indices_SE[i_No, i_Ni, i_run] = shapley_results.shapley_indices_SE[:, 0]\n",
    "                all_total_indices_SE[i_No, i_Ni, i_run] = shapley_results.total_indices_SE[:, 0]\n",
    "                all_first_indices_SE[i_No, i_Ni, i_run] = shapley_results.first_indices_SE[:, 0]"
   ]
  },
  {
   "cell_type": "code",
   "execution_count": 6,
   "metadata": {
    "scrolled": false
   },
   "outputs": [
    {
     "data": {
      "image/png": "[encoded data removed]",
      "text/plain": [
       "<matplotlib.figure.Figure at 0x1ede8576e48>"
      ]
     },
     "metadata": {},
     "output_type": "display_data"
    }
   ],
   "source": [
    "# Coverage probability\n",
    "alpha = 0.20\n",
    "legend = False\n",
    "name = 'N_o'\n",
    "\n",
    "if name == 'N_i':\n",
    "    x = all_Ni\n",
    "    x_c = all_No\n",
    "    name_c = 'N_o'\n",
    "    axis = 0\n",
    "else:\n",
    "    x = all_No\n",
    "    x_c = all_Ni\n",
    "    name_c = 'N_i'\n",
    "    axis = 1\n",
    "\n",
    "n = len(x_c)\n",
    "if n > 3:\n",
    "    assert n == 6, \"Only works with n=6\"\n",
    "    fig, axes = plt.subplots(2, int(n/2), figsize=(2*3+3, 6), sharex=True, sharey=True)\n",
    "    lvl = 2\n",
    "else:\n",
    "    fig, axes = plt.subplots(1, n, figsize=(2*n+3, 3.5), sharex=True, sharey=True) \n",
    "    lvl = 1\n",
    "    \n",
    "if n == 1:\n",
    "    axix = [axes]\n",
    "else:\n",
    "    axix = axes.ravel()\n",
    "for i, (N, ax) in enumerate(zip(x_c, axix)):\n",
    "    results = {\n",
    "        'Shapley': all_shapley_results.take(i, axis=axis),\n",
    "        'First Sobol': all_first_results.take(i, axis=axis),\n",
    "        'Total Sobol': all_total_results.take(i, axis=axis)\n",
    "    }\n",
    "    results_SE = {\n",
    "        'Shapley': all_shapley_indices_SE.take(i, axis=axis),\n",
    "        'First Sobol': all_first_indices_SE.take(i, axis=axis),\n",
    "        'Total Sobol': all_total_indices_SE.take(i, axis=axis)\n",
    "    }\n",
    "    if i == n-1:\n",
    "        legend = True\n",
    "        \n",
    "    ax, ax2 = plot_error(results, x, true_results, n_perms=n_perms, results_SE=results_SE, ax=ax, ylim=[0., None], alpha=alpha, loc=5, \n",
    "                         logscale=True, legend=legend)\n",
    "    \n",
    "    if lvl == 1:\n",
    "        ax.set_xlabel('$%s$' % (name))\n",
    "        if i < n-1:\n",
    "            ax2.set_ylabel('')\n",
    "            ax2.set_yticks([])\n",
    "        if i > 0:\n",
    "            ax.set_ylabel('')\n",
    "    else:\n",
    "        if i != 2 and i != n-1:\n",
    "            ax2.set_ylabel('')\n",
    "        if i != 0 and i != 3:\n",
    "            ax.set_ylabel('')\n",
    "        if 2 < i <= n-1:\n",
    "            ax.set_xlabel('$%s$' % (name))\n",
    "        else:\n",
    "            ax.set_xlabel('') \n",
    "        \n",
    "    ax.plot(ax.get_xlim(), [1. - alpha]*2, '-.')\n",
    "    ax.set_title('$%s = %d$' % (name_c, N))\n",
    "    \n",
    "fig.tight_layout()\n",
    "if savefigs:\n",
    "    fig.savefig('./output/gaussian_precision_nNo_%d_nNi_%d_rho_%.2f_Nv_%d_maxNo_%d_maxNi_%d_nrun%d.pdf' % (n_No, n_Ni, corr, Nv, max_No, max_Ni, n_run))"
   ]
  },
  {
   "cell_type": "code",
   "execution_count": 37,
   "metadata": {},
   "outputs": [
    {
     "data": {
      "image/png": "[encoded data removed]",
      "text/plain": [
       "<matplotlib.figure.Figure at 0x1edf0138940>"
      ]
     },
     "metadata": {},
     "output_type": "display_data"
    }
   ],
   "source": [
    "plt.hist(results['First Sobol'].mean(axis=1)[2, 0, 1:], bins=20);"
   ]
  },
  {
   "cell_type": "code",
   "execution_count": null,
   "metadata": {
    "collapsed": true
   },
   "outputs": [],
   "source": []
  },
  {
   "cell_type": "code",
   "execution_count": null,
   "metadata": {
    "collapsed": true
   },
   "outputs": [],
   "source": []
  },
  {
   "cell_type": "code",
   "execution_count": null,
   "metadata": {
    "collapsed": true
   },
   "outputs": [],
   "source": []
  },
  {
   "cell_type": "code",
   "execution_count": null,
   "metadata": {
    "collapsed": true
   },
   "outputs": [],
   "source": []
  },
  {
   "cell_type": "code",
   "execution_count": null,
   "metadata": {
    "collapsed": true
   },
   "outputs": [],
   "source": [
    "legend = False\n",
    "if n > 3:\n",
    "    assert n == 6, \"Only works with n=6\"\n",
    "    fig, axes = plt.subplots(2, int(n/2), figsize=(2*3+3, 6), sharex=True, sharey=True)\n",
    "    lvl = 2\n",
    "else:\n",
    "    fig, axes = plt.subplots(1, n, figsize=(2*n+3, 3.5), sharex=True, sharey=True) \n",
    "    lvl = 1\n",
    "    \n",
    "for i, (N, ax) in enumerate(zip(x_c, axes.ravel())):\n",
    "    results = {\n",
    "        'Shapley': all_shapley_results.take(i, axis=axis),\n",
    "        'First Sobol': all_first_results.take(i, axis=axis),\n",
    "        'Total Sobol': all_total_results.take(i, axis=axis)\n",
    "    }\n",
    "    if i == n-1:\n",
    "        legend = True\n",
    "        \n",
    "    ax = plot_var(results, x, ax=ax, ylim=[0, 1], alpha=alpha, loc=0, logscale=False, legend=legend)\n",
    "    \n",
    "    if lvl == 1:\n",
    "        ax.set_xlabel('$%s$' % (name))\n",
    "        if i > 0:\n",
    "            ax.set_ylabel('')\n",
    "    else:\n",
    "        if i != 0 and i != 3:\n",
    "            ax.set_ylabel('')\n",
    "        if 2 < i <= n-1:\n",
    "            ax.set_xlabel('$%s$' % (name))\n",
    "        else:\n",
    "            ax.set_xlabel('')  \n",
    "    \n",
    "    fig.tight_layout()\n",
    "    ax.set_title('$%s = %d$' % (name_c, N))\n",
    "    if savefigs:\n",
    "        fig.savefig('./output/var_gaussian_precision_nNo_%d_rho_%.2f_Nv_%d_maxNo_%d_maxNi_%d_nrun%d.pdf' % (n_No, corr, Nv, max_No, max_Ni, n_run))"
   ]
  },
  {
   "cell_type": "code",
   "execution_count": null,
   "metadata": {
    "collapsed": true
   },
   "outputs": [],
   "source": []
  }
 ],
 "metadata": {
  "kernelspec": {
   "display_name": "Python 3",
   "language": "python",
   "name": "python3"
  },
  "language_info": {
   "codemirror_mode": {
    "name": "ipython",
    "version": 3
   },
   "file_extension": ".py",
   "mimetype": "text/x-python",
   "name": "python",
   "nbconvert_exporter": "python",
   "pygments_lexer": "ipython3",
   "version": "3.6.1"
  }
 },
 "nbformat": 4,
 "nbformat_minor": 2
}
