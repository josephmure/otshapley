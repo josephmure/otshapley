{
 "cells": [
  {
   "cell_type": "code",
   "execution_count": 1,
   "metadata": {
    "collapsed": true
   },
   "outputs": [],
   "source": [
    "import openturns as ot\n",
    "import numpy as np\n",
    "import pandas as pd\n",
    "import seaborn as sns\n",
    "import matplotlib.pyplot as plt\n",
    "\n",
    "from shapley import ShapleyIndices, ShapleyKrigingIndices, SobolIndices, SobolKrigingIndices\n",
    "from shapley.tests import Ishigami, AdditiveGaussian\n",
    "from shapley.tests.utils import true_gaussian_full_ind_sobol\n",
    "from shapley.plots import set_style_paper, plot_sensitivity_results\n",
    "from shapley.plots import plot_correlation_indices\n",
    "\n",
    "%load_ext autoreload\n",
    "%autoreload 2\n",
    "\n",
    "%matplotlib inline\n",
    "\n",
    "set_style_paper()\n",
    "\n",
    "savefigs = False\n",
    "ylim = [-0.05, 1.05]"
   ]
  },
  {
   "cell_type": "code",
   "execution_count": 2,
   "metadata": {
    "collapsed": true
   },
   "outputs": [],
   "source": [
    "dim = 3\n",
    "beta = None\n",
    "model = AdditiveGaussian(dim=dim, beta=beta)\n",
    "model.margins = [ot.Normal()]*(dim-1) + [ot.Normal(0, 2.)]"
   ]
  },
  {
   "cell_type": "code",
   "execution_count": 84,
   "metadata": {
    "collapsed": true
   },
   "outputs": [],
   "source": [
    "ot.RandomGenerator.SetSeed(0)\n",
    "np.random.seed(0)\n",
    "\n",
    "Nv = 1000\n",
    "No = 20\n",
    "n_test = 10\n",
    "min_Ni = 5\n",
    "max_Ni = 10\n",
    "n_boot = 100"
   ]
  },
  {
   "cell_type": "code",
   "execution_count": 85,
   "metadata": {},
   "outputs": [],
   "source": [
    "all_Ni = np.arange(min_Ni, max_Ni, dtype=int)\n",
    "n_Ni = len(all_Ni)\n",
    "all_results = np.zeros((n_Ni, dim, n_boot))\n",
    "for i_test in range(n_test):\n",
    "    for i, Ni in enumerate(all_Ni):\n",
    "        # Shapley\n",
    "        shapley = ShapleyIndices(model.input_distribution)\n",
    "        shapley.build_mc_sample(model=model, n_perms=None, Nv=Nv, No=No, Ni=Ni)\n",
    "        shapley_results = shapley.compute_indices(n_boot=n_boot)\n",
    "        all_results[i] = shapley_results.full_shapley_indices"
   ]
  },
  {
   "cell_type": "code",
   "execution_count": 67,
   "metadata": {},
   "outputs": [],
   "source": [
    "no_boot_estimation = all_results[:, :, 0]\n",
    "quantiles = np.percentile(all_results[:, :, 1:], [2.5, 97.5], axis=2)\n",
    "error_up = 2*no_boot_estimation - quantiles[0]\n",
    "error_down = 2*no_boot_estimation - quantiles[1]"
   ]
  },
  {
   "cell_type": "code",
   "execution_count": 82,
   "metadata": {},
   "outputs": [
    {
     "data": {
      "text/plain": [
       "array([[ True,  True,  True],\n",
       "       [ True,  True,  True],\n",
       "       [ True,  True,  True],\n",
       "       [ True,  True,  True],\n",
       "       [ True,  True, False]], dtype=bool)"
      ]
     },
     "execution_count": 82,
     "metadata": {},
     "output_type": "execute_result"
    }
   ],
   "source": [
    "true_indices = model.shapley_indices\n",
    "(error_down < true_indices) & (error_up > true_indices)"
   ]
  }
 ],
 "metadata": {
  "kernelspec": {
   "display_name": "Python 3",
   "language": "python",
   "name": "python3"
  },
  "language_info": {
   "codemirror_mode": {
    "name": "ipython",
    "version": 3
   },
   "file_extension": ".py",
   "mimetype": "text/x-python",
   "name": "python",
   "nbconvert_exporter": "python",
   "pygments_lexer": "ipython3",
   "version": "3.6.2"
  }
 },
 "nbformat": 4,
 "nbformat_minor": 2
}
