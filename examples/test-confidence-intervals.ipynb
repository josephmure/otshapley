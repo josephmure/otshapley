{
 "cells": [
  {
   "cell_type": "markdown",
   "metadata": {
    "collapsed": true
   },
   "source": [
    "# Sobol indices"
   ]
  },
  {
   "cell_type": "code",
   "execution_count": 1,
   "metadata": {},
   "outputs": [],
   "source": [
    "import openturns as ot\n",
    "import numpy as np\n",
    "import pandas as pd\n",
    "import matplotlib.pyplot as plt \n",
    "\n",
    "%matplotlib inline\n",
    "%load_ext autoreload\n",
    "%autoreload 2"
   ]
  },
  {
   "cell_type": "markdown",
   "metadata": {},
   "source": [
    "## Gaussian Framework"
   ]
  },
  {
   "cell_type": "code",
   "execution_count": 2,
   "metadata": {},
   "outputs": [],
   "source": [
    "from shapley.tests import AdditiveGaussian, ProductGaussian\n",
    "dim = 2\n",
    "beta = None\n",
    "model = ProductGaussian(dim=dim, beta=beta)\n",
    "theta = [0.8]\n",
    "model.copula_parameters = theta\n",
    "\n",
    "if True:\n",
    "    dim = 3\n",
    "    beta = None\n",
    "    model = AdditiveGaussian(dim=dim, beta=beta)\n",
    "    model.margins = [ot.Normal()]*(dim-1) + [ot.Normal(0, 2.)]\n",
    "    theta = [0., 0., -0.6]\n",
    "    model.copula_parameters = theta"
   ]
  },
  {
   "cell_type": "markdown",
   "metadata": {},
   "source": [
    "### Monte-Carlo estimation using true model"
   ]
  },
  {
   "cell_type": "code",
   "execution_count": 7,
   "metadata": {},
   "outputs": [
    {
     "name": "stdout",
     "output_type": "stream",
     "text": [
      "Max budget: 610000\n",
      "Wall time: 1min\n"
     ]
    }
   ],
   "source": [
    "%%time\n",
    "from shapley import ShapleyIndices\n",
    "#ot.RandomGenerator.SetSeed(0)\n",
    "#np.random.seed(0)\n",
    "\n",
    "n_perms = None\n",
    "n_var = 10000\n",
    "n_outer = 5000\n",
    "n_inner = 10\n",
    "\n",
    "budget_perms = np.math.factorial(dim) if n_perms is None else n_perms\n",
    "max_budget = n_var + n_outer * n_inner * budget_perms * (dim - 1)\n",
    "print('Max budget:', max_budget)\n",
    "\n",
    "shapley = ShapleyIndices(model.input_distribution)\n",
    "shapley.build_sample(model=model, n_perms=n_perms, n_var=n_var, n_outer=n_outer, n_inner=n_inner)"
   ]
  },
  {
   "cell_type": "code",
   "execution_count": 8,
   "metadata": {},
   "outputs": [
    {
     "name": "stdout",
     "output_type": "stream",
     "text": [
      "Wall time: 5.01 s\n"
     ]
    }
   ],
   "source": [
    "%%time\n",
    "#ot.RandomGenerator.SetSeed(0)\n",
    "#np.random.seed(0)\n",
    "\n",
    "n_boot = 500\n",
    "shapley_results = shapley.compute_indices(n_boot=n_boot)"
   ]
  },
  {
   "cell_type": "code",
   "execution_count": 15,
   "metadata": {},
   "outputs": [
    {
     "name": "stdout",
     "output_type": "stream",
     "text": [
      "Cant't compute asymptotical confidence intervals for exact method.\n"
     ]
    },
    {
     "ename": "TypeError",
     "evalue": "'NoneType' object is not subscriptable",
     "output_type": "error",
     "traceback": [
      "\u001b[1;31m---------------------------------------------------------------------------\u001b[0m",
      "\u001b[1;31mTypeError\u001b[0m                                 Traceback (most recent call last)",
      "\u001b[1;32m<ipython-input-15-93fb4d5623e8>\u001b[0m in \u001b[0;36m<module>\u001b[1;34m()\u001b[0m\n\u001b[0;32m      1\u001b[0m \u001b[0mtmp\u001b[0m \u001b[1;33m=\u001b[0m \u001b[0mshapley_results\u001b[0m\u001b[1;33m.\u001b[0m\u001b[0mget_indices_confidence_intervals\u001b[0m\u001b[1;33m(\u001b[0m\u001b[1;36m0.05\u001b[0m\u001b[1;33m)\u001b[0m\u001b[1;33m\u001b[0m\u001b[0m\n\u001b[1;32m----> 2\u001b[1;33m \u001b[0mtmp\u001b[0m\u001b[1;33m[\u001b[0m\u001b[0mtmp\u001b[0m\u001b[1;33m[\u001b[0m\u001b[1;34m'Bounds'\u001b[0m\u001b[1;33m]\u001b[0m \u001b[1;33m==\u001b[0m \u001b[1;34m'Min'\u001b[0m\u001b[1;33m]\u001b[0m\u001b[1;33m\u001b[0m\u001b[0m\n\u001b[0m\u001b[0;32m      3\u001b[0m \u001b[0mtmp\u001b[0m\u001b[1;33m\u001b[0m\u001b[0m\n",
      "\u001b[1;31mTypeError\u001b[0m: 'NoneType' object is not subscriptable"
     ]
    }
   ],
   "source": [
    "tmp = shapley_results.get_indices_confidence_intervals(0.05)\n",
    "tmp[tmp['Bounds'] == 'Min']\n",
    "tmp"
   ]
  },
  {
   "cell_type": "code",
   "execution_count": null,
   "metadata": {},
   "outputs": [],
   "source": []
  },
  {
   "cell_type": "code",
   "execution_count": 13,
   "metadata": {},
   "outputs": [
    {
     "ename": "TypeError",
     "evalue": "'NoneType' object is not subscriptable",
     "output_type": "error",
     "traceback": [
      "\u001b[1;31m---------------------------------------------------------------------------\u001b[0m",
      "\u001b[1;31mTypeError\u001b[0m                                 Traceback (most recent call last)",
      "\u001b[1;32m<ipython-input-13-2aaeb13044d1>\u001b[0m in \u001b[0;36m<module>\u001b[1;34m()\u001b[0m\n\u001b[1;32m----> 1\u001b[1;33m \u001b[0mtmp\u001b[0m\u001b[1;33m[\u001b[0m\u001b[0mtmp\u001b[0m\u001b[1;33m[\u001b[0m\u001b[1;34m'Bounds'\u001b[0m\u001b[1;33m]\u001b[0m \u001b[1;33m==\u001b[0m \u001b[1;34m'Min'\u001b[0m\u001b[1;33m]\u001b[0m\u001b[1;33m[\u001b[0m\u001b[1;34m'Indice values'\u001b[0m\u001b[1;33m]\u001b[0m\u001b[1;33m.\u001b[0m\u001b[0mvalues\u001b[0m \u001b[1;33m<\u001b[0m \u001b[0mshapley_results\u001b[0m\u001b[1;33m.\u001b[0m\u001b[0mtrue_indices\u001b[0m\u001b[1;33m[\u001b[0m\u001b[1;34m'Indice values'\u001b[0m\u001b[1;33m]\u001b[0m\u001b[1;33m.\u001b[0m\u001b[0mvalues\u001b[0m\u001b[1;33m\u001b[0m\u001b[0m\n\u001b[0m",
      "\u001b[1;31mTypeError\u001b[0m: 'NoneType' object is not subscriptable"
     ]
    }
   ],
   "source": [
    "tmp[tmp['Bounds'] == 'Min']['Indice values'].values < shapley_results.true_indices['Indice values'].values"
   ]
  },
  {
   "cell_type": "code",
   "execution_count": 9,
   "metadata": {},
   "outputs": [
    {
     "data": {
      "image/png": "[encoded data removed]",
      "text/plain": [
       "<matplotlib.figure.Figure at 0x17a3a77dd68>"
      ]
     },
     "metadata": {},
     "output_type": "display_data"
    }
   ],
   "source": [
    "from shapley.plots import plot_sensitivity_results\n",
    "ylim = [0., 1.]\n",
    "\n",
    "fig, ax = plt.subplots(figsize=(8, 4))\n",
    "plot_sensitivity_results(shapley_results, indice='all', ax=ax, kind='violin')\n",
    "ax.set_title(\"Additive Gaussian $\\\\rho = {0}$ - Shapley Indices - $Nv={1}$, $No={2}$, $Ni={3}$\".format(\n",
    "    theta, n_var, n_outer, n_inner))\n",
    "ax.set_ylim(ylim)\n",
    "fig.tight_layout()"
   ]
  },
  {
   "cell_type": "code",
   "execution_count": 11,
   "metadata": {},
   "outputs": [
    {
     "data": {
      "text/html": [
       "<div>\n",
       "<style>\n",
       "    .dataframe thead tr:only-child th {\n",
       "        text-align: right;\n",
       "    }\n",
       "\n",
       "    .dataframe thead th {\n",
       "        text-align: left;\n",
       "    }\n",
       "\n",
       "    .dataframe tbody tr th {\n",
       "        vertical-align: top;\n",
       "    }\n",
       "</style>\n",
       "<table border=\"1\" class=\"dataframe\">\n",
       "  <thead>\n",
       "    <tr style=\"text-align: right;\">\n",
       "      <th></th>\n",
       "      <th>Variables</th>\n",
       "      <th>Indices</th>\n",
       "      <th>Indice values</th>\n",
       "    </tr>\n",
       "  </thead>\n",
       "  <tbody>\n",
       "    <tr>\n",
       "      <th>0</th>\n",
       "      <td>$X_{1}$</td>\n",
       "      <td>True first</td>\n",
       "      <td>0.277778</td>\n",
       "    </tr>\n",
       "    <tr>\n",
       "      <th>1</th>\n",
       "      <td>$X_{2}$</td>\n",
       "      <td>True first</td>\n",
       "      <td>0.011111</td>\n",
       "    </tr>\n",
       "    <tr>\n",
       "      <th>2</th>\n",
       "      <td>$X_{3}$</td>\n",
       "      <td>True first</td>\n",
       "      <td>0.544444</td>\n",
       "    </tr>\n",
       "    <tr>\n",
       "      <th>3</th>\n",
       "      <td>$X_{1}$</td>\n",
       "      <td>True total</td>\n",
       "      <td>0.277778</td>\n",
       "    </tr>\n",
       "    <tr>\n",
       "      <th>4</th>\n",
       "      <td>$X_{2}$</td>\n",
       "      <td>True total</td>\n",
       "      <td>0.177778</td>\n",
       "    </tr>\n",
       "    <tr>\n",
       "      <th>5</th>\n",
       "      <td>$X_{3}$</td>\n",
       "      <td>True total</td>\n",
       "      <td>0.711111</td>\n",
       "    </tr>\n",
       "    <tr>\n",
       "      <th>6</th>\n",
       "      <td>$X_{1}$</td>\n",
       "      <td>True shapley</td>\n",
       "      <td>0.277778</td>\n",
       "    </tr>\n",
       "    <tr>\n",
       "      <th>7</th>\n",
       "      <td>$X_{2}$</td>\n",
       "      <td>True shapley</td>\n",
       "      <td>0.094444</td>\n",
       "    </tr>\n",
       "    <tr>\n",
       "      <th>8</th>\n",
       "      <td>$X_{3}$</td>\n",
       "      <td>True shapley</td>\n",
       "      <td>0.627778</td>\n",
       "    </tr>\n",
       "  </tbody>\n",
       "</table>\n",
       "</div>"
      ],
      "text/plain": [
       "  Variables       Indices  Indice values\n",
       "0   $X_{1}$    True first       0.277778\n",
       "1   $X_{2}$    True first       0.011111\n",
       "2   $X_{3}$    True first       0.544444\n",
       "3   $X_{1}$    True total       0.277778\n",
       "4   $X_{2}$    True total       0.177778\n",
       "5   $X_{3}$    True total       0.711111\n",
       "6   $X_{1}$  True shapley       0.277778\n",
       "7   $X_{2}$  True shapley       0.094444\n",
       "8   $X_{3}$  True shapley       0.627778"
      ]
     },
     "execution_count": 11,
     "metadata": {},
     "output_type": "execute_result"
    }
   ],
   "source": [
    "shapley_results.true_indices"
   ]
  },
  {
   "cell_type": "code",
   "execution_count": 21,
   "metadata": {},
   "outputs": [
    {
     "data": {
      "text/plain": [
       "[<matplotlib.lines.Line2D at 0x17a3e79dba8>]"
      ]
     },
     "execution_count": 21,
     "metadata": {},
     "output_type": "execute_result"
    },
    {
     "data": {
      "image/png": "[encoded data removed]",
      "text/plain": [
       "<matplotlib.figure.Figure at 0x17a3e79db38>"
      ]
     },
     "metadata": {},
     "output_type": "display_data"
    }
   ],
   "source": [
    "plt.hist(shapley_results.shapley_indices[-1], bins=100);\n",
    "plt.plot([0.627778]*2, [0, 16])"
   ]
  },
  {
   "cell_type": "code",
   "execution_count": 14,
   "metadata": {
    "collapsed": true
   },
   "outputs": [],
   "source": [
    "X = np.asarray(model.get_input_sample(2000, 'monte-carlo'))\n",
    "y = model(X)"
   ]
  },
  {
   "cell_type": "code",
   "execution_count": 15,
   "metadata": {},
   "outputs": [
    {
     "name": "stdout",
     "output_type": "stream",
     "text": [
      "Wall time: 288 ms\n"
     ]
    }
   ],
   "source": [
    "%%time\n",
    "from sklearn.ensemble import RandomForestRegressor\n",
    "from shapley.forest import compute_perm_indices, compute_shap_indices\n",
    "n_tree = 100\n",
    "rfq = RandomForestRegressor(n_estimators=n_tree, n_jobs=7)\n",
    "rfq.fit(X, y)"
   ]
  },
  {
   "cell_type": "code",
   "execution_count": 16,
   "metadata": {},
   "outputs": [
    {
     "name": "stdout",
     "output_type": "stream",
     "text": [
      "Wall time: 3.78 s\n"
     ]
    }
   ],
   "source": [
    "%%time\n",
    "sobol_permutation = {}\n",
    "for i, indice_type in enumerate(['full', 'ind']):\n",
    "    sobol_permutation[indice_type] = compute_perm_indices(rfq, X, y, model.input_distribution, indice_type=indice_type)\n",
    "    sobol_permutation[indice_type].true_first_indices = model.first_sobol_indices\n",
    "    sobol_permutation[indice_type].true_total_indices = model.total_sobol_indices"
   ]
  },
  {
   "cell_type": "code",
   "execution_count": 17,
   "metadata": {},
   "outputs": [
    {
     "name": "stdout",
     "output_type": "stream",
     "text": [
      "Wall time: 5.28 s\n"
     ]
    }
   ],
   "source": [
    "%%time\n",
    "shapley_permutation = compute_shap_indices(rfq, X, y, model.input_distribution)"
   ]
  },
  {
   "cell_type": "code",
   "execution_count": 20,
   "metadata": {
    "collapsed": true
   },
   "outputs": [],
   "source": [
    "from shapley.indices import SensitivityResults\n",
    "results_permutation = SensitivityResults()\n",
    "results_permutation.first_indices = sobol_permutation['full']._first_indices\n",
    "results_permutation.total_indices = sobol_permutation['ind']._total_indices\n",
    "results_permutation.shapley_indices = shapley_permutation._shapley_indices\n",
    "results_permutation.true_first_indices = model.first_sobol_indices\n",
    "results_permutation.true_total_indices = model.total_sobol_indices\n",
    "results_permutation.true_shapley_indices = model.shapley_indices"
   ]
  },
  {
   "cell_type": "code",
   "execution_count": 21,
   "metadata": {},
   "outputs": [
    {
     "data": {
      "image/png": "[encoded data removed]",
      "text/plain": [
       "<matplotlib.figure.Figure at 0x271980b38d0>"
      ]
     },
     "metadata": {},
     "output_type": "display_data"
    }
   ],
   "source": [
    "fig, axes = plt.subplots(1, 2, figsize=(10, 4), sharex=True, sharey=True)\n",
    "indice_type = 'full'\n",
    "ax = axes[0]\n",
    "plot_sensitivity_results(shapley_results, ax=ax)\n",
    "ax.set_title('Monte-carlo sampling')\n",
    "ax = axes[1]\n",
    "plot_sensitivity_results(results_permutation, ax=ax)\n",
    "ax.set_ylabel('')\n",
    "ax.set_title('Random Forest Permutation indices')\n",
    "ax.set_ylim(ylim)\n",
    "fig.tight_layout()\n",
    "fig.savefig('output/gaussian_montecarlo_vs_randomforest.pdf')"
   ]
  },
  {
   "cell_type": "markdown",
   "metadata": {},
   "source": [
    "### Monte-Carlo estimation using a Kriging model"
   ]
  },
  {
   "cell_type": "code",
   "execution_count": 10,
   "metadata": {
    "collapsed": true
   },
   "outputs": [],
   "source": [
    "from shapley.kriging import KrigingModel\n",
    "ot.RandomGenerator.SetSeed(0)\n",
    "np.random.seed(0)\n",
    "\n",
    "model_budget = 15\n",
    "sampling = 'lhs'\n",
    "library = 'gpflow'\n",
    "kernel = 'matern'\n",
    "basis = 'linear'\n",
    "\n",
    "model_gp = KrigingModel(model=model, input_distribution=model.input_distribution)\n",
    "model_gp.generate_sample(n_sample=model_budget, sampling=sampling, sampling_type='uniform')\n",
    "model_gp.build(library=library, kernel=kernel, basis_type=basis)"
   ]
  },
  {
   "cell_type": "code",
   "execution_count": 11,
   "metadata": {},
   "outputs": [
    {
     "name": "stdout",
     "output_type": "stream",
     "text": [
      "Q2-score by cross-validation: 1.0\n"
     ]
    }
   ],
   "source": [
    "# The score of the meta_model\n",
    "q2_score_cv_gp = model_gp.compute_score_q2_cv(n_sample=10000, sampling='monte-carlo')\n",
    "print('Q2-score by cross-validation:', q2_score_cv_gp)"
   ]
  },
  {
   "cell_type": "code",
   "execution_count": 12,
   "metadata": {},
   "outputs": [
    {
     "name": "stdout",
     "output_type": "stream",
     "text": [
      "Wall time: 1min 37s\n"
     ]
    }
   ],
   "source": [
    "%%time\n",
    "n_realization = 200\n",
    "shapley.build_sample(model=model_gp, n_perms=n_perms, n_var=n_var, n_outer=n_outer, n_inner=n_inner, n_realization=n_realization)"
   ]
  },
  {
   "cell_type": "code",
   "execution_count": 13,
   "metadata": {},
   "outputs": [
    {
     "name": "stdout",
     "output_type": "stream",
     "text": [
      "Wall time: 16.7 s\n"
     ]
    }
   ],
   "source": [
    "%%time\n",
    "# Indice estimation\n",
    "shapley_gp_results = shapley.compute_indices(n_boot=n_boot)"
   ]
  },
  {
   "cell_type": "code",
   "execution_count": 14,
   "metadata": {},
   "outputs": [
    {
     "data": {
      "image/png": "[encoded data removed]",
      "text/plain": [
       "<matplotlib.figure.Figure at 0x26b6c2b2ba8>"
      ]
     },
     "metadata": {},
     "output_type": "display_data"
    }
   ],
   "source": [
    "fig, ax = plt.subplots(figsize=(8, 4))\n",
    "plot_sensitivity_results(shapley_gp_results, indice='all', ax=ax)\n",
    "ax.set_title(\"Additive Gaussian $\\\\rho = {0}$ - Kriging Indices - $Nv={1}$, $No={2}$, $Ni={3}$\".format(\n",
    "    theta, n_var, n_outer, n_inner))\n",
    "ax.set_ylim(ylim)\n",
    "fig.tight_layout()"
   ]
  },
  {
   "cell_type": "code",
   "execution_count": 15,
   "metadata": {},
   "outputs": [
    {
     "data": {
      "image/png": "[encoded data removed]",
      "text/plain": [
       "<matplotlib.figure.Figure at 0x26b04b46ba8>"
      ]
     },
     "metadata": {},
     "output_type": "display_data"
    }
   ],
   "source": [
    "fig, axes = plt.subplots(3, 1, figsize=(6, 8), sharex=True, sharey=True)\n",
    "\n",
    "ax = axes[0]\n",
    "plot_sensitivity_results(shapley_gp_results, indice='first', ax=ax)\n",
    "ax.set_ylim(ylim)\n",
    "ax.set_xlabel('')\n",
    "ax.set_ylabel('First Sobol indices')\n",
    "ax.legend(loc=2)\n",
    "\n",
    "ax = axes[1]\n",
    "plot_sensitivity_results(shapley_gp_results, indice='total', ax=ax)\n",
    "ax.set_ylim(ylim)\n",
    "ax.legend(loc=2)\n",
    "ax.set_xlabel('')\n",
    "ax.set_ylabel('Total Sobol indices')\n",
    "\n",
    "ax = axes[2]\n",
    "plot_sensitivity_results(shapley_gp_results, indice='shapley', ax=ax)\n",
    "ax.set_ylim(ylim)\n",
    "ax.legend(loc=2)\n",
    "ax.set_ylabel('Shapley effects')\n",
    "\n",
    "fig.tight_layout()"
   ]
  },
  {
   "cell_type": "markdown",
   "metadata": {},
   "source": [
    "### Monte-Carlo estimation using a Random Forest model"
   ]
  },
  {
   "cell_type": "code",
   "execution_count": null,
   "metadata": {
    "collapsed": true
   },
   "outputs": [],
   "source": [
    "from shapley.forest import RandomForestModel\n",
    "ot.RandomGenerator.SetSeed(0)\n",
    "np.random.seed(0)\n",
    "\n",
    "model_rf = RandomForestModel(model=model, input_distribution=model.input_distribution)\n",
    "model_rf.generate_sample(n_sample=model_budget, sampling=sampling, sampling_type='uniform')\n",
    "model_rf.build(n_realization, method='random-forest')"
   ]
  },
  {
   "cell_type": "code",
   "execution_count": null,
   "metadata": {
    "collapsed": true
   },
   "outputs": [],
   "source": [
    "# The score of the meta_model\n",
    "q2_score_cv_rf = model_rf.compute_score_q2_cv(n_sample=10000, sampling='monte-carlo')\n",
    "print('Q2-score by cross-validation:', q2_score_cv_rf)"
   ]
  },
  {
   "cell_type": "code",
   "execution_count": null,
   "metadata": {
    "collapsed": true
   },
   "outputs": [],
   "source": [
    "%%time\n",
    "shapley.build_sample(model=model_rf, n_perms=n_perms, n_var=n_var, n_outer=n_outer, n_inner=n_inner, n_realization=n_realization)"
   ]
  },
  {
   "cell_type": "code",
   "execution_count": null,
   "metadata": {
    "collapsed": true
   },
   "outputs": [],
   "source": [
    "%%time\n",
    "shapley_rf_results = shapley.compute_indices(n_boot=n_boot)"
   ]
  },
  {
   "cell_type": "code",
   "execution_count": null,
   "metadata": {
    "collapsed": true
   },
   "outputs": [],
   "source": [
    "fig, ax = plt.subplots(figsize=(8, 4))\n",
    "plot_sensitivity_results(shapley_rf_results, indice='all', ax=ax)\n",
    "ax.set_title(\"Additive Gaussian $\\\\rho = {0}$ - Kriging Indices - $Nv={1}$, $No={2}$, $Ni={3}$\".format(\n",
    "    theta, n_var, n_outer, n_inner))\n",
    "ax.set_ylim(ylim)\n",
    "fig.tight_layout()"
   ]
  },
  {
   "cell_type": "code",
   "execution_count": null,
   "metadata": {
    "collapsed": true
   },
   "outputs": [],
   "source": [
    "fig, axes = plt.subplots(3, 1, figsize=(6, 8), sharex=True, sharey=True)\n",
    "\n",
    "ax = axes[0]\n",
    "plot_sensitivity_results(shapley_rf_results, indice='first', ax=ax)\n",
    "ax.set_ylim(ylim)\n",
    "ax.set_xlabel('')\n",
    "ax.set_ylabel('First Sobol indices')\n",
    "ax.legend(loc=2)\n",
    "\n",
    "ax = axes[1]\n",
    "plot_sensitivity_results(shapley_rf_results, indice='total', ax=ax)\n",
    "ax.set_ylim(ylim)\n",
    "ax.legend(loc=2)\n",
    "ax.set_xlabel('')\n",
    "ax.set_ylabel('Total Sobol indices')\n",
    "\n",
    "ax = axes[2]\n",
    "plot_sensitivity_results(shapley_rf_results, indice='shapley', ax=ax)\n",
    "ax.set_ylim(ylim)\n",
    "ax.legend(loc=2)\n",
    "ax.set_ylabel('Shapley effects')\n",
    "\n",
    "fig.tight_layout()"
   ]
  }
 ],
 "metadata": {
  "kernelspec": {
   "display_name": "Python 3",
   "language": "python",
   "name": "python3"
  },
  "language_info": {
   "codemirror_mode": {
    "name": "ipython",
    "version": 3
   },
   "file_extension": ".py",
   "mimetype": "text/x-python",
   "name": "python",
   "nbconvert_exporter": "python",
   "pygments_lexer": "ipython3",
   "version": "3.6.2"
  }
 },
 "nbformat": 4,
 "nbformat_minor": 2
}
